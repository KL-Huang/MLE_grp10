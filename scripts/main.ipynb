{
 "cells": [
  {
   "cell_type": "code",
   "execution_count": 2,
   "id": "b50484d2-bfa4-40b6-82cd-e8bf86187cfd",
   "metadata": {},
   "outputs": [],
   "source": [
    "import argparse\n",
    "import os\n",
    "import glob\n",
    "import pandas as pd\n",
    "import matplotlib.pyplot as plt\n",
    "import numpy as np\n",
    "import random\n",
    "from datetime import datetime, timedelta\n",
    "from dateutil.relativedelta import relativedelta\n",
    "import pprint\n",
    "import pyspark\n",
    "import pyspark.sql.functions as F\n",
    "import time\n",
    "from tqdm import tqdm\n",
    "\n",
    "from pyspark.sql.types import StringType, IntegerType, FloatType, DateType, DoubleType, TimestampType, LongType\n",
    "from pyspark.sql.functions import col, lower, trim, when,row_number, count,date_add, when,to_date\n",
    "from pyspark.sql import Window\n",
    "from pyspark.sql.window import Window\n",
    "\n",
    "import utils.data_processing_bronze_table as bronze_processing\n",
    "import utils.data_processing_silver_table as silver_processing\n",
    "import utils.data_processing_gold_feature as gold_processing_feature\n",
    "import utils.data_processing_gold_label_table as gold_label_processing"
   ]
  },
  {
   "cell_type": "markdown",
   "id": "37c91bb1-bcf0-4195-90f3-dc88806ebf8c",
   "metadata": {},
   "source": [
    "## set up pyspark session"
   ]
  },
  {
   "cell_type": "code",
   "execution_count": 3,
   "id": "1a822439-ea37-4662-a83e-1a4d48b1ab8c",
   "metadata": {},
   "outputs": [
    {
     "name": "stdout",
     "output_type": "stream",
     "text": [
      "\n",
      "\n",
      "---starting job---\n",
      "\n",
      "\n"
     ]
    },
    {
     "name": "stderr",
     "output_type": "stream",
     "text": [
      "WARNING: Using incubator modules: jdk.incubator.vector\n",
      "Using Spark's default log4j profile: org/apache/spark/log4j2-defaults.properties\n",
      "Setting default log level to \"WARN\".\n",
      "To adjust logging level use sc.setLogLevel(newLevel). For SparkR, use setLogLevel(newLevel).\n",
      "25/06/18 18:08:51 WARN NativeCodeLoader: Unable to load native-hadoop library for your platform... using builtin-java classes where applicable\n"
     ]
    }
   ],
   "source": [
    "print('\\n\\n---starting job---\\n\\n')\n",
    "\n",
    "# Initialize SparkSession\n",
    "spark = pyspark.sql.SparkSession.builder \\\n",
    "    .appName(\"olist_bronze_processing\") \\\n",
    "    .master(\"local[*]\") \\\n",
    "    .getOrCreate()\n",
    "\n",
    "# Set log level to ERROR to hide warnings\n",
    "spark.sparkContext.setLogLevel(\"ERROR\")"
   ]
  },
  {
   "cell_type": "markdown",
   "id": "1c5cddd1-b87b-42dd-8158-8ecf9bd6b839",
   "metadata": {
    "jp-MarkdownHeadingCollapsed": true
   },
   "source": [
    "## Build Bronze Table"
   ]
  },
  {
   "cell_type": "markdown",
   "id": "b17e56e7-671b-4582-a4a7-9d551e83a226",
   "metadata": {},
   "source": [
    "Important note: There is some discrepancy in where the datamart folder is created when the main.py script is run vs this Jupyter notebook is run.\n",
    "\n",
    "* This Jupyter notebook will create the datamart folder inside `scripts` folder and output the bronze tables there.\n",
    "* When you run the main.py script, the datamart folder will be created inside `app` folder (i.e. root) and output the bronze tables there.\n",
    "\n",
    "Need to have team meeting to resolve this\n",
    "\n",
    "I chose to run the main.py script, therefore subsequent code on Silver Tables built references the path from `app` folder to access the bronze tables."
   ]
  },
  {
   "cell_type": "code",
   "execution_count": 5,
   "id": "99b6d22e-b746-4247-80a9-ecdd471b7dc4",
   "metadata": {},
   "outputs": [
    {
     "name": "stdout",
     "output_type": "stream",
     "text": [
      "Bronze root directory: datamart/bronze\n"
     ]
    }
   ],
   "source": [
    "# Create bronze root directory\n",
    "bronze_root = \"datamart/bronze\"\n",
    "os.makedirs(bronze_root, exist_ok=True)\n",
    "print(f\"Bronze root directory: {bronze_root}\")"
   ]
  },
  {
   "cell_type": "code",
   "execution_count": 8,
   "id": "20351f49-7a7b-4556-94af-db3b92c37668",
   "metadata": {
    "scrolled": true
   },
   "outputs": [
    {
     "name": "stdout",
     "output_type": "stream",
     "text": [
      "\n",
      "Processing Olist datasets...\n",
      "\n",
      "loaded data/olist_customers_dataset.csv  →  99,441 rows\n"
     ]
    },
    {
     "name": "stderr",
     "output_type": "stream",
     "text": [
      "                                                                                \r"
     ]
    },
    {
     "name": "stdout",
     "output_type": "stream",
     "text": [
      "saved bronze: datamart/bronze/customers/bronze_olist_customers.parquet\n",
      "-------------------------------------------------\n",
      "loaded data/olist_geolocation_dataset.csv  →  1,000,325 rows\n"
     ]
    },
    {
     "name": "stderr",
     "output_type": "stream",
     "text": [
      "                                                                                \r"
     ]
    },
    {
     "name": "stdout",
     "output_type": "stream",
     "text": [
      "saved bronze: datamart/bronze/geolocation/bronze_olist_geolocation.parquet\n",
      "-------------------------------------------------\n",
      "loaded data/olist_order_items_dataset.csv  →  112,650 rows\n"
     ]
    },
    {
     "name": "stderr",
     "output_type": "stream",
     "text": [
      "                                                                                \r"
     ]
    },
    {
     "name": "stdout",
     "output_type": "stream",
     "text": [
      "saved bronze: datamart/bronze/order_items/bronze_olist_order_items.parquet\n",
      "-------------------------------------------------\n",
      "-------------------------------------------------\n",
      "-------------------------------------------------\n",
      "loaded data/olist_products_dataset.csv  →  32,951 rows\n"
     ]
    },
    {
     "name": "stderr",
     "output_type": "stream",
     "text": [
      "                                                                                \r"
     ]
    },
    {
     "name": "stdout",
     "output_type": "stream",
     "text": [
      "saved bronze: datamart/bronze/products/bronze_olist_products.parquet\n",
      "-------------------------------------------------\n",
      "loaded data/olist_sellers_dataset.csv  →  3,095 rows\n",
      "saved bronze: datamart/bronze/sellers/bronze_olist_sellers.parquet\n",
      "-------------------------------------------------\n",
      "loaded data/product_category_name_translation.csv  →  72 rows\n"
     ]
    },
    {
     "name": "stderr",
     "output_type": "stream",
     "text": [
      "                                                                                \r"
     ]
    },
    {
     "name": "stdout",
     "output_type": "stream",
     "text": [
      "saved bronze: datamart/bronze/category_translation/bronze_product_category_translation.parquet\n",
      "-------------------------------------------------\n"
     ]
    }
   ],
   "source": [
    "# Process all Olist datasets\n",
    "print(\"\\nProcessing Olist datasets...\\n\")\n",
    "bronze_processing.process_olist_customers_bronze(bronze_root, spark)\n",
    "print('-------------------------------------------------')\n",
    "bronze_processing.process_olist_geolocation_bronze(bronze_root, spark)\n",
    "print('-------------------------------------------------')\n",
    "bronze_processing.process_olist_order_items_bronze(bronze_root, spark)\n",
    "print('-------------------------------------------------')\n",
    "# bronze_processing.process_olist_order_payments_bronze(bronze_root, spark)\n",
    "print('-------------------------------------------------')\n",
    "# bronze_processing.process_olist_order_reviews_bronze(bronze_root, spark)\n",
    "print('-------------------------------------------------')\n",
    "bronze_processing.process_olist_products_bronze(bronze_root, spark)\n",
    "print('-------------------------------------------------')\n",
    "bronze_processing.process_olist_sellers_bronze(bronze_root, spark)\n",
    "print('-------------------------------------------------')\n",
    "bronze_processing.process_product_cat_translation_bronze(bronze_root, spark)\n",
    "print('-------------------------------------------------')"
   ]
  },
  {
   "cell_type": "code",
   "execution_count": 9,
   "id": "10db75df-e10c-477e-9433-c107cf8963bc",
   "metadata": {},
   "outputs": [
    {
     "name": "stderr",
     "output_type": "stream",
     "text": [
      "                                                                                \r"
     ]
    },
    {
     "name": "stdout",
     "output_type": "stream",
     "text": [
      "Day 19_02_2018: 259 rows\n",
      "Saved to: datamart/bronze/orders/bronze_olist_orders_19_02_2018.csv\n"
     ]
    },
    {
     "name": "stderr",
     "output_type": "stream",
     "text": [
      "                                                                                \r"
     ]
    },
    {
     "name": "stdout",
     "output_type": "stream",
     "text": [
      "Day 14_03_2017: 99 rows\n",
      "Saved to: datamart/bronze/orders/bronze_olist_orders_14_03_2017.csv\n"
     ]
    },
    {
     "name": "stderr",
     "output_type": "stream",
     "text": [
      "                                                                                \r"
     ]
    },
    {
     "name": "stdout",
     "output_type": "stream",
     "text": [
      "Day 10_06_2017: 77 rows\n",
      "Saved to: datamart/bronze/orders/bronze_olist_orders_10_06_2017.csv\n"
     ]
    },
    {
     "name": "stderr",
     "output_type": "stream",
     "text": [
      "                                                                                \r"
     ]
    },
    {
     "name": "stdout",
     "output_type": "stream",
     "text": [
      "Day 06_04_2017: 96 rows\n",
      "Saved to: datamart/bronze/orders/bronze_olist_orders_06_04_2017.csv\n"
     ]
    },
    {
     "name": "stderr",
     "output_type": "stream",
     "text": [
      "                                                                                \r"
     ]
    },
    {
     "name": "stdout",
     "output_type": "stream",
     "text": [
      "Day 27_05_2018: 100 rows\n",
      "Saved to: datamart/bronze/orders/bronze_olist_orders_27_05_2018.csv\n"
     ]
    },
    {
     "name": "stderr",
     "output_type": "stream",
     "text": [
      "                                                                                \r"
     ]
    },
    {
     "name": "stdout",
     "output_type": "stream",
     "text": [
      "Day 27_08_2017: 119 rows\n",
      "Saved to: datamart/bronze/orders/bronze_olist_orders_27_08_2017.csv\n"
     ]
    },
    {
     "name": "stderr",
     "output_type": "stream",
     "text": [
      "                                                                                \r"
     ]
    },
    {
     "name": "stdout",
     "output_type": "stream",
     "text": [
      "Day 10_02_2018: 179 rows\n",
      "Saved to: datamart/bronze/orders/bronze_olist_orders_10_02_2018.csv\n"
     ]
    },
    {
     "name": "stderr",
     "output_type": "stream",
     "text": [
      "                                                                                \r"
     ]
    },
    {
     "name": "stdout",
     "output_type": "stream",
     "text": [
      "Day 03_08_2018: 314 rows\n",
      "Saved to: datamart/bronze/orders/bronze_olist_orders_03_08_2018.csv\n"
     ]
    },
    {
     "name": "stderr",
     "output_type": "stream",
     "text": [
      "                                                                                \r"
     ]
    },
    {
     "name": "stdout",
     "output_type": "stream",
     "text": [
      "Day 18_10_2017: 179 rows\n",
      "Saved to: datamart/bronze/orders/bronze_olist_orders_18_10_2017.csv\n"
     ]
    },
    {
     "name": "stderr",
     "output_type": "stream",
     "text": [
      "                                                                                \r"
     ]
    },
    {
     "name": "stdout",
     "output_type": "stream",
     "text": [
      "Day 27_07_2017: 124 rows\n",
      "Saved to: datamart/bronze/orders/bronze_olist_orders_27_07_2017.csv\n"
     ]
    },
    {
     "name": "stderr",
     "output_type": "stream",
     "text": [
      "                                                                                \r"
     ]
    },
    {
     "name": "stdout",
     "output_type": "stream",
     "text": [
      "Day 20_05_2018: 161 rows\n",
      "Saved to: datamart/bronze/orders/bronze_olist_orders_20_05_2018.csv\n"
     ]
    },
    {
     "name": "stderr",
     "output_type": "stream",
     "text": [
      "                                                                                \r"
     ]
    },
    {
     "name": "stdout",
     "output_type": "stream",
     "text": [
      "Day 22_08_2018: 187 rows\n",
      "Saved to: datamart/bronze/orders/bronze_olist_orders_22_08_2018.csv\n"
     ]
    },
    {
     "name": "stderr",
     "output_type": "stream",
     "text": [
      "                                                                                \r"
     ]
    },
    {
     "name": "stdout",
     "output_type": "stream",
     "text": [
      "Day 02_02_2018: 212 rows\n",
      "Saved to: datamart/bronze/orders/bronze_olist_orders_02_02_2018.csv\n"
     ]
    },
    {
     "name": "stderr",
     "output_type": "stream",
     "text": [
      "                                                                                \r"
     ]
    },
    {
     "name": "stdout",
     "output_type": "stream",
     "text": [
      "Day 06_08_2017: 109 rows\n",
      "Saved to: datamart/bronze/orders/bronze_olist_orders_06_08_2017.csv\n"
     ]
    },
    {
     "name": "stderr",
     "output_type": "stream",
     "text": [
      "                                                                                \r"
     ]
    },
    {
     "name": "stdout",
     "output_type": "stream",
     "text": [
      "Day 17_03_2017: 65 rows\n",
      "Saved to: datamart/bronze/orders/bronze_olist_orders_17_03_2017.csv\n"
     ]
    },
    {
     "name": "stderr",
     "output_type": "stream",
     "text": [
      "                                                                                \r"
     ]
    },
    {
     "name": "stdout",
     "output_type": "stream",
     "text": [
      "Day 16_04_2017: 49 rows\n",
      "Saved to: datamart/bronze/orders/bronze_olist_orders_16_04_2017.csv\n"
     ]
    },
    {
     "name": "stderr",
     "output_type": "stream",
     "text": [
      "                                                                                \r"
     ]
    },
    {
     "name": "stdout",
     "output_type": "stream",
     "text": [
      "Day 17_03_2018: 180 rows\n",
      "Saved to: datamart/bronze/orders/bronze_olist_orders_17_03_2018.csv\n"
     ]
    },
    {
     "name": "stderr",
     "output_type": "stream",
     "text": [
      "                                                                                \r"
     ]
    },
    {
     "name": "stdout",
     "output_type": "stream",
     "text": [
      "Day 06_10_2017: 130 rows\n",
      "Saved to: datamart/bronze/orders/bronze_olist_orders_06_10_2017.csv\n"
     ]
    },
    {
     "name": "stderr",
     "output_type": "stream",
     "text": [
      "                                                                                \r"
     ]
    },
    {
     "name": "stdout",
     "output_type": "stream",
     "text": [
      "Day 13_05_2017: 73 rows\n",
      "Saved to: datamart/bronze/orders/bronze_olist_orders_13_05_2017.csv\n"
     ]
    },
    {
     "name": "stderr",
     "output_type": "stream",
     "text": [
      "                                                                                \r"
     ]
    },
    {
     "name": "stdout",
     "output_type": "stream",
     "text": [
      "Day 10_10_2016: 39 rows\n",
      "Saved to: datamart/bronze/orders/bronze_olist_orders_10_10_2016.csv\n"
     ]
    },
    {
     "name": "stderr",
     "output_type": "stream",
     "text": [
      "                                                                                \r"
     ]
    },
    {
     "name": "stdout",
     "output_type": "stream",
     "text": [
      "Day 24_07_2017: 162 rows\n",
      "Saved to: datamart/bronze/orders/bronze_olist_orders_24_07_2017.csv\n"
     ]
    },
    {
     "name": "stderr",
     "output_type": "stream",
     "text": [
      "                                                                                \r"
     ]
    },
    {
     "name": "stdout",
     "output_type": "stream",
     "text": [
      "Day 01_12_2017: 275 rows\n",
      "Saved to: datamart/bronze/orders/bronze_olist_orders_01_12_2017.csv\n"
     ]
    },
    {
     "name": "stderr",
     "output_type": "stream",
     "text": [
      "                                                                                \r"
     ]
    },
    {
     "name": "stdout",
     "output_type": "stream",
     "text": [
      "Day 25_02_2017: 43 rows\n",
      "Saved to: datamart/bronze/orders/bronze_olist_orders_25_02_2017.csv\n"
     ]
    },
    {
     "name": "stderr",
     "output_type": "stream",
     "text": [
      "                                                                                \r"
     ]
    },
    {
     "name": "stdout",
     "output_type": "stream",
     "text": [
      "Day 07_06_2017: 129 rows\n",
      "Saved to: datamart/bronze/orders/bronze_olist_orders_07_06_2017.csv\n"
     ]
    },
    {
     "name": "stderr",
     "output_type": "stream",
     "text": [
      "                                                                                \r"
     ]
    },
    {
     "name": "stdout",
     "output_type": "stream",
     "text": [
      "Day 17_06_2018: 152 rows\n",
      "Saved to: datamart/bronze/orders/bronze_olist_orders_17_06_2018.csv\n"
     ]
    },
    {
     "name": "stderr",
     "output_type": "stream",
     "text": [
      "                                                                                \r"
     ]
    },
    {
     "name": "stdout",
     "output_type": "stream",
     "text": [
      "Day 30_01_2018: 258 rows\n",
      "Saved to: datamart/bronze/orders/bronze_olist_orders_30_01_2018.csv\n"
     ]
    },
    {
     "name": "stderr",
     "output_type": "stream",
     "text": [
      "                                                                                \r"
     ]
    },
    {
     "name": "stdout",
     "output_type": "stream",
     "text": [
      "Day 20_08_2017: 104 rows\n",
      "Saved to: datamart/bronze/orders/bronze_olist_orders_20_08_2017.csv\n"
     ]
    },
    {
     "name": "stderr",
     "output_type": "stream",
     "text": [
      "                                                                                \r"
     ]
    },
    {
     "name": "stdout",
     "output_type": "stream",
     "text": [
      "Day 27_03_2017: 111 rows\n",
      "Saved to: datamart/bronze/orders/bronze_olist_orders_27_03_2017.csv\n"
     ]
    },
    {
     "name": "stderr",
     "output_type": "stream",
     "text": [
      "                                                                                \r"
     ]
    },
    {
     "name": "stdout",
     "output_type": "stream",
     "text": [
      "Day 21_04_2017: 68 rows\n",
      "Saved to: datamart/bronze/orders/bronze_olist_orders_21_04_2017.csv\n"
     ]
    },
    {
     "name": "stderr",
     "output_type": "stream",
     "text": [
      "                                                                                \r"
     ]
    },
    {
     "name": "stdout",
     "output_type": "stream",
     "text": [
      "Day 21_05_2017: 148 rows\n",
      "Saved to: datamart/bronze/orders/bronze_olist_orders_21_05_2017.csv\n"
     ]
    },
    {
     "name": "stderr",
     "output_type": "stream",
     "text": [
      "                                                                                \r"
     ]
    },
    {
     "name": "stdout",
     "output_type": "stream",
     "text": [
      "Day 25_03_2017: 76 rows\n",
      "Saved to: datamart/bronze/orders/bronze_olist_orders_25_03_2017.csv\n"
     ]
    },
    {
     "name": "stderr",
     "output_type": "stream",
     "text": [
      "                                                                                \r"
     ]
    },
    {
     "name": "stdout",
     "output_type": "stream",
     "text": [
      "Day 24_05_2018: 114 rows\n",
      "Saved to: datamart/bronze/orders/bronze_olist_orders_24_05_2018.csv\n"
     ]
    },
    {
     "name": "stderr",
     "output_type": "stream",
     "text": [
      "                                                                                \r"
     ]
    },
    {
     "name": "stdout",
     "output_type": "stream",
     "text": [
      "Day 11_04_2018: 274 rows\n",
      "Saved to: datamart/bronze/orders/bronze_olist_orders_11_04_2018.csv\n"
     ]
    },
    {
     "name": "stderr",
     "output_type": "stream",
     "text": [
      "                                                                                \r"
     ]
    },
    {
     "name": "stdout",
     "output_type": "stream",
     "text": [
      "Day 11_07_2017: 165 rows\n",
      "Saved to: datamart/bronze/orders/bronze_olist_orders_11_07_2017.csv\n"
     ]
    },
    {
     "name": "stderr",
     "output_type": "stream",
     "text": [
      "                                                                                \r"
     ]
    },
    {
     "name": "stdout",
     "output_type": "stream",
     "text": [
      "Day 17_08_2018: 257 rows\n",
      "Saved to: datamart/bronze/orders/bronze_olist_orders_17_08_2018.csv\n"
     ]
    },
    {
     "name": "stderr",
     "output_type": "stream",
     "text": [
      "                                                                                \r"
     ]
    },
    {
     "name": "stdout",
     "output_type": "stream",
     "text": [
      "Day 13_07_2018: 168 rows\n",
      "Saved to: datamart/bronze/orders/bronze_olist_orders_13_07_2018.csv\n"
     ]
    },
    {
     "name": "stderr",
     "output_type": "stream",
     "text": [
      "                                                                                \r"
     ]
    },
    {
     "name": "stdout",
     "output_type": "stream",
     "text": [
      "Day 12_07_2017: 153 rows\n",
      "Saved to: datamart/bronze/orders/bronze_olist_orders_12_07_2017.csv\n"
     ]
    },
    {
     "name": "stderr",
     "output_type": "stream",
     "text": [
      "                                                                                \r"
     ]
    },
    {
     "name": "stdout",
     "output_type": "stream",
     "text": [
      "Day 19_06_2017: 156 rows\n",
      "Saved to: datamart/bronze/orders/bronze_olist_orders_19_06_2017.csv\n"
     ]
    },
    {
     "name": "stderr",
     "output_type": "stream",
     "text": [
      "                                                                                \r"
     ]
    },
    {
     "name": "stdout",
     "output_type": "stream",
     "text": [
      "Day 20_04_2018: 197 rows\n",
      "Saved to: datamart/bronze/orders/bronze_olist_orders_20_04_2018.csv\n"
     ]
    },
    {
     "name": "stderr",
     "output_type": "stream",
     "text": [
      "                                                                                \r"
     ]
    },
    {
     "name": "stdout",
     "output_type": "stream",
     "text": [
      "Day 19_08_2017: 108 rows\n",
      "Saved to: datamart/bronze/orders/bronze_olist_orders_19_08_2017.csv\n"
     ]
    },
    {
     "name": "stderr",
     "output_type": "stream",
     "text": [
      "                                                                                \r"
     ]
    },
    {
     "name": "stdout",
     "output_type": "stream",
     "text": [
      "Day 14_12_2017: 200 rows\n",
      "Saved to: datamart/bronze/orders/bronze_olist_orders_14_12_2017.csv\n"
     ]
    },
    {
     "name": "stderr",
     "output_type": "stream",
     "text": [
      "                                                                                \r"
     ]
    },
    {
     "name": "stdout",
     "output_type": "stream",
     "text": [
      "Day 31_05_2017: 129 rows\n",
      "Saved to: datamart/bronze/orders/bronze_olist_orders_31_05_2017.csv\n"
     ]
    },
    {
     "name": "stderr",
     "output_type": "stream",
     "text": [
      "                                                                                \r"
     ]
    },
    {
     "name": "stdout",
     "output_type": "stream",
     "text": [
      "Day 14_06_2017: 131 rows\n",
      "Saved to: datamart/bronze/orders/bronze_olist_orders_14_06_2017.csv\n"
     ]
    },
    {
     "name": "stderr",
     "output_type": "stream",
     "text": [
      "                                                                                \r"
     ]
    },
    {
     "name": "stdout",
     "output_type": "stream",
     "text": [
      "Day 20_02_2017: 63 rows\n",
      "Saved to: datamart/bronze/orders/bronze_olist_orders_20_02_2017.csv\n"
     ]
    },
    {
     "name": "stderr",
     "output_type": "stream",
     "text": [
      "                                                                                \r"
     ]
    },
    {
     "name": "stdout",
     "output_type": "stream",
     "text": [
      "Day 09_05_2017: 128 rows\n",
      "Saved to: datamart/bronze/orders/bronze_olist_orders_09_05_2017.csv\n"
     ]
    },
    {
     "name": "stderr",
     "output_type": "stream",
     "text": [
      "                                                                                \r"
     ]
    },
    {
     "name": "stdout",
     "output_type": "stream",
     "text": [
      "Day 07_04_2017: 85 rows\n",
      "Saved to: datamart/bronze/orders/bronze_olist_orders_07_04_2017.csv\n"
     ]
    },
    {
     "name": "stderr",
     "output_type": "stream",
     "text": [
      "                                                                                \r"
     ]
    },
    {
     "name": "stdout",
     "output_type": "stream",
     "text": [
      "Day 25_06_2018: 241 rows\n",
      "Saved to: datamart/bronze/orders/bronze_olist_orders_25_06_2018.csv\n"
     ]
    },
    {
     "name": "stderr",
     "output_type": "stream",
     "text": [
      "                                                                                \r"
     ]
    },
    {
     "name": "stdout",
     "output_type": "stream",
     "text": [
      "Day 05_05_2018: 197 rows\n",
      "Saved to: datamart/bronze/orders/bronze_olist_orders_05_05_2018.csv\n"
     ]
    },
    {
     "name": "stderr",
     "output_type": "stream",
     "text": [
      "                                                                                \r"
     ]
    },
    {
     "name": "stdout",
     "output_type": "stream",
     "text": [
      "Day 30_06_2017: 95 rows\n",
      "Saved to: datamart/bronze/orders/bronze_olist_orders_30_06_2017.csv\n"
     ]
    },
    {
     "name": "stderr",
     "output_type": "stream",
     "text": [
      "                                                                                \r"
     ]
    },
    {
     "name": "stdout",
     "output_type": "stream",
     "text": [
      "Day 02_05_2018: 296 rows\n",
      "Saved to: datamart/bronze/orders/bronze_olist_orders_02_05_2018.csv\n"
     ]
    },
    {
     "name": "stderr",
     "output_type": "stream",
     "text": [
      "                                                                                \r"
     ]
    },
    {
     "name": "stdout",
     "output_type": "stream",
     "text": [
      "Day 28_11_2017: 380 rows\n",
      "Saved to: datamart/bronze/orders/bronze_olist_orders_28_11_2017.csv\n"
     ]
    },
    {
     "name": "stderr",
     "output_type": "stream",
     "text": [
      "                                                                                \r"
     ]
    },
    {
     "name": "stdout",
     "output_type": "stream",
     "text": [
      "Day 21_09_2017: 150 rows\n",
      "Saved to: datamart/bronze/orders/bronze_olist_orders_21_09_2017.csv\n"
     ]
    },
    {
     "name": "stderr",
     "output_type": "stream",
     "text": [
      "                                                                                \r"
     ]
    },
    {
     "name": "stdout",
     "output_type": "stream",
     "text": [
      "Day 15_03_2018: 290 rows\n",
      "Saved to: datamart/bronze/orders/bronze_olist_orders_15_03_2018.csv\n"
     ]
    },
    {
     "name": "stderr",
     "output_type": "stream",
     "text": [
      "                                                                                \r"
     ]
    },
    {
     "name": "stdout",
     "output_type": "stream",
     "text": [
      "Day 10_08_2018: 256 rows\n",
      "Saved to: datamart/bronze/orders/bronze_olist_orders_10_08_2018.csv\n"
     ]
    },
    {
     "name": "stderr",
     "output_type": "stream",
     "text": [
      "                                                                                \r"
     ]
    },
    {
     "name": "stdout",
     "output_type": "stream",
     "text": [
      "Day 09_06_2018: 172 rows\n",
      "Saved to: datamart/bronze/orders/bronze_olist_orders_09_06_2018.csv\n"
     ]
    },
    {
     "name": "stderr",
     "output_type": "stream",
     "text": [
      "                                                                                \r"
     ]
    },
    {
     "name": "stdout",
     "output_type": "stream",
     "text": [
      "Day 09_11_2017: 191 rows\n",
      "Saved to: datamart/bronze/orders/bronze_olist_orders_09_11_2017.csv\n"
     ]
    },
    {
     "name": "stderr",
     "output_type": "stream",
     "text": [
      "                                                                                \r"
     ]
    },
    {
     "name": "stdout",
     "output_type": "stream",
     "text": [
      "Day 12_04_2017: 63 rows\n",
      "Saved to: datamart/bronze/orders/bronze_olist_orders_12_04_2017.csv\n"
     ]
    },
    {
     "name": "stderr",
     "output_type": "stream",
     "text": [
      "                                                                                \r"
     ]
    },
    {
     "name": "stdout",
     "output_type": "stream",
     "text": [
      "Day 16_03_2017: 103 rows\n",
      "Saved to: datamart/bronze/orders/bronze_olist_orders_16_03_2017.csv\n"
     ]
    },
    {
     "name": "stderr",
     "output_type": "stream",
     "text": [
      "                                                                                \r"
     ]
    },
    {
     "name": "stdout",
     "output_type": "stream",
     "text": [
      "Day 19_12_2017: 176 rows\n",
      "Saved to: datamart/bronze/orders/bronze_olist_orders_19_12_2017.csv\n"
     ]
    },
    {
     "name": "stderr",
     "output_type": "stream",
     "text": [
      "                                                                                \r"
     ]
    },
    {
     "name": "stdout",
     "output_type": "stream",
     "text": [
      "Day 22_03_2017: 105 rows\n",
      "Saved to: datamart/bronze/orders/bronze_olist_orders_22_03_2017.csv\n"
     ]
    },
    {
     "name": "stderr",
     "output_type": "stream",
     "text": [
      "                                                                                \r"
     ]
    },
    {
     "name": "stdout",
     "output_type": "stream",
     "text": [
      "Day 02_03_2018: 266 rows\n",
      "Saved to: datamart/bronze/orders/bronze_olist_orders_02_03_2018.csv\n"
     ]
    },
    {
     "name": "stderr",
     "output_type": "stream",
     "text": [
      "                                                                                \r"
     ]
    },
    {
     "name": "stdout",
     "output_type": "stream",
     "text": [
      "Day 28_04_2017: 98 rows\n",
      "Saved to: datamart/bronze/orders/bronze_olist_orders_28_04_2017.csv\n"
     ]
    },
    {
     "name": "stderr",
     "output_type": "stream",
     "text": [
      "                                                                                \r"
     ]
    },
    {
     "name": "stdout",
     "output_type": "stream",
     "text": [
      "Day 14_10_2017: 116 rows\n",
      "Saved to: datamart/bronze/orders/bronze_olist_orders_14_10_2017.csv\n"
     ]
    },
    {
     "name": "stderr",
     "output_type": "stream",
     "text": [
      "                                                                                \r"
     ]
    },
    {
     "name": "stdout",
     "output_type": "stream",
     "text": [
      "Day 18_03_2017: 73 rows\n",
      "Saved to: datamart/bronze/orders/bronze_olist_orders_18_03_2017.csv\n"
     ]
    },
    {
     "name": "stderr",
     "output_type": "stream",
     "text": [
      "                                                                                \r"
     ]
    },
    {
     "name": "stdout",
     "output_type": "stream",
     "text": [
      "Day 16_04_2018: 280 rows\n",
      "Saved to: datamart/bronze/orders/bronze_olist_orders_16_04_2018.csv\n"
     ]
    },
    {
     "name": "stderr",
     "output_type": "stream",
     "text": [
      "                                                                                \r"
     ]
    },
    {
     "name": "stdout",
     "output_type": "stream",
     "text": [
      "Day 03_12_2017: 234 rows\n",
      "Saved to: datamart/bronze/orders/bronze_olist_orders_03_12_2017.csv\n"
     ]
    },
    {
     "name": "stderr",
     "output_type": "stream",
     "text": [
      "                                                                                \r"
     ]
    },
    {
     "name": "stdout",
     "output_type": "stream",
     "text": [
      "Day 06_02_2017: 85 rows\n",
      "Saved to: datamart/bronze/orders/bronze_olist_orders_06_02_2017.csv\n"
     ]
    },
    {
     "name": "stderr",
     "output_type": "stream",
     "text": [
      "                                                                                \r"
     ]
    },
    {
     "name": "stdout",
     "output_type": "stream",
     "text": [
      "Day 12_11_2017: 174 rows\n",
      "Saved to: datamart/bronze/orders/bronze_olist_orders_12_11_2017.csv\n"
     ]
    },
    {
     "name": "stderr",
     "output_type": "stream",
     "text": [
      "                                                                                \r"
     ]
    },
    {
     "name": "stdout",
     "output_type": "stream",
     "text": [
      "Day 07_04_2018: 164 rows\n",
      "Saved to: datamart/bronze/orders/bronze_olist_orders_07_04_2018.csv\n"
     ]
    },
    {
     "name": "stderr",
     "output_type": "stream",
     "text": [
      "                                                                                \r"
     ]
    },
    {
     "name": "stdout",
     "output_type": "stream",
     "text": [
      "Day 04_08_2018: 245 rows\n",
      "Saved to: datamart/bronze/orders/bronze_olist_orders_04_08_2018.csv\n"
     ]
    },
    {
     "name": "stderr",
     "output_type": "stream",
     "text": [
      "                                                                                \r"
     ]
    },
    {
     "name": "stdout",
     "output_type": "stream",
     "text": [
      "Day 26_05_2017: 80 rows\n",
      "Saved to: datamart/bronze/orders/bronze_olist_orders_26_05_2017.csv\n"
     ]
    },
    {
     "name": "stderr",
     "output_type": "stream",
     "text": [
      "                                                                                \r"
     ]
    },
    {
     "name": "stdout",
     "output_type": "stream",
     "text": [
      "Day 20_10_2017: 124 rows\n",
      "Saved to: datamart/bronze/orders/bronze_olist_orders_20_10_2017.csv\n"
     ]
    },
    {
     "name": "stderr",
     "output_type": "stream",
     "text": [
      "                                                                                \r"
     ]
    },
    {
     "name": "stdout",
     "output_type": "stream",
     "text": [
      "Day 01_03_2018: 277 rows\n",
      "Saved to: datamart/bronze/orders/bronze_olist_orders_01_03_2018.csv\n"
     ]
    },
    {
     "name": "stderr",
     "output_type": "stream",
     "text": [
      "                                                                                \r"
     ]
    },
    {
     "name": "stdout",
     "output_type": "stream",
     "text": [
      "Day 16_05_2018: 357 rows\n",
      "Saved to: datamart/bronze/orders/bronze_olist_orders_16_05_2018.csv\n"
     ]
    },
    {
     "name": "stderr",
     "output_type": "stream",
     "text": [
      "                                                                                \r"
     ]
    },
    {
     "name": "stdout",
     "output_type": "stream",
     "text": [
      "Day 23_10_2017: 161 rows\n",
      "Saved to: datamart/bronze/orders/bronze_olist_orders_23_10_2017.csv\n"
     ]
    },
    {
     "name": "stderr",
     "output_type": "stream",
     "text": [
      "                                                                                \r"
     ]
    },
    {
     "name": "stdout",
     "output_type": "stream",
     "text": [
      "Day 08_08_2018: 316 rows\n",
      "Saved to: datamart/bronze/orders/bronze_olist_orders_08_08_2018.csv\n"
     ]
    },
    {
     "name": "stderr",
     "output_type": "stream",
     "text": [
      "                                                                                \r"
     ]
    },
    {
     "name": "stdout",
     "output_type": "stream",
     "text": [
      "Day 12_10_2017: 143 rows\n",
      "Saved to: datamart/bronze/orders/bronze_olist_orders_12_10_2017.csv\n"
     ]
    },
    {
     "name": "stderr",
     "output_type": "stream",
     "text": [
      "                                                                                \r"
     ]
    },
    {
     "name": "stdout",
     "output_type": "stream",
     "text": [
      "Day 24_03_2018: 165 rows\n",
      "Saved to: datamart/bronze/orders/bronze_olist_orders_24_03_2018.csv\n"
     ]
    },
    {
     "name": "stderr",
     "output_type": "stream",
     "text": [
      "                                                                                \r"
     ]
    },
    {
     "name": "stdout",
     "output_type": "stream",
     "text": [
      "Day 07_08_2017: 157 rows\n",
      "Saved to: datamart/bronze/orders/bronze_olist_orders_07_08_2017.csv\n"
     ]
    },
    {
     "name": "stderr",
     "output_type": "stream",
     "text": [
      "                                                                                \r"
     ]
    },
    {
     "name": "stdout",
     "output_type": "stream",
     "text": [
      "Day 05_08_2017: 115 rows\n",
      "Saved to: datamart/bronze/orders/bronze_olist_orders_05_08_2017.csv\n"
     ]
    },
    {
     "name": "stderr",
     "output_type": "stream",
     "text": [
      "                                                                                \r"
     ]
    },
    {
     "name": "stdout",
     "output_type": "stream",
     "text": [
      "Day 20_11_2017: 230 rows\n",
      "Saved to: datamart/bronze/orders/bronze_olist_orders_20_11_2017.csv\n"
     ]
    },
    {
     "name": "stderr",
     "output_type": "stream",
     "text": [
      "                                                                                \r"
     ]
    },
    {
     "name": "stdout",
     "output_type": "stream",
     "text": [
      "Day 25_02_2018: 237 rows\n",
      "Saved to: datamart/bronze/orders/bronze_olist_orders_25_02_2018.csv\n"
     ]
    },
    {
     "name": "stderr",
     "output_type": "stream",
     "text": [
      "                                                                                \r"
     ]
    },
    {
     "name": "stdout",
     "output_type": "stream",
     "text": [
      "Day 10_04_2018: 201 rows\n",
      "Saved to: datamart/bronze/orders/bronze_olist_orders_10_04_2018.csv\n"
     ]
    },
    {
     "name": "stderr",
     "output_type": "stream",
     "text": [
      "                                                                                \r"
     ]
    },
    {
     "name": "stdout",
     "output_type": "stream",
     "text": [
      "Day 07_01_2018: 196 rows\n",
      "Saved to: datamart/bronze/orders/bronze_olist_orders_07_01_2018.csv\n"
     ]
    },
    {
     "name": "stderr",
     "output_type": "stream",
     "text": [
      "                                                                                \r"
     ]
    },
    {
     "name": "stdout",
     "output_type": "stream",
     "text": [
      "Day 03_09_2017: 125 rows\n",
      "Saved to: datamart/bronze/orders/bronze_olist_orders_03_09_2017.csv\n"
     ]
    },
    {
     "name": "stderr",
     "output_type": "stream",
     "text": [
      "                                                                                \r"
     ]
    },
    {
     "name": "stdout",
     "output_type": "stream",
     "text": [
      "Day 15_04_2018: 223 rows\n",
      "Saved to: datamart/bronze/orders/bronze_olist_orders_15_04_2018.csv\n"
     ]
    },
    {
     "name": "stderr",
     "output_type": "stream",
     "text": [
      "                                                                                \r"
     ]
    },
    {
     "name": "stdout",
     "output_type": "stream",
     "text": [
      "Day 11_02_2018: 172 rows\n",
      "Saved to: datamart/bronze/orders/bronze_olist_orders_11_02_2018.csv\n"
     ]
    },
    {
     "name": "stderr",
     "output_type": "stream",
     "text": [
      "                                                                                \r"
     ]
    },
    {
     "name": "stdout",
     "output_type": "stream",
     "text": [
      "Day 01_04_2018: 207 rows\n",
      "Saved to: datamart/bronze/orders/bronze_olist_orders_01_04_2018.csv\n"
     ]
    },
    {
     "name": "stderr",
     "output_type": "stream",
     "text": [
      "                                                                                \r"
     ]
    },
    {
     "name": "stdout",
     "output_type": "stream",
     "text": [
      "Day 01_05_2018: 256 rows\n",
      "Saved to: datamart/bronze/orders/bronze_olist_orders_01_05_2018.csv\n"
     ]
    },
    {
     "name": "stderr",
     "output_type": "stream",
     "text": [
      "                                                                                \r"
     ]
    },
    {
     "name": "stdout",
     "output_type": "stream",
     "text": [
      "Day 23_05_2017: 125 rows\n",
      "Saved to: datamart/bronze/orders/bronze_olist_orders_23_05_2017.csv\n"
     ]
    },
    {
     "name": "stderr",
     "output_type": "stream",
     "text": [
      "                                                                                \r"
     ]
    },
    {
     "name": "stdout",
     "output_type": "stream",
     "text": [
      "Day 05_09_2017: 157 rows\n",
      "Saved to: datamart/bronze/orders/bronze_olist_orders_05_09_2017.csv\n"
     ]
    },
    {
     "name": "stderr",
     "output_type": "stream",
     "text": [
      "                                                                                \r"
     ]
    },
    {
     "name": "stdout",
     "output_type": "stream",
     "text": [
      "Day 18_06_2017: 90 rows\n",
      "Saved to: datamart/bronze/orders/bronze_olist_orders_18_06_2017.csv\n"
     ]
    },
    {
     "name": "stderr",
     "output_type": "stream",
     "text": [
      "                                                                                \r"
     ]
    },
    {
     "name": "stdout",
     "output_type": "stream",
     "text": [
      "Day 30_07_2018: 288 rows\n",
      "Saved to: datamart/bronze/orders/bronze_olist_orders_30_07_2018.csv\n"
     ]
    },
    {
     "name": "stderr",
     "output_type": "stream",
     "text": [
      "                                                                                \r"
     ]
    },
    {
     "name": "stdout",
     "output_type": "stream",
     "text": [
      "Day 07_05_2018: 372 rows\n",
      "Saved to: datamart/bronze/orders/bronze_olist_orders_07_05_2018.csv\n"
     ]
    },
    {
     "name": "stderr",
     "output_type": "stream",
     "text": [
      "                                                                                \r"
     ]
    },
    {
     "name": "stdout",
     "output_type": "stream",
     "text": [
      "Day 04_07_2017: 125 rows\n",
      "Saved to: datamart/bronze/orders/bronze_olist_orders_04_07_2017.csv\n"
     ]
    },
    {
     "name": "stderr",
     "output_type": "stream",
     "text": [
      "                                                                                \r"
     ]
    },
    {
     "name": "stdout",
     "output_type": "stream",
     "text": [
      "Day 30_07_2017: 117 rows\n",
      "Saved to: datamart/bronze/orders/bronze_olist_orders_30_07_2017.csv\n"
     ]
    },
    {
     "name": "stderr",
     "output_type": "stream",
     "text": [
      "                                                                                \r"
     ]
    },
    {
     "name": "stdout",
     "output_type": "stream",
     "text": [
      "Day 26_01_2017: 86 rows\n",
      "Saved to: datamart/bronze/orders/bronze_olist_orders_26_01_2017.csv\n"
     ]
    },
    {
     "name": "stderr",
     "output_type": "stream",
     "text": [
      "                                                                                \r"
     ]
    },
    {
     "name": "stdout",
     "output_type": "stream",
     "text": [
      "Day 10_10_2017: 185 rows\n",
      "Saved to: datamart/bronze/orders/bronze_olist_orders_10_10_2017.csv\n"
     ]
    },
    {
     "name": "stderr",
     "output_type": "stream",
     "text": [
      "                                                                                \r"
     ]
    },
    {
     "name": "stdout",
     "output_type": "stream",
     "text": [
      "Day 17_08_2017: 158 rows\n",
      "Saved to: datamart/bronze/orders/bronze_olist_orders_17_08_2017.csv\n"
     ]
    },
    {
     "name": "stderr",
     "output_type": "stream",
     "text": [
      "                                                                                \r"
     ]
    },
    {
     "name": "stdout",
     "output_type": "stream",
     "text": [
      "Day 05_04_2018: 266 rows\n",
      "Saved to: datamart/bronze/orders/bronze_olist_orders_05_04_2018.csv\n"
     ]
    },
    {
     "name": "stderr",
     "output_type": "stream",
     "text": [
      "                                                                                \r"
     ]
    },
    {
     "name": "stdout",
     "output_type": "stream",
     "text": [
      "Day 01_05_2017: 117 rows\n",
      "Saved to: datamart/bronze/orders/bronze_olist_orders_01_05_2017.csv\n"
     ]
    },
    {
     "name": "stderr",
     "output_type": "stream",
     "text": [
      "                                                                                \r"
     ]
    },
    {
     "name": "stdout",
     "output_type": "stream",
     "text": [
      "Day 12_09_2017: 206 rows\n",
      "Saved to: datamart/bronze/orders/bronze_olist_orders_12_09_2017.csv\n"
     ]
    },
    {
     "name": "stderr",
     "output_type": "stream",
     "text": [
      "                                                                                \r"
     ]
    },
    {
     "name": "stdout",
     "output_type": "stream",
     "text": [
      "Day 05_12_2017: 282 rows\n",
      "Saved to: datamart/bronze/orders/bronze_olist_orders_05_12_2017.csv\n"
     ]
    },
    {
     "name": "stderr",
     "output_type": "stream",
     "text": [
      "                                                                                \r"
     ]
    },
    {
     "name": "stdout",
     "output_type": "stream",
     "text": [
      "Day 19_04_2018: 293 rows\n",
      "Saved to: datamart/bronze/orders/bronze_olist_orders_19_04_2018.csv\n"
     ]
    },
    {
     "name": "stderr",
     "output_type": "stream",
     "text": [
      "                                                                                \r"
     ]
    },
    {
     "name": "stdout",
     "output_type": "stream",
     "text": [
      "Day 05_03_2018: 264 rows\n",
      "Saved to: datamart/bronze/orders/bronze_olist_orders_05_03_2018.csv\n"
     ]
    },
    {
     "name": "stderr",
     "output_type": "stream",
     "text": [
      "                                                                                \r"
     ]
    },
    {
     "name": "stdout",
     "output_type": "stream",
     "text": [
      "Day 21_07_2017: 115 rows\n",
      "Saved to: datamart/bronze/orders/bronze_olist_orders_21_07_2017.csv\n"
     ]
    },
    {
     "name": "stderr",
     "output_type": "stream",
     "text": [
      "                                                                                \r"
     ]
    },
    {
     "name": "stdout",
     "output_type": "stream",
     "text": [
      "Day 03_10_2017: 198 rows\n",
      "Saved to: datamart/bronze/orders/bronze_olist_orders_03_10_2017.csv\n"
     ]
    },
    {
     "name": "stderr",
     "output_type": "stream",
     "text": [
      "                                                                                \r"
     ]
    },
    {
     "name": "stdout",
     "output_type": "stream",
     "text": [
      "Day 11_01_2018: 266 rows\n",
      "Saved to: datamart/bronze/orders/bronze_olist_orders_11_01_2018.csv\n"
     ]
    },
    {
     "name": "stderr",
     "output_type": "stream",
     "text": [
      "                                                                                \r"
     ]
    },
    {
     "name": "stdout",
     "output_type": "stream",
     "text": [
      "Day 17_09_2017: 126 rows\n",
      "Saved to: datamart/bronze/orders/bronze_olist_orders_17_09_2017.csv\n"
     ]
    },
    {
     "name": "stderr",
     "output_type": "stream",
     "text": [
      "                                                                                \r"
     ]
    },
    {
     "name": "stdout",
     "output_type": "stream",
     "text": [
      "Day 26_02_2017: 46 rows\n",
      "Saved to: datamart/bronze/orders/bronze_olist_orders_26_02_2017.csv\n"
     ]
    },
    {
     "name": "stderr",
     "output_type": "stream",
     "text": [
      "                                                                                \r"
     ]
    },
    {
     "name": "stdout",
     "output_type": "stream",
     "text": [
      "Day 29_06_2018: 174 rows\n",
      "Saved to: datamart/bronze/orders/bronze_olist_orders_29_06_2018.csv\n"
     ]
    },
    {
     "name": "stderr",
     "output_type": "stream",
     "text": [
      "                                                                                \r"
     ]
    },
    {
     "name": "stdout",
     "output_type": "stream",
     "text": [
      "Day 12_05_2017: 115 rows\n",
      "Saved to: datamart/bronze/orders/bronze_olist_orders_12_05_2017.csv\n"
     ]
    },
    {
     "name": "stderr",
     "output_type": "stream",
     "text": [
      "                                                                                \r"
     ]
    },
    {
     "name": "stdout",
     "output_type": "stream",
     "text": [
      "Day 10_11_2017: 165 rows\n",
      "Saved to: datamart/bronze/orders/bronze_olist_orders_10_11_2017.csv\n"
     ]
    },
    {
     "name": "stderr",
     "output_type": "stream",
     "text": [
      "                                                                                \r"
     ]
    },
    {
     "name": "stdout",
     "output_type": "stream",
     "text": [
      "Day 08_07_2018: 122 rows\n",
      "Saved to: datamart/bronze/orders/bronze_olist_orders_08_07_2018.csv\n"
     ]
    },
    {
     "name": "stderr",
     "output_type": "stream",
     "text": [
      "                                                                                \r"
     ]
    },
    {
     "name": "stdout",
     "output_type": "stream",
     "text": [
      "Day 10_05_2018: 279 rows\n",
      "Saved to: datamart/bronze/orders/bronze_olist_orders_10_05_2018.csv\n"
     ]
    },
    {
     "name": "stderr",
     "output_type": "stream",
     "text": [
      "                                                                                \r"
     ]
    },
    {
     "name": "stdout",
     "output_type": "stream",
     "text": [
      "Day 01_07_2017: 80 rows\n",
      "Saved to: datamart/bronze/orders/bronze_olist_orders_01_07_2017.csv\n"
     ]
    },
    {
     "name": "stderr",
     "output_type": "stream",
     "text": [
      "                                                                                \r"
     ]
    },
    {
     "name": "stdout",
     "output_type": "stream",
     "text": [
      "Day 23_08_2017: 112 rows\n",
      "Saved to: datamart/bronze/orders/bronze_olist_orders_23_08_2017.csv\n"
     ]
    },
    {
     "name": "stderr",
     "output_type": "stream",
     "text": [
      "                                                                                \r"
     ]
    },
    {
     "name": "stdout",
     "output_type": "stream",
     "text": [
      "Day 19_03_2017: 56 rows\n",
      "Saved to: datamart/bronze/orders/bronze_olist_orders_19_03_2017.csv\n"
     ]
    },
    {
     "name": "stderr",
     "output_type": "stream",
     "text": [
      "                                                                                \r"
     ]
    },
    {
     "name": "stdout",
     "output_type": "stream",
     "text": [
      "Day 06_06_2017: 134 rows\n",
      "Saved to: datamart/bronze/orders/bronze_olist_orders_06_06_2017.csv\n"
     ]
    },
    {
     "name": "stderr",
     "output_type": "stream",
     "text": [
      "                                                                                \r"
     ]
    },
    {
     "name": "stdout",
     "output_type": "stream",
     "text": [
      "Day 04_04_2018: 257 rows\n",
      "Saved to: datamart/bronze/orders/bronze_olist_orders_04_04_2018.csv\n"
     ]
    },
    {
     "name": "stderr",
     "output_type": "stream",
     "text": [
      "                                                                                \r"
     ]
    },
    {
     "name": "stdout",
     "output_type": "stream",
     "text": [
      "Day 19_06_2018: 231 rows\n",
      "Saved to: datamart/bronze/orders/bronze_olist_orders_19_06_2018.csv\n"
     ]
    },
    {
     "name": "stderr",
     "output_type": "stream",
     "text": [
      "                                                                                \r"
     ]
    },
    {
     "name": "stdout",
     "output_type": "stream",
     "text": [
      "Day 20_01_2018: 184 rows\n",
      "Saved to: datamart/bronze/orders/bronze_olist_orders_20_01_2018.csv\n"
     ]
    },
    {
     "name": "stderr",
     "output_type": "stream",
     "text": [
      "                                                                                \r"
     ]
    },
    {
     "name": "stdout",
     "output_type": "stream",
     "text": [
      "Day 30_08_2018: 4 rows\n",
      "Saved to: datamart/bronze/orders/bronze_olist_orders_30_08_2018.csv\n"
     ]
    },
    {
     "name": "stderr",
     "output_type": "stream",
     "text": [
      "                                                                                \r"
     ]
    },
    {
     "name": "stdout",
     "output_type": "stream",
     "text": [
      "Day 06_12_2017: 280 rows\n",
      "Saved to: datamart/bronze/orders/bronze_olist_orders_06_12_2017.csv\n"
     ]
    },
    {
     "name": "stderr",
     "output_type": "stream",
     "text": [
      "                                                                                \r"
     ]
    },
    {
     "name": "stdout",
     "output_type": "stream",
     "text": [
      "Day 12_03_2017: 64 rows\n",
      "Saved to: datamart/bronze/orders/bronze_olist_orders_12_03_2017.csv\n"
     ]
    },
    {
     "name": "stderr",
     "output_type": "stream",
     "text": [
      "                                                                                \r"
     ]
    },
    {
     "name": "stdout",
     "output_type": "stream",
     "text": [
      "Day 22_05_2017: 148 rows\n",
      "Saved to: datamart/bronze/orders/bronze_olist_orders_22_05_2017.csv\n"
     ]
    },
    {
     "name": "stderr",
     "output_type": "stream",
     "text": [
      "                                                                                \r"
     ]
    },
    {
     "name": "stdout",
     "output_type": "stream",
     "text": [
      "Day 18_09_2017: 183 rows\n",
      "Saved to: datamart/bronze/orders/bronze_olist_orders_18_09_2017.csv\n"
     ]
    },
    {
     "name": "stderr",
     "output_type": "stream",
     "text": [
      "                                                                                \r"
     ]
    },
    {
     "name": "stdout",
     "output_type": "stream",
     "text": [
      "Day 03_02_2018: 193 rows\n",
      "Saved to: datamart/bronze/orders/bronze_olist_orders_03_02_2018.csv\n"
     ]
    },
    {
     "name": "stderr",
     "output_type": "stream",
     "text": [
      "                                                                                \r"
     ]
    },
    {
     "name": "stdout",
     "output_type": "stream",
     "text": [
      "Day 15_12_2017: 192 rows\n",
      "Saved to: datamart/bronze/orders/bronze_olist_orders_15_12_2017.csv\n"
     ]
    },
    {
     "name": "stderr",
     "output_type": "stream",
     "text": [
      "                                                                                \r"
     ]
    },
    {
     "name": "stdout",
     "output_type": "stream",
     "text": [
      "Day 18_06_2018: 246 rows\n",
      "Saved to: datamart/bronze/orders/bronze_olist_orders_18_06_2018.csv\n"
     ]
    },
    {
     "name": "stderr",
     "output_type": "stream",
     "text": [
      "                                                                                \r"
     ]
    },
    {
     "name": "stdout",
     "output_type": "stream",
     "text": [
      "Day 13_11_2017: 205 rows\n",
      "Saved to: datamart/bronze/orders/bronze_olist_orders_13_11_2017.csv\n"
     ]
    },
    {
     "name": "stderr",
     "output_type": "stream",
     "text": [
      "                                                                                \r"
     ]
    },
    {
     "name": "stdout",
     "output_type": "stream",
     "text": [
      "Day 25_07_2017: 153 rows\n",
      "Saved to: datamart/bronze/orders/bronze_olist_orders_25_07_2017.csv\n"
     ]
    },
    {
     "name": "stderr",
     "output_type": "stream",
     "text": [
      "                                                                                \r"
     ]
    },
    {
     "name": "stdout",
     "output_type": "stream",
     "text": [
      "Day 21_10_2017: 113 rows\n",
      "Saved to: datamart/bronze/orders/bronze_olist_orders_21_10_2017.csv\n"
     ]
    },
    {
     "name": "stderr",
     "output_type": "stream",
     "text": [
      "                                                                                \r"
     ]
    },
    {
     "name": "stdout",
     "output_type": "stream",
     "text": [
      "Day 28_08_2018: 44 rows\n",
      "Saved to: datamart/bronze/orders/bronze_olist_orders_28_08_2018.csv\n"
     ]
    },
    {
     "name": "stderr",
     "output_type": "stream",
     "text": [
      "                                                                                \r"
     ]
    },
    {
     "name": "stdout",
     "output_type": "stream",
     "text": [
      "Day 26_03_2017: 64 rows\n",
      "Saved to: datamart/bronze/orders/bronze_olist_orders_26_03_2017.csv\n"
     ]
    },
    {
     "name": "stderr",
     "output_type": "stream",
     "text": [
      "                                                                                \r"
     ]
    },
    {
     "name": "stdout",
     "output_type": "stream",
     "text": [
      "Day 04_11_2017: 111 rows\n",
      "Saved to: datamart/bronze/orders/bronze_olist_orders_04_11_2017.csv\n"
     ]
    },
    {
     "name": "stderr",
     "output_type": "stream",
     "text": [
      "                                                                                \r"
     ]
    },
    {
     "name": "stdout",
     "output_type": "stream",
     "text": [
      "Day 06_09_2018: 3 rows\n",
      "Saved to: datamart/bronze/orders/bronze_olist_orders_06_09_2018.csv\n"
     ]
    },
    {
     "name": "stderr",
     "output_type": "stream",
     "text": [
      "                                                                                \r"
     ]
    },
    {
     "name": "stdout",
     "output_type": "stream",
     "text": [
      "Day 23_01_2017: 39 rows\n",
      "Saved to: datamart/bronze/orders/bronze_olist_orders_23_01_2017.csv\n"
     ]
    },
    {
     "name": "stderr",
     "output_type": "stream",
     "text": [
      "                                                                                \r"
     ]
    },
    {
     "name": "stdout",
     "output_type": "stream",
     "text": [
      "Day 01_08_2018: 311 rows\n",
      "Saved to: datamart/bronze/orders/bronze_olist_orders_01_08_2018.csv\n"
     ]
    },
    {
     "name": "stderr",
     "output_type": "stream",
     "text": [
      "                                                                                \r"
     ]
    },
    {
     "name": "stdout",
     "output_type": "stream",
     "text": [
      "Day 23_11_2017: 283 rows\n",
      "Saved to: datamart/bronze/orders/bronze_olist_orders_23_11_2017.csv\n"
     ]
    },
    {
     "name": "stderr",
     "output_type": "stream",
     "text": [
      "                                                                                \r"
     ]
    },
    {
     "name": "stdout",
     "output_type": "stream",
     "text": [
      "Day 05_05_2017: 111 rows\n",
      "Saved to: datamart/bronze/orders/bronze_olist_orders_05_05_2017.csv\n"
     ]
    },
    {
     "name": "stderr",
     "output_type": "stream",
     "text": [
      "                                                                                \r"
     ]
    },
    {
     "name": "stdout",
     "output_type": "stream",
     "text": [
      "Day 22_04_2018: 200 rows\n",
      "Saved to: datamart/bronze/orders/bronze_olist_orders_22_04_2018.csv\n"
     ]
    },
    {
     "name": "stderr",
     "output_type": "stream",
     "text": [
      "                                                                                \r"
     ]
    },
    {
     "name": "stdout",
     "output_type": "stream",
     "text": [
      "Day 28_05_2017: 98 rows\n",
      "Saved to: datamart/bronze/orders/bronze_olist_orders_28_05_2017.csv\n"
     ]
    },
    {
     "name": "stderr",
     "output_type": "stream",
     "text": [
      "                                                                                \r"
     ]
    },
    {
     "name": "stdout",
     "output_type": "stream",
     "text": [
      "Day 26_02_2018: 299 rows\n",
      "Saved to: datamart/bronze/orders/bronze_olist_orders_26_02_2018.csv\n"
     ]
    },
    {
     "name": "stderr",
     "output_type": "stream",
     "text": [
      "                                                                                \r"
     ]
    },
    {
     "name": "stdout",
     "output_type": "stream",
     "text": [
      "Day 22_11_2017: 201 rows\n",
      "Saved to: datamart/bronze/orders/bronze_olist_orders_22_11_2017.csv\n"
     ]
    },
    {
     "name": "stderr",
     "output_type": "stream",
     "text": [
      "                                                                                \r"
     ]
    },
    {
     "name": "stdout",
     "output_type": "stream",
     "text": [
      "Day 17_12_2017: 133 rows\n",
      "Saved to: datamart/bronze/orders/bronze_olist_orders_17_12_2017.csv\n"
     ]
    },
    {
     "name": "stderr",
     "output_type": "stream",
     "text": [
      "                                                                                \r"
     ]
    },
    {
     "name": "stdout",
     "output_type": "stream",
     "text": [
      "Day 11_05_2018: 247 rows\n",
      "Saved to: datamart/bronze/orders/bronze_olist_orders_11_05_2018.csv\n"
     ]
    },
    {
     "name": "stderr",
     "output_type": "stream",
     "text": [
      "                                                                                \r"
     ]
    },
    {
     "name": "stdout",
     "output_type": "stream",
     "text": [
      "Day 16_11_2017: 226 rows\n",
      "Saved to: datamart/bronze/orders/bronze_olist_orders_16_11_2017.csv\n"
     ]
    },
    {
     "name": "stderr",
     "output_type": "stream",
     "text": [
      "                                                                                \r"
     ]
    },
    {
     "name": "stdout",
     "output_type": "stream",
     "text": [
      "Day 11_03_2017: 71 rows\n",
      "Saved to: datamart/bronze/orders/bronze_olist_orders_11_03_2017.csv\n"
     ]
    },
    {
     "name": "stderr",
     "output_type": "stream",
     "text": [
      "                                                                                \r"
     ]
    },
    {
     "name": "stdout",
     "output_type": "stream",
     "text": [
      "Day 28_07_2017: 132 rows\n",
      "Saved to: datamart/bronze/orders/bronze_olist_orders_28_07_2017.csv\n"
     ]
    },
    {
     "name": "stderr",
     "output_type": "stream",
     "text": [
      "                                                                                \r"
     ]
    },
    {
     "name": "stdout",
     "output_type": "stream",
     "text": [
      "Day 19_07_2018: 253 rows\n",
      "Saved to: datamart/bronze/orders/bronze_olist_orders_19_07_2018.csv\n"
     ]
    },
    {
     "name": "stderr",
     "output_type": "stream",
     "text": [
      "                                                                                \r"
     ]
    },
    {
     "name": "stdout",
     "output_type": "stream",
     "text": [
      "Day 03_10_2016: 8 rows\n",
      "Saved to: datamart/bronze/orders/bronze_olist_orders_03_10_2016.csv\n"
     ]
    },
    {
     "name": "stderr",
     "output_type": "stream",
     "text": [
      "                                                                                \r"
     ]
    },
    {
     "name": "stdout",
     "output_type": "stream",
     "text": [
      "Day 30_12_2017: 97 rows\n",
      "Saved to: datamart/bronze/orders/bronze_olist_orders_30_12_2017.csv\n"
     ]
    },
    {
     "name": "stderr",
     "output_type": "stream",
     "text": [
      "                                                                                \r"
     ]
    },
    {
     "name": "stdout",
     "output_type": "stream",
     "text": [
      "Day 08_10_2016: 42 rows\n",
      "Saved to: datamart/bronze/orders/bronze_olist_orders_08_10_2016.csv\n"
     ]
    },
    {
     "name": "stderr",
     "output_type": "stream",
     "text": [
      "                                                                                \r"
     ]
    },
    {
     "name": "stdout",
     "output_type": "stream",
     "text": [
      "Day 04_06_2018: 225 rows\n",
      "Saved to: datamart/bronze/orders/bronze_olist_orders_04_06_2018.csv\n"
     ]
    },
    {
     "name": "stderr",
     "output_type": "stream",
     "text": [
      "                                                                                \r"
     ]
    },
    {
     "name": "stdout",
     "output_type": "stream",
     "text": [
      "Day 15_05_2018: 352 rows\n",
      "Saved to: datamart/bronze/orders/bronze_olist_orders_15_05_2018.csv\n"
     ]
    },
    {
     "name": "stderr",
     "output_type": "stream",
     "text": [
      "                                                                                \r"
     ]
    },
    {
     "name": "stdout",
     "output_type": "stream",
     "text": [
      "Day 24_08_2018: 99 rows\n",
      "Saved to: datamart/bronze/orders/bronze_olist_orders_24_08_2018.csv\n"
     ]
    },
    {
     "name": "stderr",
     "output_type": "stream",
     "text": [
      "                                                                                \r"
     ]
    },
    {
     "name": "stdout",
     "output_type": "stream",
     "text": [
      "Day 25_04_2017: 111 rows\n",
      "Saved to: datamart/bronze/orders/bronze_olist_orders_25_04_2017.csv\n"
     ]
    },
    {
     "name": "stderr",
     "output_type": "stream",
     "text": [
      "                                                                                \r"
     ]
    },
    {
     "name": "stdout",
     "output_type": "stream",
     "text": [
      "Day 08_05_2018: 331 rows\n",
      "Saved to: datamart/bronze/orders/bronze_olist_orders_08_05_2018.csv\n"
     ]
    },
    {
     "name": "stderr",
     "output_type": "stream",
     "text": [
      "                                                                                \r"
     ]
    },
    {
     "name": "stdout",
     "output_type": "stream",
     "text": [
      "Day 28_02_2018: 313 rows\n",
      "Saved to: datamart/bronze/orders/bronze_olist_orders_28_02_2018.csv\n"
     ]
    },
    {
     "name": "stderr",
     "output_type": "stream",
     "text": [
      "                                                                                \r"
     ]
    },
    {
     "name": "stdout",
     "output_type": "stream",
     "text": [
      "Day 11_04_2017: 78 rows\n",
      "Saved to: datamart/bronze/orders/bronze_olist_orders_11_04_2017.csv\n"
     ]
    },
    {
     "name": "stderr",
     "output_type": "stream",
     "text": [
      "                                                                                \r"
     ]
    },
    {
     "name": "stdout",
     "output_type": "stream",
     "text": [
      "Day 26_03_2018: 272 rows\n",
      "Saved to: datamart/bronze/orders/bronze_olist_orders_26_03_2018.csv\n"
     ]
    },
    {
     "name": "stderr",
     "output_type": "stream",
     "text": [
      "                                                                                \r"
     ]
    },
    {
     "name": "stdout",
     "output_type": "stream",
     "text": [
      "Day 06_06_2018: 227 rows\n",
      "Saved to: datamart/bronze/orders/bronze_olist_orders_06_06_2018.csv\n"
     ]
    },
    {
     "name": "stderr",
     "output_type": "stream",
     "text": [
      "                                                                                \r"
     ]
    },
    {
     "name": "stdout",
     "output_type": "stream",
     "text": [
      "Day 20_05_2017: 72 rows\n",
      "Saved to: datamart/bronze/orders/bronze_olist_orders_20_05_2017.csv\n"
     ]
    },
    {
     "name": "stderr",
     "output_type": "stream",
     "text": [
      "                                                                                \r"
     ]
    },
    {
     "name": "stdout",
     "output_type": "stream",
     "text": [
      "Day 24_10_2017: 164 rows\n",
      "Saved to: datamart/bronze/orders/bronze_olist_orders_24_10_2017.csv\n"
     ]
    },
    {
     "name": "stderr",
     "output_type": "stream",
     "text": [
      "                                                                                \r"
     ]
    },
    {
     "name": "stdout",
     "output_type": "stream",
     "text": [
      "Day 26_01_2018: 229 rows\n",
      "Saved to: datamart/bronze/orders/bronze_olist_orders_26_01_2018.csv\n"
     ]
    },
    {
     "name": "stderr",
     "output_type": "stream",
     "text": [
      "                                                                                \r"
     ]
    },
    {
     "name": "stdout",
     "output_type": "stream",
     "text": [
      "Day 06_01_2018: 216 rows\n",
      "Saved to: datamart/bronze/orders/bronze_olist_orders_06_01_2018.csv\n"
     ]
    },
    {
     "name": "stderr",
     "output_type": "stream",
     "text": [
      "                                                                                \r"
     ]
    },
    {
     "name": "stdout",
     "output_type": "stream",
     "text": [
      "Day 21_06_2018: 234 rows\n",
      "Saved to: datamart/bronze/orders/bronze_olist_orders_21_06_2018.csv\n"
     ]
    },
    {
     "name": "stderr",
     "output_type": "stream",
     "text": [
      "                                                                                \r"
     ]
    },
    {
     "name": "stdout",
     "output_type": "stream",
     "text": [
      "Day 22_02_2017: 63 rows\n",
      "Saved to: datamart/bronze/orders/bronze_olist_orders_22_02_2017.csv\n"
     ]
    },
    {
     "name": "stderr",
     "output_type": "stream",
     "text": [
      "                                                                                \r"
     ]
    },
    {
     "name": "stdout",
     "output_type": "stream",
     "text": [
      "Day 27_04_2018: 242 rows\n",
      "Saved to: datamart/bronze/orders/bronze_olist_orders_27_04_2018.csv\n"
     ]
    },
    {
     "name": "stderr",
     "output_type": "stream",
     "text": [
      "                                                                                \r"
     ]
    },
    {
     "name": "stdout",
     "output_type": "stream",
     "text": [
      "Day 18_08_2017: 147 rows\n",
      "Saved to: datamart/bronze/orders/bronze_olist_orders_18_08_2017.csv\n"
     ]
    },
    {
     "name": "stderr",
     "output_type": "stream",
     "text": [
      "                                                                                \r"
     ]
    },
    {
     "name": "stdout",
     "output_type": "stream",
     "text": [
      "Day 29_04_2018: 171 rows\n",
      "Saved to: datamart/bronze/orders/bronze_olist_orders_29_04_2018.csv\n"
     ]
    },
    {
     "name": "stderr",
     "output_type": "stream",
     "text": [
      "                                                                                \r"
     ]
    },
    {
     "name": "stdout",
     "output_type": "stream",
     "text": [
      "Day 10_04_2017: 87 rows\n",
      "Saved to: datamart/bronze/orders/bronze_olist_orders_10_04_2017.csv\n"
     ]
    },
    {
     "name": "stderr",
     "output_type": "stream",
     "text": [
      "                                                                                \r"
     ]
    },
    {
     "name": "stdout",
     "output_type": "stream",
     "text": [
      "Day 07_07_2018: 91 rows\n",
      "Saved to: datamart/bronze/orders/bronze_olist_orders_07_07_2018.csv\n"
     ]
    },
    {
     "name": "stderr",
     "output_type": "stream",
     "text": [
      "                                                                                \r"
     ]
    },
    {
     "name": "stdout",
     "output_type": "stream",
     "text": [
      "Day 04_09_2016: 1 rows\n",
      "Saved to: datamart/bronze/orders/bronze_olist_orders_04_09_2016.csv\n"
     ]
    },
    {
     "name": "stderr",
     "output_type": "stream",
     "text": [
      "                                                                                \r"
     ]
    },
    {
     "name": "stdout",
     "output_type": "stream",
     "text": [
      "Day 09_12_2017: 155 rows\n",
      "Saved to: datamart/bronze/orders/bronze_olist_orders_09_12_2017.csv\n"
     ]
    },
    {
     "name": "stderr",
     "output_type": "stream",
     "text": [
      "                                                                                \r"
     ]
    },
    {
     "name": "stdout",
     "output_type": "stream",
     "text": [
      "Day 16_08_2018: 320 rows\n",
      "Saved to: datamart/bronze/orders/bronze_olist_orders_16_08_2018.csv\n"
     ]
    },
    {
     "name": "stderr",
     "output_type": "stream",
     "text": [
      "                                                                                \r"
     ]
    },
    {
     "name": "stdout",
     "output_type": "stream",
     "text": [
      "Day 03_05_2018: 305 rows\n",
      "Saved to: datamart/bronze/orders/bronze_olist_orders_03_05_2018.csv\n"
     ]
    },
    {
     "name": "stderr",
     "output_type": "stream",
     "text": [
      "                                                                                \r"
     ]
    },
    {
     "name": "stdout",
     "output_type": "stream",
     "text": [
      "Day 01_09_2017: 158 rows\n",
      "Saved to: datamart/bronze/orders/bronze_olist_orders_01_09_2017.csv\n"
     ]
    },
    {
     "name": "stderr",
     "output_type": "stream",
     "text": [
      "                                                                                \r"
     ]
    },
    {
     "name": "stdout",
     "output_type": "stream",
     "text": [
      "Day 01_08_2017: 165 rows\n",
      "Saved to: datamart/bronze/orders/bronze_olist_orders_01_08_2017.csv\n"
     ]
    },
    {
     "name": "stderr",
     "output_type": "stream",
     "text": [
      "                                                                                \r"
     ]
    },
    {
     "name": "stdout",
     "output_type": "stream",
     "text": [
      "Day 23_05_2018: 132 rows\n",
      "Saved to: datamart/bronze/orders/bronze_olist_orders_23_05_2018.csv\n"
     ]
    },
    {
     "name": "stderr",
     "output_type": "stream",
     "text": [
      "                                                                                \r"
     ]
    },
    {
     "name": "stdout",
     "output_type": "stream",
     "text": [
      "Day 25_11_2017: 499 rows\n",
      "Saved to: datamart/bronze/orders/bronze_olist_orders_25_11_2017.csv\n"
     ]
    },
    {
     "name": "stderr",
     "output_type": "stream",
     "text": [
      "                                                                                \r"
     ]
    },
    {
     "name": "stdout",
     "output_type": "stream",
     "text": [
      "Day 15_06_2017: 108 rows\n",
      "Saved to: datamart/bronze/orders/bronze_olist_orders_15_06_2017.csv\n"
     ]
    },
    {
     "name": "stderr",
     "output_type": "stream",
     "text": [
      "                                                                                \r"
     ]
    },
    {
     "name": "stdout",
     "output_type": "stream",
     "text": [
      "Day 11_03_2018: 218 rows\n",
      "Saved to: datamart/bronze/orders/bronze_olist_orders_11_03_2018.csv\n"
     ]
    },
    {
     "name": "stderr",
     "output_type": "stream",
     "text": [
      "                                                                                \r"
     ]
    },
    {
     "name": "stdout",
     "output_type": "stream",
     "text": [
      "Day 15_11_2017: 186 rows\n",
      "Saved to: datamart/bronze/orders/bronze_olist_orders_15_11_2017.csv\n"
     ]
    },
    {
     "name": "stderr",
     "output_type": "stream",
     "text": [
      "                                                                                \r"
     ]
    },
    {
     "name": "stdout",
     "output_type": "stream",
     "text": [
      "Day 19_09_2017: 154 rows\n",
      "Saved to: datamart/bronze/orders/bronze_olist_orders_19_09_2017.csv\n"
     ]
    },
    {
     "name": "stderr",
     "output_type": "stream",
     "text": [
      "                                                                                \r"
     ]
    },
    {
     "name": "stdout",
     "output_type": "stream",
     "text": [
      "Day 21_03_2018: 286 rows\n",
      "Saved to: datamart/bronze/orders/bronze_olist_orders_21_03_2018.csv\n"
     ]
    },
    {
     "name": "stderr",
     "output_type": "stream",
     "text": [
      "                                                                                \r"
     ]
    },
    {
     "name": "stdout",
     "output_type": "stream",
     "text": [
      "Day 09_08_2017: 144 rows\n",
      "Saved to: datamart/bronze/orders/bronze_olist_orders_09_08_2017.csv\n"
     ]
    },
    {
     "name": "stderr",
     "output_type": "stream",
     "text": [
      "                                                                                \r"
     ]
    },
    {
     "name": "stdout",
     "output_type": "stream",
     "text": [
      "Day 24_09_2017: 118 rows\n",
      "Saved to: datamart/bronze/orders/bronze_olist_orders_24_09_2017.csv\n"
     ]
    },
    {
     "name": "stderr",
     "output_type": "stream",
     "text": [
      "                                                                                \r"
     ]
    },
    {
     "name": "stdout",
     "output_type": "stream",
     "text": [
      "Day 04_10_2017: 157 rows\n",
      "Saved to: datamart/bronze/orders/bronze_olist_orders_04_10_2017.csv\n"
     ]
    },
    {
     "name": "stderr",
     "output_type": "stream",
     "text": [
      "                                                                                \r"
     ]
    },
    {
     "name": "stdout",
     "output_type": "stream",
     "text": [
      "Day 27_05_2017: 83 rows\n",
      "Saved to: datamart/bronze/orders/bronze_olist_orders_27_05_2017.csv\n"
     ]
    },
    {
     "name": "stderr",
     "output_type": "stream",
     "text": [
      "                                                                                \r"
     ]
    },
    {
     "name": "stdout",
     "output_type": "stream",
     "text": [
      "Day 11_01_2017: 12 rows\n",
      "Saved to: datamart/bronze/orders/bronze_olist_orders_11_01_2017.csv\n"
     ]
    },
    {
     "name": "stderr",
     "output_type": "stream",
     "text": [
      "                                                                                \r"
     ]
    },
    {
     "name": "stdout",
     "output_type": "stream",
     "text": [
      "Day 07_03_2018: 259 rows\n",
      "Saved to: datamart/bronze/orders/bronze_olist_orders_07_03_2018.csv\n"
     ]
    },
    {
     "name": "stderr",
     "output_type": "stream",
     "text": [
      "                                                                                \r"
     ]
    },
    {
     "name": "stdout",
     "output_type": "stream",
     "text": [
      "Day 17_06_2017: 75 rows\n",
      "Saved to: datamart/bronze/orders/bronze_olist_orders_17_06_2017.csv\n"
     ]
    },
    {
     "name": "stderr",
     "output_type": "stream",
     "text": [
      "                                                                                \r"
     ]
    },
    {
     "name": "stdout",
     "output_type": "stream",
     "text": [
      "Day 09_07_2017: 94 rows\n",
      "Saved to: datamart/bronze/orders/bronze_olist_orders_09_07_2017.csv\n"
     ]
    },
    {
     "name": "stderr",
     "output_type": "stream",
     "text": [
      "                                                                                \r"
     ]
    },
    {
     "name": "stdout",
     "output_type": "stream",
     "text": [
      "Day 13_04_2018: 202 rows\n",
      "Saved to: datamart/bronze/orders/bronze_olist_orders_13_04_2018.csv\n"
     ]
    },
    {
     "name": "stderr",
     "output_type": "stream",
     "text": [
      "                                                                                \r"
     ]
    },
    {
     "name": "stdout",
     "output_type": "stream",
     "text": [
      "Day 18_03_2018: 215 rows\n",
      "Saved to: datamart/bronze/orders/bronze_olist_orders_18_03_2018.csv\n"
     ]
    },
    {
     "name": "stderr",
     "output_type": "stream",
     "text": [
      "                                                                                \r"
     ]
    },
    {
     "name": "stdout",
     "output_type": "stream",
     "text": [
      "Day 28_01_2018: 156 rows\n",
      "Saved to: datamart/bronze/orders/bronze_olist_orders_28_01_2018.csv\n"
     ]
    },
    {
     "name": "stderr",
     "output_type": "stream",
     "text": [
      "                                                                                \r"
     ]
    },
    {
     "name": "stdout",
     "output_type": "stream",
     "text": [
      "Day 30_01_2017: 53 rows\n",
      "Saved to: datamart/bronze/orders/bronze_olist_orders_30_01_2017.csv\n"
     ]
    },
    {
     "name": "stderr",
     "output_type": "stream",
     "text": [
      "                                                                                \r"
     ]
    },
    {
     "name": "stdout",
     "output_type": "stream",
     "text": [
      "Day 13_01_2017: 12 rows\n",
      "Saved to: datamart/bronze/orders/bronze_olist_orders_13_01_2017.csv\n"
     ]
    },
    {
     "name": "stderr",
     "output_type": "stream",
     "text": [
      "                                                                                \r"
     ]
    },
    {
     "name": "stdout",
     "output_type": "stream",
     "text": [
      "Day 13_06_2017: 126 rows\n",
      "Saved to: datamart/bronze/orders/bronze_olist_orders_13_06_2017.csv\n"
     ]
    },
    {
     "name": "stderr",
     "output_type": "stream",
     "text": [
      "                                                                                \r"
     ]
    },
    {
     "name": "stdout",
     "output_type": "stream",
     "text": [
      "Day 18_04_2017: 71 rows\n",
      "Saved to: datamart/bronze/orders/bronze_olist_orders_18_04_2017.csv\n"
     ]
    },
    {
     "name": "stderr",
     "output_type": "stream",
     "text": [
      "                                                                                \r"
     ]
    },
    {
     "name": "stdout",
     "output_type": "stream",
     "text": [
      "Day 17_07_2017: 168 rows\n",
      "Saved to: datamart/bronze/orders/bronze_olist_orders_17_07_2017.csv\n"
     ]
    },
    {
     "name": "stderr",
     "output_type": "stream",
     "text": [
      "                                                                                \r"
     ]
    },
    {
     "name": "stdout",
     "output_type": "stream",
     "text": [
      "Day 15_02_2017: 62 rows\n",
      "Saved to: datamart/bronze/orders/bronze_olist_orders_15_02_2017.csv\n"
     ]
    },
    {
     "name": "stderr",
     "output_type": "stream",
     "text": [
      "                                                                                \r"
     ]
    },
    {
     "name": "stdout",
     "output_type": "stream",
     "text": [
      "Day 08_07_2017: 84 rows\n",
      "Saved to: datamart/bronze/orders/bronze_olist_orders_08_07_2017.csv\n"
     ]
    },
    {
     "name": "stderr",
     "output_type": "stream",
     "text": [
      "                                                                                \r"
     ]
    },
    {
     "name": "stdout",
     "output_type": "stream",
     "text": [
      "Day 06_05_2017: 109 rows\n",
      "Saved to: datamart/bronze/orders/bronze_olist_orders_06_05_2017.csv\n"
     ]
    },
    {
     "name": "stderr",
     "output_type": "stream",
     "text": [
      "                                                                                \r"
     ]
    },
    {
     "name": "stdout",
     "output_type": "stream",
     "text": [
      "Day 12_03_2018: 232 rows\n",
      "Saved to: datamart/bronze/orders/bronze_olist_orders_12_03_2018.csv\n"
     ]
    },
    {
     "name": "stderr",
     "output_type": "stream",
     "text": [
      "                                                                                \r"
     ]
    },
    {
     "name": "stdout",
     "output_type": "stream",
     "text": [
      "Day 22_04_2017: 84 rows\n",
      "Saved to: datamart/bronze/orders/bronze_olist_orders_22_04_2017.csv\n"
     ]
    },
    {
     "name": "stderr",
     "output_type": "stream",
     "text": [
      "                                                                                \r"
     ]
    },
    {
     "name": "stdout",
     "output_type": "stream",
     "text": [
      "Day 30_08_2017: 181 rows\n",
      "Saved to: datamart/bronze/orders/bronze_olist_orders_30_08_2017.csv\n"
     ]
    },
    {
     "name": "stderr",
     "output_type": "stream",
     "text": [
      "                                                                                \r"
     ]
    },
    {
     "name": "stdout",
     "output_type": "stream",
     "text": [
      "Day 14_05_2017: 112 rows\n",
      "Saved to: datamart/bronze/orders/bronze_olist_orders_14_05_2017.csv\n"
     ]
    },
    {
     "name": "stderr",
     "output_type": "stream",
     "text": [
      "                                                                                \r"
     ]
    },
    {
     "name": "stdout",
     "output_type": "stream",
     "text": [
      "Day 22_06_2018: 179 rows\n",
      "Saved to: datamart/bronze/orders/bronze_olist_orders_22_06_2018.csv\n"
     ]
    },
    {
     "name": "stderr",
     "output_type": "stream",
     "text": [
      "                                                                                \r"
     ]
    },
    {
     "name": "stdout",
     "output_type": "stream",
     "text": [
      "Day 04_08_2017: 142 rows\n",
      "Saved to: datamart/bronze/orders/bronze_olist_orders_04_08_2017.csv\n"
     ]
    },
    {
     "name": "stderr",
     "output_type": "stream",
     "text": [
      "                                                                                \r"
     ]
    },
    {
     "name": "stdout",
     "output_type": "stream",
     "text": [
      "Day 22_01_2018: 314 rows\n",
      "Saved to: datamart/bronze/orders/bronze_olist_orders_22_01_2018.csv\n"
     ]
    },
    {
     "name": "stderr",
     "output_type": "stream",
     "text": [
      "                                                                                \r"
     ]
    },
    {
     "name": "stdout",
     "output_type": "stream",
     "text": [
      "Day 23_03_2017: 114 rows\n",
      "Saved to: datamart/bronze/orders/bronze_olist_orders_23_03_2017.csv\n"
     ]
    },
    {
     "name": "stderr",
     "output_type": "stream",
     "text": [
      "                                                                                \r"
     ]
    },
    {
     "name": "stdout",
     "output_type": "stream",
     "text": [
      "Day 07_11_2017: 160 rows\n",
      "Saved to: datamart/bronze/orders/bronze_olist_orders_07_11_2017.csv\n"
     ]
    },
    {
     "name": "stderr",
     "output_type": "stream",
     "text": [
      "                                                                                \r"
     ]
    },
    {
     "name": "stdout",
     "output_type": "stream",
     "text": [
      "Day 04_02_2017: 67 rows\n",
      "Saved to: datamart/bronze/orders/bronze_olist_orders_04_02_2017.csv\n"
     ]
    },
    {
     "name": "stderr",
     "output_type": "stream",
     "text": [
      "                                                                                \r"
     ]
    },
    {
     "name": "stdout",
     "output_type": "stream",
     "text": [
      "Day 05_06_2018: 200 rows\n",
      "Saved to: datamart/bronze/orders/bronze_olist_orders_05_06_2018.csv\n"
     ]
    },
    {
     "name": "stderr",
     "output_type": "stream",
     "text": [
      "                                                                                \r"
     ]
    },
    {
     "name": "stdout",
     "output_type": "stream",
     "text": [
      "Day 14_02_2018: 295 rows\n",
      "Saved to: datamart/bronze/orders/bronze_olist_orders_14_02_2018.csv\n"
     ]
    },
    {
     "name": "stderr",
     "output_type": "stream",
     "text": [
      "                                                                                \r"
     ]
    },
    {
     "name": "stdout",
     "output_type": "stream",
     "text": [
      "Day 12_01_2017: 13 rows\n",
      "Saved to: datamart/bronze/orders/bronze_olist_orders_12_01_2017.csv\n"
     ]
    },
    {
     "name": "stderr",
     "output_type": "stream",
     "text": [
      "                                                                                \r"
     ]
    },
    {
     "name": "stdout",
     "output_type": "stream",
     "text": [
      "Day 26_07_2018: 247 rows\n",
      "Saved to: datamart/bronze/orders/bronze_olist_orders_26_07_2018.csv\n"
     ]
    },
    {
     "name": "stderr",
     "output_type": "stream",
     "text": [
      "                                                                                \r"
     ]
    },
    {
     "name": "stdout",
     "output_type": "stream",
     "text": [
      "Day 02_05_2017: 128 rows\n",
      "Saved to: datamart/bronze/orders/bronze_olist_orders_02_05_2017.csv\n"
     ]
    },
    {
     "name": "stderr",
     "output_type": "stream",
     "text": [
      "                                                                                \r"
     ]
    },
    {
     "name": "stdout",
     "output_type": "stream",
     "text": [
      "Day 26_04_2018: 254 rows\n",
      "Saved to: datamart/bronze/orders/bronze_olist_orders_26_04_2018.csv\n"
     ]
    },
    {
     "name": "stderr",
     "output_type": "stream",
     "text": [
      "                                                                                \r"
     ]
    },
    {
     "name": "stdout",
     "output_type": "stream",
     "text": [
      "Day 26_05_2018: 99 rows\n",
      "Saved to: datamart/bronze/orders/bronze_olist_orders_26_05_2018.csv\n"
     ]
    },
    {
     "name": "stderr",
     "output_type": "stream",
     "text": [
      "                                                                                \r"
     ]
    },
    {
     "name": "stdout",
     "output_type": "stream",
     "text": [
      "Day 03_02_2017: 60 rows\n",
      "Saved to: datamart/bronze/orders/bronze_olist_orders_03_02_2017.csv\n"
     ]
    },
    {
     "name": "stderr",
     "output_type": "stream",
     "text": [
      "                                                                                \r"
     ]
    },
    {
     "name": "stdout",
     "output_type": "stream",
     "text": [
      "Day 19_11_2017: 158 rows\n",
      "Saved to: datamart/bronze/orders/bronze_olist_orders_19_11_2017.csv\n"
     ]
    },
    {
     "name": "stderr",
     "output_type": "stream",
     "text": [
      "                                                                                \r"
     ]
    },
    {
     "name": "stdout",
     "output_type": "stream",
     "text": [
      "Day 13_04_2017: 60 rows\n",
      "Saved to: datamart/bronze/orders/bronze_olist_orders_13_04_2017.csv\n"
     ]
    },
    {
     "name": "stderr",
     "output_type": "stream",
     "text": [
      "                                                                                \r"
     ]
    },
    {
     "name": "stdout",
     "output_type": "stream",
     "text": [
      "Day 22_08_2017: 138 rows\n",
      "Saved to: datamart/bronze/orders/bronze_olist_orders_22_08_2017.csv\n"
     ]
    },
    {
     "name": "stderr",
     "output_type": "stream",
     "text": [
      "                                                                                \r"
     ]
    },
    {
     "name": "stdout",
     "output_type": "stream",
     "text": [
      "Day 12_12_2017: 260 rows\n",
      "Saved to: datamart/bronze/orders/bronze_olist_orders_12_12_2017.csv\n"
     ]
    },
    {
     "name": "stderr",
     "output_type": "stream",
     "text": [
      "                                                                                \r"
     ]
    },
    {
     "name": "stdout",
     "output_type": "stream",
     "text": [
      "Day 26_11_2017: 391 rows\n",
      "Saved to: datamart/bronze/orders/bronze_olist_orders_26_11_2017.csv\n"
     ]
    },
    {
     "name": "stderr",
     "output_type": "stream",
     "text": [
      "                                                                                \r"
     ]
    },
    {
     "name": "stdout",
     "output_type": "stream",
     "text": [
      "Day 29_04_2017: 74 rows\n",
      "Saved to: datamart/bronze/orders/bronze_olist_orders_29_04_2017.csv\n"
     ]
    },
    {
     "name": "stderr",
     "output_type": "stream",
     "text": [
      "                                                                                \r"
     ]
    },
    {
     "name": "stdout",
     "output_type": "stream",
     "text": [
      "Day 06_07_2017: 154 rows\n",
      "Saved to: datamart/bronze/orders/bronze_olist_orders_06_07_2017.csv\n"
     ]
    },
    {
     "name": "stderr",
     "output_type": "stream",
     "text": [
      "                                                                                \r"
     ]
    },
    {
     "name": "stdout",
     "output_type": "stream",
     "text": [
      "Day 05_11_2017: 144 rows\n",
      "Saved to: datamart/bronze/orders/bronze_olist_orders_05_11_2017.csv\n"
     ]
    },
    {
     "name": "stderr",
     "output_type": "stream",
     "text": [
      "                                                                                \r"
     ]
    },
    {
     "name": "stdout",
     "output_type": "stream",
     "text": [
      "Day 14_05_2018: 364 rows\n",
      "Saved to: datamart/bronze/orders/bronze_olist_orders_14_05_2018.csv\n"
     ]
    },
    {
     "name": "stderr",
     "output_type": "stream",
     "text": [
      "                                                                                \r"
     ]
    },
    {
     "name": "stdout",
     "output_type": "stream",
     "text": [
      "Day 27_12_2017: 167 rows\n",
      "Saved to: datamart/bronze/orders/bronze_olist_orders_27_12_2017.csv\n"
     ]
    },
    {
     "name": "stderr",
     "output_type": "stream",
     "text": [
      "                                                                                \r"
     ]
    },
    {
     "name": "stdout",
     "output_type": "stream",
     "text": [
      "Day 27_01_2017: 62 rows\n",
      "Saved to: datamart/bronze/orders/bronze_olist_orders_27_01_2017.csv\n"
     ]
    },
    {
     "name": "stderr",
     "output_type": "stream",
     "text": [
      "                                                                                \r"
     ]
    },
    {
     "name": "stdout",
     "output_type": "stream",
     "text": [
      "Day 13_03_2017: 111 rows\n",
      "Saved to: datamart/bronze/orders/bronze_olist_orders_13_03_2017.csv\n"
     ]
    },
    {
     "name": "stderr",
     "output_type": "stream",
     "text": [
      "                                                                                \r"
     ]
    },
    {
     "name": "stdout",
     "output_type": "stream",
     "text": [
      "Day 22_07_2018: 215 rows\n",
      "Saved to: datamart/bronze/orders/bronze_olist_orders_22_07_2018.csv\n"
     ]
    },
    {
     "name": "stderr",
     "output_type": "stream",
     "text": [
      "                                                                                \r"
     ]
    },
    {
     "name": "stdout",
     "output_type": "stream",
     "text": [
      "Day 11_10_2017: 158 rows\n",
      "Saved to: datamart/bronze/orders/bronze_olist_orders_11_10_2017.csv\n"
     ]
    },
    {
     "name": "stderr",
     "output_type": "stream",
     "text": [
      "                                                                                \r"
     ]
    },
    {
     "name": "stdout",
     "output_type": "stream",
     "text": [
      "Day 14_09_2017: 166 rows\n",
      "Saved to: datamart/bronze/orders/bronze_olist_orders_14_09_2017.csv\n"
     ]
    },
    {
     "name": "stderr",
     "output_type": "stream",
     "text": [
      "                                                                                \r"
     ]
    },
    {
     "name": "stdout",
     "output_type": "stream",
     "text": [
      "Day 05_03_2017: 74 rows\n",
      "Saved to: datamart/bronze/orders/bronze_olist_orders_05_03_2017.csv\n"
     ]
    },
    {
     "name": "stderr",
     "output_type": "stream",
     "text": [
      "                                                                                \r"
     ]
    },
    {
     "name": "stdout",
     "output_type": "stream",
     "text": [
      "Day 02_07_2017: 108 rows\n",
      "Saved to: datamart/bronze/orders/bronze_olist_orders_02_07_2017.csv\n"
     ]
    },
    {
     "name": "stderr",
     "output_type": "stream",
     "text": [
      "                                                                                \r"
     ]
    },
    {
     "name": "stdout",
     "output_type": "stream",
     "text": [
      "Day 08_02_2017: 95 rows\n",
      "Saved to: datamart/bronze/orders/bronze_olist_orders_08_02_2017.csv\n"
     ]
    },
    {
     "name": "stderr",
     "output_type": "stream",
     "text": [
      "                                                                                \r"
     ]
    },
    {
     "name": "stdout",
     "output_type": "stream",
     "text": [
      "Day 06_11_2017: 193 rows\n",
      "Saved to: datamart/bronze/orders/bronze_olist_orders_06_11_2017.csv\n"
     ]
    },
    {
     "name": "stderr",
     "output_type": "stream",
     "text": [
      "                                                                                \r"
     ]
    },
    {
     "name": "stdout",
     "output_type": "stream",
     "text": [
      "Day 08_06_2017: 137 rows\n",
      "Saved to: datamart/bronze/orders/bronze_olist_orders_08_06_2017.csv\n"
     ]
    },
    {
     "name": "stderr",
     "output_type": "stream",
     "text": [
      "                                                                                \r"
     ]
    },
    {
     "name": "stdout",
     "output_type": "stream",
     "text": [
      "Day 27_08_2018: 67 rows\n",
      "Saved to: datamart/bronze/orders/bronze_olist_orders_27_08_2018.csv\n"
     ]
    },
    {
     "name": "stderr",
     "output_type": "stream",
     "text": [
      "                                                                                \r"
     ]
    },
    {
     "name": "stdout",
     "output_type": "stream",
     "text": [
      "Day 25_05_2017: 108 rows\n",
      "Saved to: datamart/bronze/orders/bronze_olist_orders_25_05_2017.csv\n"
     ]
    },
    {
     "name": "stderr",
     "output_type": "stream",
     "text": [
      "                                                                                \r"
     ]
    },
    {
     "name": "stdout",
     "output_type": "stream",
     "text": [
      "Day 24_04_2017: 115 rows\n",
      "Saved to: datamart/bronze/orders/bronze_olist_orders_24_04_2017.csv\n"
     ]
    },
    {
     "name": "stderr",
     "output_type": "stream",
     "text": [
      "                                                                                \r"
     ]
    },
    {
     "name": "stdout",
     "output_type": "stream",
     "text": [
      "Day 01_02_2017: 73 rows\n",
      "Saved to: datamart/bronze/orders/bronze_olist_orders_01_02_2017.csv\n"
     ]
    },
    {
     "name": "stderr",
     "output_type": "stream",
     "text": [
      "                                                                                \r"
     ]
    },
    {
     "name": "stdout",
     "output_type": "stream",
     "text": [
      "Day 18_01_2018: 241 rows\n",
      "Saved to: datamart/bronze/orders/bronze_olist_orders_18_01_2018.csv\n"
     ]
    },
    {
     "name": "stderr",
     "output_type": "stream",
     "text": [
      "                                                                                \r"
     ]
    },
    {
     "name": "stdout",
     "output_type": "stream",
     "text": [
      "Day 29_12_2017: 135 rows\n",
      "Saved to: datamart/bronze/orders/bronze_olist_orders_29_12_2017.csv\n"
     ]
    },
    {
     "name": "stderr",
     "output_type": "stream",
     "text": [
      "                                                                                \r"
     ]
    },
    {
     "name": "stdout",
     "output_type": "stream",
     "text": [
      "Day 22_06_2017: 88 rows\n",
      "Saved to: datamart/bronze/orders/bronze_olist_orders_22_06_2017.csv\n"
     ]
    },
    {
     "name": "stderr",
     "output_type": "stream",
     "text": [
      "                                                                                \r"
     ]
    },
    {
     "name": "stdout",
     "output_type": "stream",
     "text": [
      "Day 17_09_2018: 1 rows\n",
      "Saved to: datamart/bronze/orders/bronze_olist_orders_17_09_2018.csv\n"
     ]
    },
    {
     "name": "stderr",
     "output_type": "stream",
     "text": [
      "                                                                                \r"
     ]
    },
    {
     "name": "stdout",
     "output_type": "stream",
     "text": [
      "Day 13_07_2017: 137 rows\n",
      "Saved to: datamart/bronze/orders/bronze_olist_orders_13_07_2017.csv\n"
     ]
    },
    {
     "name": "stderr",
     "output_type": "stream",
     "text": [
      "                                                                                \r"
     ]
    },
    {
     "name": "stdout",
     "output_type": "stream",
     "text": [
      "Day 12_06_2018: 246 rows\n",
      "Saved to: datamart/bronze/orders/bronze_olist_orders_12_06_2018.csv\n"
     ]
    },
    {
     "name": "stderr",
     "output_type": "stream",
     "text": [
      "                                                                                \r"
     ]
    },
    {
     "name": "stdout",
     "output_type": "stream",
     "text": [
      "Day 14_08_2018: 316 rows\n",
      "Saved to: datamart/bronze/orders/bronze_olist_orders_14_08_2018.csv\n"
     ]
    },
    {
     "name": "stderr",
     "output_type": "stream",
     "text": [
      "                                                                                \r"
     ]
    },
    {
     "name": "stdout",
     "output_type": "stream",
     "text": [
      "Day 20_07_2017: 142 rows\n",
      "Saved to: datamart/bronze/orders/bronze_olist_orders_20_07_2017.csv\n"
     ]
    },
    {
     "name": "stderr",
     "output_type": "stream",
     "text": [
      "                                                                                \r"
     ]
    },
    {
     "name": "stdout",
     "output_type": "stream",
     "text": [
      "Day 31_01_2017: 70 rows\n",
      "Saved to: datamart/bronze/orders/bronze_olist_orders_31_01_2017.csv\n"
     ]
    },
    {
     "name": "stderr",
     "output_type": "stream",
     "text": [
      "                                                                                \r"
     ]
    },
    {
     "name": "stdout",
     "output_type": "stream",
     "text": [
      "Day 24_01_2017: 40 rows\n",
      "Saved to: datamart/bronze/orders/bronze_olist_orders_24_01_2017.csv\n"
     ]
    },
    {
     "name": "stderr",
     "output_type": "stream",
     "text": [
      "                                                                                \r"
     ]
    },
    {
     "name": "stdout",
     "output_type": "stream",
     "text": [
      "Day 13_08_2018: 292 rows\n",
      "Saved to: datamart/bronze/orders/bronze_olist_orders_13_08_2018.csv\n"
     ]
    },
    {
     "name": "stderr",
     "output_type": "stream",
     "text": [
      "                                                                                \r"
     ]
    },
    {
     "name": "stdout",
     "output_type": "stream",
     "text": [
      "Day 09_04_2017: 73 rows\n",
      "Saved to: datamart/bronze/orders/bronze_olist_orders_09_04_2017.csv\n"
     ]
    },
    {
     "name": "stderr",
     "output_type": "stream",
     "text": [
      "                                                                                \r"
     ]
    },
    {
     "name": "stdout",
     "output_type": "stream",
     "text": [
      "Day 25_04_2018: 284 rows\n",
      "Saved to: datamart/bronze/orders/bronze_olist_orders_25_04_2018.csv\n"
     ]
    },
    {
     "name": "stderr",
     "output_type": "stream",
     "text": [
      "                                                                                \r"
     ]
    },
    {
     "name": "stdout",
     "output_type": "stream",
     "text": [
      "Day 23_06_2018: 151 rows\n",
      "Saved to: datamart/bronze/orders/bronze_olist_orders_23_06_2018.csv\n"
     ]
    },
    {
     "name": "stderr",
     "output_type": "stream",
     "text": [
      "                                                                                \r"
     ]
    },
    {
     "name": "stdout",
     "output_type": "stream",
     "text": [
      "Day 07_09_2017: 99 rows\n",
      "Saved to: datamart/bronze/orders/bronze_olist_orders_07_09_2017.csv\n"
     ]
    },
    {
     "name": "stderr",
     "output_type": "stream",
     "text": [
      "                                                                                \r"
     ]
    },
    {
     "name": "stdout",
     "output_type": "stream",
     "text": [
      "Day 31_08_2017: 149 rows\n",
      "Saved to: datamart/bronze/orders/bronze_olist_orders_31_08_2017.csv\n"
     ]
    },
    {
     "name": "stderr",
     "output_type": "stream",
     "text": [
      "                                                                                \r"
     ]
    },
    {
     "name": "stdout",
     "output_type": "stream",
     "text": [
      "Day 12_07_2018: 124 rows\n",
      "Saved to: datamart/bronze/orders/bronze_olist_orders_12_07_2018.csv\n"
     ]
    },
    {
     "name": "stderr",
     "output_type": "stream",
     "text": [
      "                                                                                \r"
     ]
    },
    {
     "name": "stdout",
     "output_type": "stream",
     "text": [
      "Day 03_03_2018: 214 rows\n",
      "Saved to: datamart/bronze/orders/bronze_olist_orders_03_03_2018.csv\n"
     ]
    },
    {
     "name": "stderr",
     "output_type": "stream",
     "text": [
      "                                                                                \r"
     ]
    },
    {
     "name": "stdout",
     "output_type": "stream",
     "text": [
      "Day 25_01_2018: 233 rows\n",
      "Saved to: datamart/bronze/orders/bronze_olist_orders_25_01_2018.csv\n"
     ]
    },
    {
     "name": "stderr",
     "output_type": "stream",
     "text": [
      "                                                                                \r"
     ]
    },
    {
     "name": "stdout",
     "output_type": "stream",
     "text": [
      "Day 28_10_2017: 88 rows\n",
      "Saved to: datamart/bronze/orders/bronze_olist_orders_28_10_2017.csv\n"
     ]
    },
    {
     "name": "stderr",
     "output_type": "stream",
     "text": [
      "                                                                                \r"
     ]
    },
    {
     "name": "stdout",
     "output_type": "stream",
     "text": [
      "Day 05_09_2016: 1 rows\n",
      "Saved to: datamart/bronze/orders/bronze_olist_orders_05_09_2016.csv\n"
     ]
    },
    {
     "name": "stderr",
     "output_type": "stream",
     "text": [
      "                                                                                \r"
     ]
    },
    {
     "name": "stdout",
     "output_type": "stream",
     "text": [
      "Day 17_05_2017: 141 rows\n",
      "Saved to: datamart/bronze/orders/bronze_olist_orders_17_05_2017.csv\n"
     ]
    },
    {
     "name": "stderr",
     "output_type": "stream",
     "text": [
      "                                                                                \r"
     ]
    },
    {
     "name": "stdout",
     "output_type": "stream",
     "text": [
      "Day 25_12_2017: 90 rows\n",
      "Saved to: datamart/bronze/orders/bronze_olist_orders_25_12_2017.csv\n"
     ]
    },
    {
     "name": "stderr",
     "output_type": "stream",
     "text": [
      "                                                                                \r"
     ]
    },
    {
     "name": "stdout",
     "output_type": "stream",
     "text": [
      "Day 04_10_2016: 63 rows\n",
      "Saved to: datamart/bronze/orders/bronze_olist_orders_04_10_2016.csv\n"
     ]
    },
    {
     "name": "stderr",
     "output_type": "stream",
     "text": [
      "                                                                                \r"
     ]
    },
    {
     "name": "stdout",
     "output_type": "stream",
     "text": [
      "Day 29_01_2017: 35 rows\n",
      "Saved to: datamart/bronze/orders/bronze_olist_orders_29_01_2017.csv\n"
     ]
    },
    {
     "name": "stderr",
     "output_type": "stream",
     "text": [
      "                                                                                \r"
     ]
    },
    {
     "name": "stdout",
     "output_type": "stream",
     "text": [
      "Day 22_03_2018: 254 rows\n",
      "Saved to: datamart/bronze/orders/bronze_olist_orders_22_03_2018.csv\n"
     ]
    },
    {
     "name": "stderr",
     "output_type": "stream",
     "text": [
      "                                                                                \r"
     ]
    },
    {
     "name": "stdout",
     "output_type": "stream",
     "text": [
      "Day 29_07_2017: 115 rows\n",
      "Saved to: datamart/bronze/orders/bronze_olist_orders_29_07_2017.csv\n"
     ]
    },
    {
     "name": "stderr",
     "output_type": "stream",
     "text": [
      "                                                                                \r"
     ]
    },
    {
     "name": "stdout",
     "output_type": "stream",
     "text": [
      "Day 14_04_2017: 54 rows\n",
      "Saved to: datamart/bronze/orders/bronze_olist_orders_14_04_2017.csv\n"
     ]
    },
    {
     "name": "stderr",
     "output_type": "stream",
     "text": [
      "                                                                                \r"
     ]
    },
    {
     "name": "stdout",
     "output_type": "stream",
     "text": [
      "Day 28_08_2017: 155 rows\n",
      "Saved to: datamart/bronze/orders/bronze_olist_orders_28_08_2017.csv\n"
     ]
    },
    {
     "name": "stderr",
     "output_type": "stream",
     "text": [
      "                                                                                \r"
     ]
    },
    {
     "name": "stdout",
     "output_type": "stream",
     "text": [
      "Day 20_03_2017: 119 rows\n",
      "Saved to: datamart/bronze/orders/bronze_olist_orders_20_03_2017.csv\n"
     ]
    },
    {
     "name": "stderr",
     "output_type": "stream",
     "text": [
      "                                                                                \r"
     ]
    },
    {
     "name": "stdout",
     "output_type": "stream",
     "text": [
      "Day 06_07_2018: 121 rows\n",
      "Saved to: datamart/bronze/orders/bronze_olist_orders_06_07_2018.csv\n"
     ]
    },
    {
     "name": "stderr",
     "output_type": "stream",
     "text": [
      "                                                                                \r"
     ]
    },
    {
     "name": "stdout",
     "output_type": "stream",
     "text": [
      "Day 17_07_2018: 221 rows\n",
      "Saved to: datamart/bronze/orders/bronze_olist_orders_17_07_2018.csv\n"
     ]
    },
    {
     "name": "stderr",
     "output_type": "stream",
     "text": [
      "                                                                                \r"
     ]
    },
    {
     "name": "stdout",
     "output_type": "stream",
     "text": [
      "Day 07_10_2017: 105 rows\n",
      "Saved to: datamart/bronze/orders/bronze_olist_orders_07_10_2017.csv\n"
     ]
    },
    {
     "name": "stderr",
     "output_type": "stream",
     "text": [
      "                                                                                \r"
     ]
    },
    {
     "name": "stdout",
     "output_type": "stream",
     "text": [
      "Day 03_03_2017: 74 rows\n",
      "Saved to: datamart/bronze/orders/bronze_olist_orders_03_03_2017.csv\n"
     ]
    },
    {
     "name": "stderr",
     "output_type": "stream",
     "text": [
      "                                                                                \r"
     ]
    },
    {
     "name": "stdout",
     "output_type": "stream",
     "text": [
      "Day 14_07_2018: 148 rows\n",
      "Saved to: datamart/bronze/orders/bronze_olist_orders_14_07_2018.csv\n"
     ]
    },
    {
     "name": "stderr",
     "output_type": "stream",
     "text": [
      "                                                                                \r"
     ]
    },
    {
     "name": "stdout",
     "output_type": "stream",
     "text": [
      "Day 18_12_2017: 209 rows\n",
      "Saved to: datamart/bronze/orders/bronze_olist_orders_18_12_2017.csv\n"
     ]
    },
    {
     "name": "stderr",
     "output_type": "stream",
     "text": [
      "                                                                                \r"
     ]
    },
    {
     "name": "stdout",
     "output_type": "stream",
     "text": [
      "Day 02_09_2017: 104 rows\n",
      "Saved to: datamart/bronze/orders/bronze_olist_orders_02_09_2017.csv\n"
     ]
    },
    {
     "name": "stderr",
     "output_type": "stream",
     "text": [
      "                                                                                \r"
     ]
    },
    {
     "name": "stdout",
     "output_type": "stream",
     "text": [
      "Day 24_06_2018: 199 rows\n",
      "Saved to: datamart/bronze/orders/bronze_olist_orders_24_06_2018.csv\n"
     ]
    },
    {
     "name": "stderr",
     "output_type": "stream",
     "text": [
      "                                                                                \r"
     ]
    },
    {
     "name": "stdout",
     "output_type": "stream",
     "text": [
      "Day 27_03_2018: 245 rows\n",
      "Saved to: datamart/bronze/orders/bronze_olist_orders_27_03_2018.csv\n"
     ]
    },
    {
     "name": "stderr",
     "output_type": "stream",
     "text": [
      "                                                                                \r"
     ]
    },
    {
     "name": "stdout",
     "output_type": "stream",
     "text": [
      "Day 23_03_2018: 221 rows\n",
      "Saved to: datamart/bronze/orders/bronze_olist_orders_23_03_2018.csv\n"
     ]
    },
    {
     "name": "stderr",
     "output_type": "stream",
     "text": [
      "                                                                                \r"
     ]
    },
    {
     "name": "stdout",
     "output_type": "stream",
     "text": [
      "Day 27_04_2017: 80 rows\n",
      "Saved to: datamart/bronze/orders/bronze_olist_orders_27_04_2017.csv\n"
     ]
    },
    {
     "name": "stderr",
     "output_type": "stream",
     "text": [
      "                                                                                \r"
     ]
    },
    {
     "name": "stdout",
     "output_type": "stream",
     "text": [
      "Day 18_01_2017: 33 rows\n",
      "Saved to: datamart/bronze/orders/bronze_olist_orders_18_01_2017.csv\n"
     ]
    },
    {
     "name": "stderr",
     "output_type": "stream",
     "text": [
      "                                                                                \r"
     ]
    },
    {
     "name": "stdout",
     "output_type": "stream",
     "text": [
      "Day 01_07_2018: 161 rows\n",
      "Saved to: datamart/bronze/orders/bronze_olist_orders_01_07_2018.csv\n"
     ]
    },
    {
     "name": "stderr",
     "output_type": "stream",
     "text": [
      "                                                                                \r"
     ]
    },
    {
     "name": "stdout",
     "output_type": "stream",
     "text": [
      "Day 14_06_2018: 212 rows\n",
      "Saved to: datamart/bronze/orders/bronze_olist_orders_14_06_2018.csv\n"
     ]
    },
    {
     "name": "stderr",
     "output_type": "stream",
     "text": [
      "                                                                                \r"
     ]
    },
    {
     "name": "stdout",
     "output_type": "stream",
     "text": [
      "Day 10_03_2017: 88 rows\n",
      "Saved to: datamart/bronze/orders/bronze_olist_orders_10_03_2017.csv\n"
     ]
    },
    {
     "name": "stderr",
     "output_type": "stream",
     "text": [
      "                                                                                \r"
     ]
    },
    {
     "name": "stdout",
     "output_type": "stream",
     "text": [
      "Day 11_07_2018: 127 rows\n",
      "Saved to: datamart/bronze/orders/bronze_olist_orders_11_07_2018.csv\n"
     ]
    },
    {
     "name": "stderr",
     "output_type": "stream",
     "text": [
      "                                                                                \r"
     ]
    },
    {
     "name": "stdout",
     "output_type": "stream",
     "text": [
      "Day 03_04_2017: 72 rows\n",
      "Saved to: datamart/bronze/orders/bronze_olist_orders_03_04_2017.csv\n"
     ]
    },
    {
     "name": "stderr",
     "output_type": "stream",
     "text": [
      "                                                                                \r"
     ]
    },
    {
     "name": "stdout",
     "output_type": "stream",
     "text": [
      "Day 13_09_2018: 1 rows\n",
      "Saved to: datamart/bronze/orders/bronze_olist_orders_13_09_2018.csv\n"
     ]
    },
    {
     "name": "stderr",
     "output_type": "stream",
     "text": [
      "                                                                                \r"
     ]
    },
    {
     "name": "stdout",
     "output_type": "stream",
     "text": [
      "Day 02_07_2018: 195 rows\n",
      "Saved to: datamart/bronze/orders/bronze_olist_orders_02_07_2018.csv\n"
     ]
    },
    {
     "name": "stderr",
     "output_type": "stream",
     "text": [
      "                                                                                \r"
     ]
    },
    {
     "name": "stdout",
     "output_type": "stream",
     "text": [
      "Day 30_05_2018: 140 rows\n",
      "Saved to: datamart/bronze/orders/bronze_olist_orders_30_05_2018.csv\n"
     ]
    },
    {
     "name": "stderr",
     "output_type": "stream",
     "text": [
      "                                                                                \r"
     ]
    },
    {
     "name": "stdout",
     "output_type": "stream",
     "text": [
      "Day 04_03_2018: 236 rows\n",
      "Saved to: datamart/bronze/orders/bronze_olist_orders_04_03_2018.csv\n"
     ]
    },
    {
     "name": "stderr",
     "output_type": "stream",
     "text": [
      "                                                                                \r"
     ]
    },
    {
     "name": "stdout",
     "output_type": "stream",
     "text": [
      "Day 10_07_2017: 143 rows\n",
      "Saved to: datamart/bronze/orders/bronze_olist_orders_10_07_2017.csv\n"
     ]
    },
    {
     "name": "stderr",
     "output_type": "stream",
     "text": [
      "                                                                                \r"
     ]
    },
    {
     "name": "stdout",
     "output_type": "stream",
     "text": [
      "Day 29_05_2017: 160 rows\n",
      "Saved to: datamart/bronze/orders/bronze_olist_orders_29_05_2017.csv\n"
     ]
    },
    {
     "name": "stderr",
     "output_type": "stream",
     "text": [
      "                                                                                \r"
     ]
    },
    {
     "name": "stdout",
     "output_type": "stream",
     "text": [
      "Day 28_04_2018: 169 rows\n",
      "Saved to: datamart/bronze/orders/bronze_olist_orders_28_04_2018.csv\n"
     ]
    },
    {
     "name": "stderr",
     "output_type": "stream",
     "text": [
      "                                                                                \r"
     ]
    },
    {
     "name": "stdout",
     "output_type": "stream",
     "text": [
      "Day 08_04_2018: 185 rows\n",
      "Saved to: datamart/bronze/orders/bronze_olist_orders_08_04_2018.csv\n"
     ]
    },
    {
     "name": "stderr",
     "output_type": "stream",
     "text": [
      "                                                                                \r"
     ]
    },
    {
     "name": "stdout",
     "output_type": "stream",
     "text": [
      "Day 15_07_2017: 98 rows\n",
      "Saved to: datamart/bronze/orders/bronze_olist_orders_15_07_2017.csv\n"
     ]
    },
    {
     "name": "stderr",
     "output_type": "stream",
     "text": [
      "                                                                                \r"
     ]
    },
    {
     "name": "stdout",
     "output_type": "stream",
     "text": [
      "Day 02_04_2017: 65 rows\n",
      "Saved to: datamart/bronze/orders/bronze_olist_orders_02_04_2017.csv\n"
     ]
    },
    {
     "name": "stderr",
     "output_type": "stream",
     "text": [
      "                                                                                \r"
     ]
    },
    {
     "name": "stdout",
     "output_type": "stream",
     "text": [
      "Day 28_03_2017: 103 rows\n",
      "Saved to: datamart/bronze/orders/bronze_olist_orders_28_03_2017.csv\n"
     ]
    },
    {
     "name": "stderr",
     "output_type": "stream",
     "text": [
      "                                                                                \r"
     ]
    },
    {
     "name": "stdout",
     "output_type": "stream",
     "text": [
      "Day 16_01_2018: 302 rows\n",
      "Saved to: datamart/bronze/orders/bronze_olist_orders_16_01_2018.csv\n"
     ]
    },
    {
     "name": "stderr",
     "output_type": "stream",
     "text": [
      "                                                                                \r"
     ]
    },
    {
     "name": "stdout",
     "output_type": "stream",
     "text": [
      "Day 11_08_2018: 188 rows\n",
      "Saved to: datamart/bronze/orders/bronze_olist_orders_11_08_2018.csv\n"
     ]
    },
    {
     "name": "stderr",
     "output_type": "stream",
     "text": [
      "                                                                                \r"
     ]
    },
    {
     "name": "stdout",
     "output_type": "stream",
     "text": [
      "Day 01_10_2017: 128 rows\n",
      "Saved to: datamart/bronze/orders/bronze_olist_orders_01_10_2017.csv\n"
     ]
    },
    {
     "name": "stderr",
     "output_type": "stream",
     "text": [
      "                                                                                \r"
     ]
    },
    {
     "name": "stdout",
     "output_type": "stream",
     "text": [
      "Day 25_08_2017: 123 rows\n",
      "Saved to: datamart/bronze/orders/bronze_olist_orders_25_08_2017.csv\n"
     ]
    },
    {
     "name": "stderr",
     "output_type": "stream",
     "text": [
      "                                                                                \r"
     ]
    },
    {
     "name": "stdout",
     "output_type": "stream",
     "text": [
      "Day 13_12_2017: 218 rows\n",
      "Saved to: datamart/bronze/orders/bronze_olist_orders_13_12_2017.csv\n"
     ]
    },
    {
     "name": "stderr",
     "output_type": "stream",
     "text": [
      "                                                                                \r"
     ]
    },
    {
     "name": "stdout",
     "output_type": "stream",
     "text": [
      "Day 19_05_2018: 139 rows\n",
      "Saved to: datamart/bronze/orders/bronze_olist_orders_19_05_2018.csv\n"
     ]
    },
    {
     "name": "stderr",
     "output_type": "stream",
     "text": [
      "                                                                                \r"
     ]
    },
    {
     "name": "stdout",
     "output_type": "stream",
     "text": [
      "Day 02_11_2017: 124 rows\n",
      "Saved to: datamart/bronze/orders/bronze_olist_orders_02_11_2017.csv\n"
     ]
    },
    {
     "name": "stderr",
     "output_type": "stream",
     "text": [
      "                                                                                \r"
     ]
    },
    {
     "name": "stdout",
     "output_type": "stream",
     "text": [
      "Day 17_01_2017: 32 rows\n",
      "Saved to: datamart/bronze/orders/bronze_olist_orders_17_01_2017.csv\n"
     ]
    },
    {
     "name": "stderr",
     "output_type": "stream",
     "text": [
      "                                                                                \r"
     ]
    },
    {
     "name": "stdout",
     "output_type": "stream",
     "text": [
      "Day 14_08_2017: 159 rows\n",
      "Saved to: datamart/bronze/orders/bronze_olist_orders_14_08_2017.csv\n"
     ]
    },
    {
     "name": "stderr",
     "output_type": "stream",
     "text": [
      "                                                                                \r"
     ]
    },
    {
     "name": "stdout",
     "output_type": "stream",
     "text": [
      "Day 11_08_2017: 141 rows\n",
      "Saved to: datamart/bronze/orders/bronze_olist_orders_11_08_2017.csv\n"
     ]
    },
    {
     "name": "stderr",
     "output_type": "stream",
     "text": [
      "                                                                                \r"
     ]
    },
    {
     "name": "stdout",
     "output_type": "stream",
     "text": [
      "Day 23_01_2018: 262 rows\n",
      "Saved to: datamart/bronze/orders/bronze_olist_orders_23_01_2018.csv\n"
     ]
    },
    {
     "name": "stderr",
     "output_type": "stream",
     "text": [
      "                                                                                \r"
     ]
    },
    {
     "name": "stdout",
     "output_type": "stream",
     "text": [
      "Day 05_07_2017: 145 rows\n",
      "Saved to: datamart/bronze/orders/bronze_olist_orders_05_07_2017.csv\n"
     ]
    },
    {
     "name": "stderr",
     "output_type": "stream",
     "text": [
      "                                                                                \r"
     ]
    },
    {
     "name": "stdout",
     "output_type": "stream",
     "text": [
      "Day 14_01_2017: 18 rows\n",
      "Saved to: datamart/bronze/orders/bronze_olist_orders_14_01_2017.csv\n"
     ]
    },
    {
     "name": "stderr",
     "output_type": "stream",
     "text": [
      "                                                                                \r"
     ]
    },
    {
     "name": "stdout",
     "output_type": "stream",
     "text": [
      "Day 14_07_2017: 149 rows\n",
      "Saved to: datamart/bronze/orders/bronze_olist_orders_14_07_2017.csv\n"
     ]
    },
    {
     "name": "stderr",
     "output_type": "stream",
     "text": [
      "                                                                                \r"
     ]
    },
    {
     "name": "stdout",
     "output_type": "stream",
     "text": [
      "Day 04_02_2018: 201 rows\n",
      "Saved to: datamart/bronze/orders/bronze_olist_orders_04_02_2018.csv\n"
     ]
    },
    {
     "name": "stderr",
     "output_type": "stream",
     "text": [
      "                                                                                \r"
     ]
    },
    {
     "name": "stdout",
     "output_type": "stream",
     "text": [
      "Day 20_09_2018: 1 rows\n",
      "Saved to: datamart/bronze/orders/bronze_olist_orders_20_09_2018.csv\n"
     ]
    },
    {
     "name": "stderr",
     "output_type": "stream",
     "text": [
      "                                                                                \r"
     ]
    },
    {
     "name": "stdout",
     "output_type": "stream",
     "text": [
      "Day 13_06_2018: 259 rows\n",
      "Saved to: datamart/bronze/orders/bronze_olist_orders_13_06_2018.csv\n"
     ]
    },
    {
     "name": "stderr",
     "output_type": "stream",
     "text": [
      "                                                                                \r"
     ]
    },
    {
     "name": "stdout",
     "output_type": "stream",
     "text": [
      "Day 10_05_2017: 116 rows\n",
      "Saved to: datamart/bronze/orders/bronze_olist_orders_10_05_2017.csv\n"
     ]
    },
    {
     "name": "stderr",
     "output_type": "stream",
     "text": [
      "                                                                                \r"
     ]
    },
    {
     "name": "stdout",
     "output_type": "stream",
     "text": [
      "Day 30_05_2017: 105 rows\n",
      "Saved to: datamart/bronze/orders/bronze_olist_orders_30_05_2017.csv\n"
     ]
    },
    {
     "name": "stderr",
     "output_type": "stream",
     "text": [
      "                                                                                \r"
     ]
    },
    {
     "name": "stdout",
     "output_type": "stream",
     "text": [
      "Day 30_03_2017: 74 rows\n",
      "Saved to: datamart/bronze/orders/bronze_olist_orders_30_03_2017.csv\n"
     ]
    },
    {
     "name": "stderr",
     "output_type": "stream",
     "text": [
      "                                                                                \r"
     ]
    },
    {
     "name": "stdout",
     "output_type": "stream",
     "text": [
      "Day 14_01_2018: 235 rows\n",
      "Saved to: datamart/bronze/orders/bronze_olist_orders_14_01_2018.csv\n"
     ]
    },
    {
     "name": "stderr",
     "output_type": "stream",
     "text": [
      "                                                                                \r"
     ]
    },
    {
     "name": "stdout",
     "output_type": "stream",
     "text": [
      "Day 06_03_2018: 271 rows\n",
      "Saved to: datamart/bronze/orders/bronze_olist_orders_06_03_2018.csv\n"
     ]
    },
    {
     "name": "stderr",
     "output_type": "stream",
     "text": [
      "                                                                                \r"
     ]
    },
    {
     "name": "stdout",
     "output_type": "stream",
     "text": [
      "Day 10_07_2018: 134 rows\n",
      "Saved to: datamart/bronze/orders/bronze_olist_orders_10_07_2018.csv\n"
     ]
    },
    {
     "name": "stderr",
     "output_type": "stream",
     "text": [
      "                                                                                \r"
     ]
    },
    {
     "name": "stdout",
     "output_type": "stream",
     "text": [
      "Day 02_10_2017: 143 rows\n",
      "Saved to: datamart/bronze/orders/bronze_olist_orders_02_10_2017.csv\n"
     ]
    },
    {
     "name": "stderr",
     "output_type": "stream",
     "text": [
      "                                                                                \r"
     ]
    },
    {
     "name": "stdout",
     "output_type": "stream",
     "text": [
      "Day 22_02_2018: 279 rows\n",
      "Saved to: datamart/bronze/orders/bronze_olist_orders_22_02_2018.csv\n"
     ]
    },
    {
     "name": "stderr",
     "output_type": "stream",
     "text": [
      "                                                                                \r"
     ]
    },
    {
     "name": "stdout",
     "output_type": "stream",
     "text": [
      "Day 08_06_2018: 198 rows\n",
      "Saved to: datamart/bronze/orders/bronze_olist_orders_08_06_2018.csv\n"
     ]
    },
    {
     "name": "stderr",
     "output_type": "stream",
     "text": [
      "                                                                                \r"
     ]
    },
    {
     "name": "stdout",
     "output_type": "stream",
     "text": [
      "Day 20_09_2017: 163 rows\n",
      "Saved to: datamart/bronze/orders/bronze_olist_orders_20_09_2017.csv\n"
     ]
    },
    {
     "name": "stderr",
     "output_type": "stream",
     "text": [
      "                                                                                \r"
     ]
    },
    {
     "name": "stdout",
     "output_type": "stream",
     "text": [
      "Day 25_06_2017: 105 rows\n",
      "Saved to: datamart/bronze/orders/bronze_olist_orders_25_06_2017.csv\n"
     ]
    },
    {
     "name": "stderr",
     "output_type": "stream",
     "text": [
      "                                                                                \r"
     ]
    },
    {
     "name": "stdout",
     "output_type": "stream",
     "text": [
      "Day 16_08_2017: 174 rows\n",
      "Saved to: datamart/bronze/orders/bronze_olist_orders_16_08_2017.csv\n"
     ]
    },
    {
     "name": "stderr",
     "output_type": "stream",
     "text": [
      "                                                                                \r"
     ]
    },
    {
     "name": "stdout",
     "output_type": "stream",
     "text": [
      "Day 29_08_2018: 14 rows\n",
      "Saved to: datamart/bronze/orders/bronze_olist_orders_29_08_2018.csv\n"
     ]
    },
    {
     "name": "stderr",
     "output_type": "stream",
     "text": [
      "                                                                                \r"
     ]
    },
    {
     "name": "stdout",
     "output_type": "stream",
     "text": [
      "Day 27_07_2018: 189 rows\n",
      "Saved to: datamart/bronze/orders/bronze_olist_orders_27_07_2018.csv\n"
     ]
    },
    {
     "name": "stderr",
     "output_type": "stream",
     "text": [
      "                                                                                \r"
     ]
    },
    {
     "name": "stdout",
     "output_type": "stream",
     "text": [
      "Day 04_09_2017: 150 rows\n",
      "Saved to: datamart/bronze/orders/bronze_olist_orders_04_09_2017.csv\n"
     ]
    },
    {
     "name": "stderr",
     "output_type": "stream",
     "text": [
      "                                                                                \r"
     ]
    },
    {
     "name": "stdout",
     "output_type": "stream",
     "text": [
      "Day 09_07_2018: 148 rows\n",
      "Saved to: datamart/bronze/orders/bronze_olist_orders_09_07_2018.csv\n"
     ]
    },
    {
     "name": "stderr",
     "output_type": "stream",
     "text": [
      "                                                                                \r"
     ]
    },
    {
     "name": "stdout",
     "output_type": "stream",
     "text": [
      "Day 26_08_2018: 73 rows\n",
      "Saved to: datamart/bronze/orders/bronze_olist_orders_26_08_2018.csv\n"
     ]
    },
    {
     "name": "stderr",
     "output_type": "stream",
     "text": [
      "                                                                                \r"
     ]
    },
    {
     "name": "stdout",
     "output_type": "stream",
     "text": [
      "Day 31_05_2018: 133 rows\n",
      "Saved to: datamart/bronze/orders/bronze_olist_orders_31_05_2018.csv\n"
     ]
    },
    {
     "name": "stderr",
     "output_type": "stream",
     "text": [
      "                                                                                \r"
     ]
    },
    {
     "name": "stdout",
     "output_type": "stream",
     "text": [
      "Day 22_10_2017: 158 rows\n",
      "Saved to: datamart/bronze/orders/bronze_olist_orders_22_10_2017.csv\n"
     ]
    },
    {
     "name": "stderr",
     "output_type": "stream",
     "text": [
      "                                                                                \r"
     ]
    },
    {
     "name": "stdout",
     "output_type": "stream",
     "text": [
      "Day 15_04_2017: 52 rows\n",
      "Saved to: datamart/bronze/orders/bronze_olist_orders_15_04_2017.csv\n"
     ]
    },
    {
     "name": "stderr",
     "output_type": "stream",
     "text": [
      "                                                                                \r"
     ]
    },
    {
     "name": "stdout",
     "output_type": "stream",
     "text": [
      "Day 30_11_2017: 267 rows\n",
      "Saved to: datamart/bronze/orders/bronze_olist_orders_30_11_2017.csv\n"
     ]
    },
    {
     "name": "stderr",
     "output_type": "stream",
     "text": [
      "                                                                                \r"
     ]
    },
    {
     "name": "stdout",
     "output_type": "stream",
     "text": [
      "Day 22_12_2017: 111 rows\n",
      "Saved to: datamart/bronze/orders/bronze_olist_orders_22_12_2017.csv\n"
     ]
    },
    {
     "name": "stderr",
     "output_type": "stream",
     "text": [
      "                                                                                \r"
     ]
    },
    {
     "name": "stdout",
     "output_type": "stream",
     "text": [
      "Day 09_05_2018: 344 rows\n",
      "Saved to: datamart/bronze/orders/bronze_olist_orders_09_05_2018.csv\n"
     ]
    },
    {
     "name": "stderr",
     "output_type": "stream",
     "text": [
      "                                                                                \r"
     ]
    },
    {
     "name": "stdout",
     "output_type": "stream",
     "text": [
      "Day 23_12_2017: 109 rows\n",
      "Saved to: datamart/bronze/orders/bronze_olist_orders_23_12_2017.csv\n"
     ]
    },
    {
     "name": "stderr",
     "output_type": "stream",
     "text": [
      "                                                                                \r"
     ]
    },
    {
     "name": "stdout",
     "output_type": "stream",
     "text": [
      "Day 20_04_2017: 98 rows\n",
      "Saved to: datamart/bronze/orders/bronze_olist_orders_20_04_2017.csv\n"
     ]
    },
    {
     "name": "stderr",
     "output_type": "stream",
     "text": [
      "                                                                                \r"
     ]
    },
    {
     "name": "stdout",
     "output_type": "stream",
     "text": [
      "Day 23_06_2017: 107 rows\n",
      "Saved to: datamart/bronze/orders/bronze_olist_orders_23_06_2017.csv\n"
     ]
    },
    {
     "name": "stderr",
     "output_type": "stream",
     "text": [
      "                                                                                \r"
     ]
    },
    {
     "name": "stdout",
     "output_type": "stream",
     "text": [
      "Day 23_09_2017: 88 rows\n",
      "Saved to: datamart/bronze/orders/bronze_olist_orders_23_09_2017.csv\n"
     ]
    },
    {
     "name": "stderr",
     "output_type": "stream",
     "text": [
      "                                                                                \r"
     ]
    },
    {
     "name": "stdout",
     "output_type": "stream",
     "text": [
      "Day 24_07_2018: 271 rows\n",
      "Saved to: datamart/bronze/orders/bronze_olist_orders_24_07_2018.csv\n"
     ]
    },
    {
     "name": "stderr",
     "output_type": "stream",
     "text": [
      "                                                                                \r"
     ]
    },
    {
     "name": "stdout",
     "output_type": "stream",
     "text": [
      "Day 17_04_2018: 266 rows\n",
      "Saved to: datamart/bronze/orders/bronze_olist_orders_17_04_2018.csv\n"
     ]
    },
    {
     "name": "stderr",
     "output_type": "stream",
     "text": [
      "                                                                                \r"
     ]
    },
    {
     "name": "stdout",
     "output_type": "stream",
     "text": [
      "Day 14_03_2018: 199 rows\n",
      "Saved to: datamart/bronze/orders/bronze_olist_orders_14_03_2018.csv\n"
     ]
    },
    {
     "name": "stderr",
     "output_type": "stream",
     "text": [
      "                                                                                \r"
     ]
    },
    {
     "name": "stdout",
     "output_type": "stream",
     "text": [
      "Day 30_10_2017: 149 rows\n",
      "Saved to: datamart/bronze/orders/bronze_olist_orders_30_10_2017.csv\n"
     ]
    },
    {
     "name": "stderr",
     "output_type": "stream",
     "text": [
      "                                                                                \r"
     ]
    },
    {
     "name": "stdout",
     "output_type": "stream",
     "text": [
      "Day 16_05_2017: 153 rows\n",
      "Saved to: datamart/bronze/orders/bronze_olist_orders_16_05_2017.csv\n"
     ]
    },
    {
     "name": "stderr",
     "output_type": "stream",
     "text": [
      "                                                                                \r"
     ]
    },
    {
     "name": "stdout",
     "output_type": "stream",
     "text": [
      "Day 01_02_2018: 232 rows\n",
      "Saved to: datamart/bronze/orders/bronze_olist_orders_01_02_2018.csv\n"
     ]
    },
    {
     "name": "stderr",
     "output_type": "stream",
     "text": [
      "                                                                                \r"
     ]
    },
    {
     "name": "stdout",
     "output_type": "stream",
     "text": [
      "Day 15_01_2018: 307 rows\n",
      "Saved to: datamart/bronze/orders/bronze_olist_orders_15_01_2018.csv\n"
     ]
    },
    {
     "name": "stderr",
     "output_type": "stream",
     "text": [
      "                                                                                \r"
     ]
    },
    {
     "name": "stdout",
     "output_type": "stream",
     "text": [
      "Day 24_02_2017: 64 rows\n",
      "Saved to: datamart/bronze/orders/bronze_olist_orders_24_02_2017.csv\n"
     ]
    },
    {
     "name": "stderr",
     "output_type": "stream",
     "text": [
      "                                                                                \r"
     ]
    },
    {
     "name": "stdout",
     "output_type": "stream",
     "text": [
      "Day 17_05_2018: 228 rows\n",
      "Saved to: datamart/bronze/orders/bronze_olist_orders_17_05_2018.csv\n"
     ]
    },
    {
     "name": "stderr",
     "output_type": "stream",
     "text": [
      "                                                                                \r"
     ]
    },
    {
     "name": "stdout",
     "output_type": "stream",
     "text": [
      "Day 29_01_2018: 246 rows\n",
      "Saved to: datamart/bronze/orders/bronze_olist_orders_29_01_2018.csv\n"
     ]
    },
    {
     "name": "stderr",
     "output_type": "stream",
     "text": [
      "                                                                                \r"
     ]
    },
    {
     "name": "stdout",
     "output_type": "stream",
     "text": [
      "Day 10_06_2018: 193 rows\n",
      "Saved to: datamart/bronze/orders/bronze_olist_orders_10_06_2018.csv\n"
     ]
    },
    {
     "name": "stderr",
     "output_type": "stream",
     "text": [
      "                                                                                \r"
     ]
    },
    {
     "name": "stdout",
     "output_type": "stream",
     "text": [
      "Day 21_03_2017: 97 rows\n",
      "Saved to: datamart/bronze/orders/bronze_olist_orders_21_03_2017.csv\n"
     ]
    },
    {
     "name": "stderr",
     "output_type": "stream",
     "text": [
      "                                                                                \r"
     ]
    },
    {
     "name": "stdout",
     "output_type": "stream",
     "text": [
      "Day 23_04_2017: 88 rows\n",
      "Saved to: datamart/bronze/orders/bronze_olist_orders_23_04_2017.csv\n"
     ]
    },
    {
     "name": "stderr",
     "output_type": "stream",
     "text": [
      "                                                                                \r"
     ]
    },
    {
     "name": "stdout",
     "output_type": "stream",
     "text": [
      "Day 13_02_2018: 224 rows\n",
      "Saved to: datamart/bronze/orders/bronze_olist_orders_13_02_2018.csv\n"
     ]
    },
    {
     "name": "stderr",
     "output_type": "stream",
     "text": [
      "                                                                                \r"
     ]
    },
    {
     "name": "stdout",
     "output_type": "stream",
     "text": [
      "Day 29_03_2018: 194 rows\n",
      "Saved to: datamart/bronze/orders/bronze_olist_orders_29_03_2018.csv\n"
     ]
    },
    {
     "name": "stderr",
     "output_type": "stream",
     "text": [
      "                                                                                \r"
     ]
    },
    {
     "name": "stdout",
     "output_type": "stream",
     "text": [
      "Day 13_02_2017: 78 rows\n",
      "Saved to: datamart/bronze/orders/bronze_olist_orders_13_02_2017.csv\n"
     ]
    },
    {
     "name": "stderr",
     "output_type": "stream",
     "text": [
      "                                                                                \r"
     ]
    },
    {
     "name": "stdout",
     "output_type": "stream",
     "text": [
      "Day 10_12_2017: 190 rows\n",
      "Saved to: datamart/bronze/orders/bronze_olist_orders_10_12_2017.csv\n"
     ]
    },
    {
     "name": "stderr",
     "output_type": "stream",
     "text": [
      "                                                                                \r"
     ]
    },
    {
     "name": "stdout",
     "output_type": "stream",
     "text": [
      "Day 21_08_2017: 177 rows\n",
      "Saved to: datamart/bronze/orders/bronze_olist_orders_21_08_2017.csv\n"
     ]
    },
    {
     "name": "stderr",
     "output_type": "stream",
     "text": [
      "                                                                                \r"
     ]
    },
    {
     "name": "stdout",
     "output_type": "stream",
     "text": [
      "Day 07_12_2017: 229 rows\n",
      "Saved to: datamart/bronze/orders/bronze_olist_orders_07_12_2017.csv\n"
     ]
    },
    {
     "name": "stderr",
     "output_type": "stream",
     "text": [
      "                                                                                \r"
     ]
    },
    {
     "name": "stdout",
     "output_type": "stream",
     "text": [
      "Day 10_03_2018: 193 rows\n",
      "Saved to: datamart/bronze/orders/bronze_olist_orders_10_03_2018.csv\n"
     ]
    },
    {
     "name": "stderr",
     "output_type": "stream",
     "text": [
      "                                                                                \r"
     ]
    },
    {
     "name": "stdout",
     "output_type": "stream",
     "text": [
      "Day 19_07_2017: 153 rows\n",
      "Saved to: datamart/bronze/orders/bronze_olist_orders_19_07_2017.csv\n"
     ]
    },
    {
     "name": "stderr",
     "output_type": "stream",
     "text": [
      "                                                                                \r"
     ]
    },
    {
     "name": "stdout",
     "output_type": "stream",
     "text": [
      "Day 20_01_2017: 29 rows\n",
      "Saved to: datamart/bronze/orders/bronze_olist_orders_20_01_2017.csv\n"
     ]
    },
    {
     "name": "stderr",
     "output_type": "stream",
     "text": [
      "                                                                                \r"
     ]
    },
    {
     "name": "stdout",
     "output_type": "stream",
     "text": [
      "Day 09_01_2018: 252 rows\n",
      "Saved to: datamart/bronze/orders/bronze_olist_orders_09_01_2018.csv\n"
     ]
    },
    {
     "name": "stderr",
     "output_type": "stream",
     "text": [
      "                                                                                \r"
     ]
    },
    {
     "name": "stdout",
     "output_type": "stream",
     "text": [
      "Day 28_06_2018: 243 rows\n",
      "Saved to: datamart/bronze/orders/bronze_olist_orders_28_06_2018.csv\n"
     ]
    },
    {
     "name": "stderr",
     "output_type": "stream",
     "text": [
      "                                                                                \r"
     ]
    },
    {
     "name": "stdout",
     "output_type": "stream",
     "text": [
      "Day 30_06_2018: 124 rows\n",
      "Saved to: datamart/bronze/orders/bronze_olist_orders_30_06_2018.csv\n"
     ]
    },
    {
     "name": "stderr",
     "output_type": "stream",
     "text": [
      "                                                                                \r"
     ]
    },
    {
     "name": "stdout",
     "output_type": "stream",
     "text": [
      "Day 30_04_2018: 240 rows\n",
      "Saved to: datamart/bronze/orders/bronze_olist_orders_30_04_2018.csv\n"
     ]
    },
    {
     "name": "stderr",
     "output_type": "stream",
     "text": [
      "                                                                                \r"
     ]
    },
    {
     "name": "stdout",
     "output_type": "stream",
     "text": [
      "Day 21_05_2018: 206 rows\n",
      "Saved to: datamart/bronze/orders/bronze_olist_orders_21_05_2018.csv\n"
     ]
    },
    {
     "name": "stderr",
     "output_type": "stream",
     "text": [
      "                                                                                \r"
     ]
    },
    {
     "name": "stdout",
     "output_type": "stream",
     "text": [
      "Day 20_03_2018: 297 rows\n",
      "Saved to: datamart/bronze/orders/bronze_olist_orders_20_03_2018.csv\n"
     ]
    },
    {
     "name": "stderr",
     "output_type": "stream",
     "text": [
      "                                                                                \r"
     ]
    },
    {
     "name": "stdout",
     "output_type": "stream",
     "text": [
      "Day 02_06_2018: 142 rows\n",
      "Saved to: datamart/bronze/orders/bronze_olist_orders_02_06_2018.csv\n"
     ]
    },
    {
     "name": "stderr",
     "output_type": "stream",
     "text": [
      "                                                                                \r"
     ]
    },
    {
     "name": "stdout",
     "output_type": "stream",
     "text": [
      "Day 20_06_2017: 94 rows\n",
      "Saved to: datamart/bronze/orders/bronze_olist_orders_20_06_2017.csv\n"
     ]
    },
    {
     "name": "stderr",
     "output_type": "stream",
     "text": [
      "                                                                                \r"
     ]
    },
    {
     "name": "stdout",
     "output_type": "stream",
     "text": [
      "Day 24_05_2017: 142 rows\n",
      "Saved to: datamart/bronze/orders/bronze_olist_orders_24_05_2017.csv\n"
     ]
    },
    {
     "name": "stderr",
     "output_type": "stream",
     "text": [
      "                                                                                \r"
     ]
    },
    {
     "name": "stdout",
     "output_type": "stream",
     "text": [
      "Day 14_02_2017: 76 rows\n",
      "Saved to: datamart/bronze/orders/bronze_olist_orders_14_02_2017.csv\n"
     ]
    },
    {
     "name": "stderr",
     "output_type": "stream",
     "text": [
      "                                                                                \r"
     ]
    },
    {
     "name": "stdout",
     "output_type": "stream",
     "text": [
      "Day 13_10_2017: 154 rows\n",
      "Saved to: datamart/bronze/orders/bronze_olist_orders_13_10_2017.csv\n"
     ]
    },
    {
     "name": "stderr",
     "output_type": "stream",
     "text": [
      "                                                                                \r"
     ]
    },
    {
     "name": "stdout",
     "output_type": "stream",
     "text": [
      "Day 15_08_2017: 194 rows\n",
      "Saved to: datamart/bronze/orders/bronze_olist_orders_15_08_2017.csv\n"
     ]
    },
    {
     "name": "stderr",
     "output_type": "stream",
     "text": [
      "                                                                                \r"
     ]
    },
    {
     "name": "stdout",
     "output_type": "stream",
     "text": [
      "Day 05_10_2016: 47 rows\n",
      "Saved to: datamart/bronze/orders/bronze_olist_orders_05_10_2016.csv\n"
     ]
    },
    {
     "name": "stderr",
     "output_type": "stream",
     "text": [
      "                                                                                \r"
     ]
    },
    {
     "name": "stdout",
     "output_type": "stream",
     "text": [
      "Day 25_09_2017: 136 rows\n",
      "Saved to: datamart/bronze/orders/bronze_olist_orders_25_09_2017.csv\n"
     ]
    },
    {
     "name": "stderr",
     "output_type": "stream",
     "text": [
      "                                                                                \r"
     ]
    },
    {
     "name": "stdout",
     "output_type": "stream",
     "text": [
      "Day 08_04_2017: 68 rows\n",
      "Saved to: datamart/bronze/orders/bronze_olist_orders_08_04_2017.csv\n"
     ]
    },
    {
     "name": "stderr",
     "output_type": "stream",
     "text": [
      "                                                                                \r"
     ]
    },
    {
     "name": "stdout",
     "output_type": "stream",
     "text": [
      "Day 19_01_2017: 29 rows\n",
      "Saved to: datamart/bronze/orders/bronze_olist_orders_19_01_2017.csv\n"
     ]
    },
    {
     "name": "stderr",
     "output_type": "stream",
     "text": [
      "                                                                                \r"
     ]
    },
    {
     "name": "stdout",
     "output_type": "stream",
     "text": [
      "Day 16_02_2018: 214 rows\n",
      "Saved to: datamart/bronze/orders/bronze_olist_orders_16_02_2018.csv\n"
     ]
    },
    {
     "name": "stderr",
     "output_type": "stream",
     "text": [
      "                                                                                \r"
     ]
    },
    {
     "name": "stdout",
     "output_type": "stream",
     "text": [
      "Day 08_08_2017: 146 rows\n",
      "Saved to: datamart/bronze/orders/bronze_olist_orders_08_08_2017.csv\n"
     ]
    },
    {
     "name": "stderr",
     "output_type": "stream",
     "text": [
      "                                                                                \r"
     ]
    },
    {
     "name": "stdout",
     "output_type": "stream",
     "text": [
      "Day 06_10_2016: 51 rows\n",
      "Saved to: datamart/bronze/orders/bronze_olist_orders_06_10_2016.csv\n"
     ]
    },
    {
     "name": "stderr",
     "output_type": "stream",
     "text": [
      "                                                                                \r"
     ]
    },
    {
     "name": "stdout",
     "output_type": "stream",
     "text": [
      "Day 28_07_2018: 176 rows\n",
      "Saved to: datamart/bronze/orders/bronze_olist_orders_28_07_2018.csv\n"
     ]
    },
    {
     "name": "stderr",
     "output_type": "stream",
     "text": [
      "                                                                                \r"
     ]
    },
    {
     "name": "stdout",
     "output_type": "stream",
     "text": [
      "Day 13_01_2018: 219 rows\n",
      "Saved to: datamart/bronze/orders/bronze_olist_orders_13_01_2018.csv\n"
     ]
    },
    {
     "name": "stderr",
     "output_type": "stream",
     "text": [
      "                                                                                \r"
     ]
    },
    {
     "name": "stdout",
     "output_type": "stream",
     "text": [
      "Day 07_02_2017: 112 rows\n",
      "Saved to: datamart/bronze/orders/bronze_olist_orders_07_02_2017.csv\n"
     ]
    },
    {
     "name": "stderr",
     "output_type": "stream",
     "text": [
      "                                                                                \r"
     ]
    },
    {
     "name": "stdout",
     "output_type": "stream",
     "text": [
      "Day 23_07_2017: 105 rows\n",
      "Saved to: datamart/bronze/orders/bronze_olist_orders_23_07_2017.csv\n"
     ]
    },
    {
     "name": "stderr",
     "output_type": "stream",
     "text": [
      "                                                                                \r"
     ]
    },
    {
     "name": "stdout",
     "output_type": "stream",
     "text": [
      "Day 12_08_2017: 98 rows\n",
      "Saved to: datamart/bronze/orders/bronze_olist_orders_12_08_2017.csv\n"
     ]
    },
    {
     "name": "stderr",
     "output_type": "stream",
     "text": [
      "                                                                                \r"
     ]
    },
    {
     "name": "stdout",
     "output_type": "stream",
     "text": [
      "Day 04_04_2017: 96 rows\n",
      "Saved to: datamart/bronze/orders/bronze_olist_orders_04_04_2017.csv\n"
     ]
    },
    {
     "name": "stderr",
     "output_type": "stream",
     "text": [
      "                                                                                \r"
     ]
    },
    {
     "name": "stdout",
     "output_type": "stream",
     "text": [
      "Day 15_10_2017: 121 rows\n",
      "Saved to: datamart/bronze/orders/bronze_olist_orders_15_10_2017.csv\n"
     ]
    },
    {
     "name": "stderr",
     "output_type": "stream",
     "text": [
      "                                                                                \r"
     ]
    },
    {
     "name": "stdout",
     "output_type": "stream",
     "text": [
      "Day 25_08_2018: 69 rows\n",
      "Saved to: datamart/bronze/orders/bronze_olist_orders_25_08_2018.csv\n"
     ]
    },
    {
     "name": "stderr",
     "output_type": "stream",
     "text": [
      "                                                                                \r"
     ]
    },
    {
     "name": "stdout",
     "output_type": "stream",
     "text": [
      "Day 24_08_2017: 128 rows\n",
      "Saved to: datamart/bronze/orders/bronze_olist_orders_24_08_2017.csv\n"
     ]
    },
    {
     "name": "stderr",
     "output_type": "stream",
     "text": [
      "                                                                                \r"
     ]
    },
    {
     "name": "stdout",
     "output_type": "stream",
     "text": [
      "Day 09_08_2018: 289 rows\n",
      "Saved to: datamart/bronze/orders/bronze_olist_orders_09_08_2018.csv\n"
     ]
    },
    {
     "name": "stderr",
     "output_type": "stream",
     "text": [
      "                                                                                \r"
     ]
    },
    {
     "name": "stdout",
     "output_type": "stream",
     "text": [
      "Day 13_03_2018: 227 rows\n",
      "Saved to: datamart/bronze/orders/bronze_olist_orders_13_03_2018.csv\n"
     ]
    },
    {
     "name": "stderr",
     "output_type": "stream",
     "text": [
      "                                                                                \r"
     ]
    },
    {
     "name": "stdout",
     "output_type": "stream",
     "text": [
      "Day 05_06_2017: 147 rows\n",
      "Saved to: datamart/bronze/orders/bronze_olist_orders_05_06_2017.csv\n"
     ]
    },
    {
     "name": "stderr",
     "output_type": "stream",
     "text": [
      "                                                                                \r"
     ]
    },
    {
     "name": "stdout",
     "output_type": "stream",
     "text": [
      "Day 12_02_2017: 64 rows\n",
      "Saved to: datamart/bronze/orders/bronze_olist_orders_12_02_2017.csv\n"
     ]
    },
    {
     "name": "stderr",
     "output_type": "stream",
     "text": [
      "                                                                                \r"
     ]
    },
    {
     "name": "stdout",
     "output_type": "stream",
     "text": [
      "Day 05_10_2017: 140 rows\n",
      "Saved to: datamart/bronze/orders/bronze_olist_orders_05_10_2017.csv\n"
     ]
    },
    {
     "name": "stderr",
     "output_type": "stream",
     "text": [
      "                                                                                \r"
     ]
    },
    {
     "name": "stdout",
     "output_type": "stream",
     "text": [
      "Day 24_04_2018: 271 rows\n",
      "Saved to: datamart/bronze/orders/bronze_olist_orders_24_04_2018.csv\n"
     ]
    },
    {
     "name": "stderr",
     "output_type": "stream",
     "text": [
      "                                                                                \r"
     ]
    },
    {
     "name": "stdout",
     "output_type": "stream",
     "text": [
      "Day 01_11_2017: 111 rows\n",
      "Saved to: datamart/bronze/orders/bronze_olist_orders_01_11_2017.csv\n"
     ]
    },
    {
     "name": "stderr",
     "output_type": "stream",
     "text": [
      "                                                                                \r"
     ]
    },
    {
     "name": "stdout",
     "output_type": "stream",
     "text": [
      "Day 09_02_2018: 216 rows\n",
      "Saved to: datamart/bronze/orders/bronze_olist_orders_09_02_2018.csv\n"
     ]
    },
    {
     "name": "stderr",
     "output_type": "stream",
     "text": [
      "                                                                                \r"
     ]
    },
    {
     "name": "stdout",
     "output_type": "stream",
     "text": [
      "Day 11_05_2017: 126 rows\n",
      "Saved to: datamart/bronze/orders/bronze_olist_orders_11_05_2017.csv\n"
     ]
    },
    {
     "name": "stderr",
     "output_type": "stream",
     "text": [
      "                                                                                \r"
     ]
    },
    {
     "name": "stdout",
     "output_type": "stream",
     "text": [
      "Day 03_11_2017: 143 rows\n",
      "Saved to: datamart/bronze/orders/bronze_olist_orders_03_11_2017.csv\n"
     ]
    },
    {
     "name": "stderr",
     "output_type": "stream",
     "text": [
      "                                                                                \r"
     ]
    },
    {
     "name": "stdout",
     "output_type": "stream",
     "text": [
      "Day 21_08_2018: 243 rows\n",
      "Saved to: datamart/bronze/orders/bronze_olist_orders_21_08_2018.csv\n"
     ]
    },
    {
     "name": "stderr",
     "output_type": "stream",
     "text": [
      "                                                                                \r"
     ]
    },
    {
     "name": "stdout",
     "output_type": "stream",
     "text": [
      "Day 16_12_2017: 131 rows\n",
      "Saved to: datamart/bronze/orders/bronze_olist_orders_16_12_2017.csv\n"
     ]
    },
    {
     "name": "stderr",
     "output_type": "stream",
     "text": [
      "                                                                                \r"
     ]
    },
    {
     "name": "stdout",
     "output_type": "stream",
     "text": [
      "Day 15_06_2018: 186 rows\n",
      "Saved to: datamart/bronze/orders/bronze_olist_orders_15_06_2018.csv\n"
     ]
    },
    {
     "name": "stderr",
     "output_type": "stream",
     "text": [
      "                                                                                \r"
     ]
    },
    {
     "name": "stdout",
     "output_type": "stream",
     "text": [
      "Day 04_03_2017: 80 rows\n",
      "Saved to: datamart/bronze/orders/bronze_olist_orders_04_03_2017.csv\n"
     ]
    },
    {
     "name": "stderr",
     "output_type": "stream",
     "text": [
      "                                                                                \r"
     ]
    },
    {
     "name": "stdout",
     "output_type": "stream",
     "text": [
      "Day 12_02_2018: 218 rows\n",
      "Saved to: datamart/bronze/orders/bronze_olist_orders_12_02_2018.csv\n"
     ]
    },
    {
     "name": "stderr",
     "output_type": "stream",
     "text": [
      "                                                                                \r"
     ]
    },
    {
     "name": "stdout",
     "output_type": "stream",
     "text": [
      "Day 25_03_2018: 190 rows\n",
      "Saved to: datamart/bronze/orders/bronze_olist_orders_25_03_2018.csv\n"
     ]
    },
    {
     "name": "stderr",
     "output_type": "stream",
     "text": [
      "                                                                                \r"
     ]
    },
    {
     "name": "stdout",
     "output_type": "stream",
     "text": [
      "Day 09_06_2017: 108 rows\n",
      "Saved to: datamart/bronze/orders/bronze_olist_orders_09_06_2017.csv\n"
     ]
    },
    {
     "name": "stderr",
     "output_type": "stream",
     "text": [
      "                                                                                \r"
     ]
    },
    {
     "name": "stdout",
     "output_type": "stream",
     "text": [
      "Day 21_06_2017: 35 rows\n",
      "Saved to: datamart/bronze/orders/bronze_olist_orders_21_06_2017.csv\n"
     ]
    },
    {
     "name": "stderr",
     "output_type": "stream",
     "text": [
      "                                                                                \r"
     ]
    },
    {
     "name": "stdout",
     "output_type": "stream",
     "text": [
      "Day 22_09_2017: 138 rows\n",
      "Saved to: datamart/bronze/orders/bronze_olist_orders_22_09_2017.csv\n"
     ]
    },
    {
     "name": "stderr",
     "output_type": "stream",
     "text": [
      "                                                                                \r"
     ]
    },
    {
     "name": "stdout",
     "output_type": "stream",
     "text": [
      "Day 17_02_2018: 204 rows\n",
      "Saved to: datamart/bronze/orders/bronze_olist_orders_17_02_2018.csv\n"
     ]
    },
    {
     "name": "stderr",
     "output_type": "stream",
     "text": [
      "                                                                                \r"
     ]
    },
    {
     "name": "stdout",
     "output_type": "stream",
     "text": [
      "Day 01_06_2018: 184 rows\n",
      "Saved to: datamart/bronze/orders/bronze_olist_orders_01_06_2018.csv\n"
     ]
    },
    {
     "name": "stderr",
     "output_type": "stream",
     "text": [
      "                                                                                \r"
     ]
    },
    {
     "name": "stdout",
     "output_type": "stream",
     "text": [
      "Day 02_04_2018: 282 rows\n",
      "Saved to: datamart/bronze/orders/bronze_olist_orders_02_04_2018.csv\n"
     ]
    },
    {
     "name": "stderr",
     "output_type": "stream",
     "text": [
      "                                                                                \r"
     ]
    },
    {
     "name": "stdout",
     "output_type": "stream",
     "text": [
      "Day 01_01_2018: 74 rows\n",
      "Saved to: datamart/bronze/orders/bronze_olist_orders_01_01_2018.csv\n"
     ]
    },
    {
     "name": "stderr",
     "output_type": "stream",
     "text": [
      "                                                                                \r"
     ]
    },
    {
     "name": "stdout",
     "output_type": "stream",
     "text": [
      "Day 15_03_2017: 108 rows\n",
      "Saved to: datamart/bronze/orders/bronze_olist_orders_15_03_2017.csv\n"
     ]
    },
    {
     "name": "stderr",
     "output_type": "stream",
     "text": [
      "                                                                                \r"
     ]
    },
    {
     "name": "stdout",
     "output_type": "stream",
     "text": [
      "Day 16_01_2017: 19 rows\n",
      "Saved to: datamart/bronze/orders/bronze_olist_orders_16_01_2017.csv\n"
     ]
    },
    {
     "name": "stderr",
     "output_type": "stream",
     "text": [
      "                                                                                \r"
     ]
    },
    {
     "name": "stdout",
     "output_type": "stream",
     "text": [
      "Day 05_01_2018: 210 rows\n",
      "Saved to: datamart/bronze/orders/bronze_olist_orders_05_01_2018.csv\n"
     ]
    },
    {
     "name": "stderr",
     "output_type": "stream",
     "text": [
      "                                                                                \r"
     ]
    },
    {
     "name": "stdout",
     "output_type": "stream",
     "text": [
      "Day 30_09_2017: 109 rows\n",
      "Saved to: datamart/bronze/orders/bronze_olist_orders_30_09_2017.csv\n"
     ]
    },
    {
     "name": "stderr",
     "output_type": "stream",
     "text": [
      "                                                                                \r"
     ]
    },
    {
     "name": "stdout",
     "output_type": "stream",
     "text": [
      "Day 10_02_2017: 66 rows\n",
      "Saved to: datamart/bronze/orders/bronze_olist_orders_10_02_2017.csv\n"
     ]
    },
    {
     "name": "stderr",
     "output_type": "stream",
     "text": [
      "                                                                                \r"
     ]
    },
    {
     "name": "stdout",
     "output_type": "stream",
     "text": [
      "Day 06_02_2018: 268 rows\n",
      "Saved to: datamart/bronze/orders/bronze_olist_orders_06_02_2018.csv\n"
     ]
    },
    {
     "name": "stderr",
     "output_type": "stream",
     "text": [
      "                                                                                \r"
     ]
    },
    {
     "name": "stdout",
     "output_type": "stream",
     "text": [
      "Day 22_07_2017: 88 rows\n",
      "Saved to: datamart/bronze/orders/bronze_olist_orders_22_07_2017.csv\n"
     ]
    },
    {
     "name": "stderr",
     "output_type": "stream",
     "text": [
      "                                                                                \r"
     ]
    },
    {
     "name": "stdout",
     "output_type": "stream",
     "text": [
      "Day 12_01_2018: 243 rows\n",
      "Saved to: datamart/bronze/orders/bronze_olist_orders_12_01_2018.csv\n"
     ]
    },
    {
     "name": "stderr",
     "output_type": "stream",
     "text": [
      "                                                                                \r"
     ]
    },
    {
     "name": "stdout",
     "output_type": "stream",
     "text": [
      "Day 08_11_2017: 175 rows\n",
      "Saved to: datamart/bronze/orders/bronze_olist_orders_08_11_2017.csv\n"
     ]
    },
    {
     "name": "stderr",
     "output_type": "stream",
     "text": [
      "                                                                                \r"
     ]
    },
    {
     "name": "stdout",
     "output_type": "stream",
     "text": [
      "Day 02_02_2017: 69 rows\n",
      "Saved to: datamart/bronze/orders/bronze_olist_orders_02_02_2017.csv\n"
     ]
    },
    {
     "name": "stderr",
     "output_type": "stream",
     "text": [
      "                                                                                \r"
     ]
    },
    {
     "name": "stdout",
     "output_type": "stream",
     "text": [
      "Day 08_01_2017: 6 rows\n",
      "Saved to: datamart/bronze/orders/bronze_olist_orders_08_01_2017.csv\n"
     ]
    },
    {
     "name": "stderr",
     "output_type": "stream",
     "text": [
      "                                                                                \r"
     ]
    },
    {
     "name": "stdout",
     "output_type": "stream",
     "text": [
      "Day 01_06_2017: 124 rows\n",
      "Saved to: datamart/bronze/orders/bronze_olist_orders_01_06_2017.csv\n"
     ]
    },
    {
     "name": "stderr",
     "output_type": "stream",
     "text": [
      "                                                                                \r"
     ]
    },
    {
     "name": "stdout",
     "output_type": "stream",
     "text": [
      "Day 15_01_2017: 14 rows\n",
      "Saved to: datamart/bronze/orders/bronze_olist_orders_15_01_2017.csv\n"
     ]
    },
    {
     "name": "stderr",
     "output_type": "stream",
     "text": [
      "                                                                                \r"
     ]
    },
    {
     "name": "stdout",
     "output_type": "stream",
     "text": [
      "Day 26_08_2017: 93 rows\n",
      "Saved to: datamart/bronze/orders/bronze_olist_orders_26_08_2017.csv\n"
     ]
    },
    {
     "name": "stderr",
     "output_type": "stream",
     "text": [
      "                                                                                \r"
     ]
    },
    {
     "name": "stdout",
     "output_type": "stream",
     "text": [
      "Day 04_05_2018: 265 rows\n",
      "Saved to: datamart/bronze/orders/bronze_olist_orders_04_05_2018.csv\n"
     ]
    },
    {
     "name": "stderr",
     "output_type": "stream",
     "text": [
      "                                                                                \r"
     ]
    },
    {
     "name": "stdout",
     "output_type": "stream",
     "text": [
      "Day 07_08_2018: 370 rows\n",
      "Saved to: datamart/bronze/orders/bronze_olist_orders_07_08_2018.csv\n"
     ]
    },
    {
     "name": "stderr",
     "output_type": "stream",
     "text": [
      "                                                                                \r"
     ]
    },
    {
     "name": "stdout",
     "output_type": "stream",
     "text": [
      "Day 03_08_2017: 148 rows\n",
      "Saved to: datamart/bronze/orders/bronze_olist_orders_03_08_2017.csv\n"
     ]
    },
    {
     "name": "stderr",
     "output_type": "stream",
     "text": [
      "                                                                                \r"
     ]
    },
    {
     "name": "stdout",
     "output_type": "stream",
     "text": [
      "Day 19_04_2017: 97 rows\n",
      "Saved to: datamart/bronze/orders/bronze_olist_orders_19_04_2017.csv\n"
     ]
    },
    {
     "name": "stderr",
     "output_type": "stream",
     "text": [
      "                                                                                \r"
     ]
    },
    {
     "name": "stdout",
     "output_type": "stream",
     "text": [
      "Day 18_02_2018: 202 rows\n",
      "Saved to: datamart/bronze/orders/bronze_olist_orders_18_02_2018.csv\n"
     ]
    },
    {
     "name": "stderr",
     "output_type": "stream",
     "text": [
      "                                                                                \r"
     ]
    },
    {
     "name": "stdout",
     "output_type": "stream",
     "text": [
      "Day 08_12_2017: 219 rows\n",
      "Saved to: datamart/bronze/orders/bronze_olist_orders_08_12_2017.csv\n"
     ]
    },
    {
     "name": "stderr",
     "output_type": "stream",
     "text": [
      "                                                                                \r"
     ]
    },
    {
     "name": "stdout",
     "output_type": "stream",
     "text": [
      "Day 08_03_2018: 234 rows\n",
      "Saved to: datamart/bronze/orders/bronze_olist_orders_08_03_2018.csv\n"
     ]
    },
    {
     "name": "stderr",
     "output_type": "stream",
     "text": [
      "                                                                                \r"
     ]
    },
    {
     "name": "stdout",
     "output_type": "stream",
     "text": [
      "Day 11_09_2017: 180 rows\n",
      "Saved to: datamart/bronze/orders/bronze_olist_orders_11_09_2017.csv\n"
     ]
    },
    {
     "name": "stderr",
     "output_type": "stream",
     "text": [
      "                                                                                \r"
     ]
    },
    {
     "name": "stdout",
     "output_type": "stream",
     "text": [
      "Day 18_04_2018: 280 rows\n",
      "Saved to: datamart/bronze/orders/bronze_olist_orders_18_04_2018.csv\n"
     ]
    },
    {
     "name": "stderr",
     "output_type": "stream",
     "text": [
      "                                                                                \r"
     ]
    },
    {
     "name": "stdout",
     "output_type": "stream",
     "text": [
      "Day 17_02_2017: 46 rows\n",
      "Saved to: datamart/bronze/orders/bronze_olist_orders_17_02_2017.csv\n"
     ]
    },
    {
     "name": "stderr",
     "output_type": "stream",
     "text": [
      "                                                                                \r"
     ]
    },
    {
     "name": "stdout",
     "output_type": "stream",
     "text": [
      "Day 28_12_2017: 146 rows\n",
      "Saved to: datamart/bronze/orders/bronze_olist_orders_28_12_2017.csv\n"
     ]
    },
    {
     "name": "stderr",
     "output_type": "stream",
     "text": [
      "                                                                                \r"
     ]
    },
    {
     "name": "stdout",
     "output_type": "stream",
     "text": [
      "Day 15_09_2017: 150 rows\n",
      "Saved to: datamart/bronze/orders/bronze_olist_orders_15_09_2017.csv\n"
     ]
    },
    {
     "name": "stderr",
     "output_type": "stream",
     "text": [
      "                                                                                \r"
     ]
    },
    {
     "name": "stdout",
     "output_type": "stream",
     "text": [
      "Day 02_08_2018: 302 rows\n",
      "Saved to: datamart/bronze/orders/bronze_olist_orders_02_08_2018.csv\n"
     ]
    },
    {
     "name": "stderr",
     "output_type": "stream",
     "text": [
      "                                                                                \r"
     ]
    },
    {
     "name": "stdout",
     "output_type": "stream",
     "text": [
      "Day 23_04_2018: 285 rows\n",
      "Saved to: datamart/bronze/orders/bronze_olist_orders_23_04_2018.csv\n"
     ]
    },
    {
     "name": "stderr",
     "output_type": "stream",
     "text": [
      "                                                                                \r"
     ]
    },
    {
     "name": "stdout",
     "output_type": "stream",
     "text": [
      "Day 26_10_2017: 144 rows\n",
      "Saved to: datamart/bronze/orders/bronze_olist_orders_26_10_2017.csv\n"
     ]
    },
    {
     "name": "stderr",
     "output_type": "stream",
     "text": [
      "                                                                                \r"
     ]
    },
    {
     "name": "stdout",
     "output_type": "stream",
     "text": [
      "Day 21_12_2017: 143 rows\n",
      "Saved to: datamart/bronze/orders/bronze_olist_orders_21_12_2017.csv\n"
     ]
    },
    {
     "name": "stderr",
     "output_type": "stream",
     "text": [
      "                                                                                \r"
     ]
    },
    {
     "name": "stdout",
     "output_type": "stream",
     "text": [
      "Day 03_04_2018: 247 rows\n",
      "Saved to: datamart/bronze/orders/bronze_olist_orders_03_04_2018.csv\n"
     ]
    },
    {
     "name": "stderr",
     "output_type": "stream",
     "text": [
      "                                                                                \r"
     ]
    },
    {
     "name": "stdout",
     "output_type": "stream",
     "text": [
      "Day 15_05_2017: 157 rows\n",
      "Saved to: datamart/bronze/orders/bronze_olist_orders_15_05_2017.csv\n"
     ]
    },
    {
     "name": "stderr",
     "output_type": "stream",
     "text": [
      "                                                                                \r"
     ]
    },
    {
     "name": "stdout",
     "output_type": "stream",
     "text": [
      "Day 05_04_2017: 96 rows\n",
      "Saved to: datamart/bronze/orders/bronze_olist_orders_05_04_2017.csv\n"
     ]
    },
    {
     "name": "stderr",
     "output_type": "stream",
     "text": [
      "                                                                                \r"
     ]
    },
    {
     "name": "stdout",
     "output_type": "stream",
     "text": [
      "Day 16_09_2017: 129 rows\n",
      "Saved to: datamart/bronze/orders/bronze_olist_orders_16_09_2017.csv\n"
     ]
    },
    {
     "name": "stderr",
     "output_type": "stream",
     "text": [
      "                                                                                \r"
     ]
    },
    {
     "name": "stdout",
     "output_type": "stream",
     "text": [
      "Day 07_02_2018: 248 rows\n",
      "Saved to: datamart/bronze/orders/bronze_olist_orders_07_02_2018.csv\n"
     ]
    },
    {
     "name": "stderr",
     "output_type": "stream",
     "text": [
      "                                                                                \r"
     ]
    },
    {
     "name": "stdout",
     "output_type": "stream",
     "text": [
      "Day 06_08_2018: 372 rows\n",
      "Saved to: datamart/bronze/orders/bronze_olist_orders_06_08_2018.csv\n"
     ]
    },
    {
     "name": "stderr",
     "output_type": "stream",
     "text": [
      "                                                                                \r"
     ]
    },
    {
     "name": "stdout",
     "output_type": "stream",
     "text": [
      "Day 06_05_2018: 211 rows\n",
      "Saved to: datamart/bronze/orders/bronze_olist_orders_06_05_2018.csv\n"
     ]
    },
    {
     "name": "stderr",
     "output_type": "stream",
     "text": [
      "                                                                                \r"
     ]
    },
    {
     "name": "stdout",
     "output_type": "stream",
     "text": [
      "Day 16_02_2017: 55 rows\n",
      "Saved to: datamart/bronze/orders/bronze_olist_orders_16_02_2017.csv\n"
     ]
    },
    {
     "name": "stderr",
     "output_type": "stream",
     "text": [
      "                                                                                \r"
     ]
    },
    {
     "name": "stdout",
     "output_type": "stream",
     "text": [
      "Day 05_01_2017: 32 rows\n",
      "Saved to: datamart/bronze/orders/bronze_olist_orders_05_01_2017.csv\n"
     ]
    },
    {
     "name": "stderr",
     "output_type": "stream",
     "text": [
      "                                                                                \r"
     ]
    },
    {
     "name": "stdout",
     "output_type": "stream",
     "text": [
      "Day 12_08_2018: 197 rows\n",
      "Saved to: datamart/bronze/orders/bronze_olist_orders_12_08_2018.csv\n"
     ]
    },
    {
     "name": "stderr",
     "output_type": "stream",
     "text": [
      "                                                                                \r"
     ]
    },
    {
     "name": "stdout",
     "output_type": "stream",
     "text": [
      "Day 24_03_2017: 79 rows\n",
      "Saved to: datamart/bronze/orders/bronze_olist_orders_24_03_2017.csv\n"
     ]
    },
    {
     "name": "stderr",
     "output_type": "stream",
     "text": [
      "                                                                                \r"
     ]
    },
    {
     "name": "stdout",
     "output_type": "stream",
     "text": [
      "Day 29_10_2017: 132 rows\n",
      "Saved to: datamart/bronze/orders/bronze_olist_orders_29_10_2017.csv\n"
     ]
    },
    {
     "name": "stderr",
     "output_type": "stream",
     "text": [
      "                                                                                \r"
     ]
    },
    {
     "name": "stdout",
     "output_type": "stream",
     "text": [
      "Day 10_08_2017: 157 rows\n",
      "Saved to: datamart/bronze/orders/bronze_olist_orders_10_08_2017.csv\n"
     ]
    },
    {
     "name": "stderr",
     "output_type": "stream",
     "text": [
      "                                                                                \r"
     ]
    },
    {
     "name": "stdout",
     "output_type": "stream",
     "text": [
      "Day 09_03_2017: 93 rows\n",
      "Saved to: datamart/bronze/orders/bronze_olist_orders_09_03_2017.csv\n"
     ]
    },
    {
     "name": "stderr",
     "output_type": "stream",
     "text": [
      "                                                                                \r"
     ]
    },
    {
     "name": "stdout",
     "output_type": "stream",
     "text": [
      "Day 10_01_2018: 277 rows\n",
      "Saved to: datamart/bronze/orders/bronze_olist_orders_10_01_2018.csv\n"
     ]
    },
    {
     "name": "stderr",
     "output_type": "stream",
     "text": [
      "                                                                                \r"
     ]
    },
    {
     "name": "stdout",
     "output_type": "stream",
     "text": [
      "Day 24_06_2017: 76 rows\n",
      "Saved to: datamart/bronze/orders/bronze_olist_orders_24_06_2017.csv\n"
     ]
    },
    {
     "name": "stderr",
     "output_type": "stream",
     "text": [
      "                                                                                \r"
     ]
    },
    {
     "name": "stdout",
     "output_type": "stream",
     "text": [
      "Day 29_08_2017: 137 rows\n",
      "Saved to: datamart/bronze/orders/bronze_olist_orders_29_08_2017.csv\n"
     ]
    },
    {
     "name": "stderr",
     "output_type": "stream",
     "text": [
      "                                                                                \r"
     ]
    },
    {
     "name": "stdout",
     "output_type": "stream",
     "text": [
      "Day 17_04_2017: 65 rows\n",
      "Saved to: datamart/bronze/orders/bronze_olist_orders_17_04_2017.csv\n"
     ]
    },
    {
     "name": "stderr",
     "output_type": "stream",
     "text": [
      "                                                                                \r"
     ]
    },
    {
     "name": "stdout",
     "output_type": "stream",
     "text": [
      "Day 09_04_2018: 253 rows\n",
      "Saved to: datamart/bronze/orders/bronze_olist_orders_09_04_2018.csv\n"
     ]
    },
    {
     "name": "stderr",
     "output_type": "stream",
     "text": [
      "                                                                                \r"
     ]
    },
    {
     "name": "stdout",
     "output_type": "stream",
     "text": [
      "Day 08_05_2017: 124 rows\n",
      "Saved to: datamart/bronze/orders/bronze_olist_orders_08_05_2017.csv\n"
     ]
    },
    {
     "name": "stderr",
     "output_type": "stream",
     "text": [
      "                                                                                \r"
     ]
    },
    {
     "name": "stdout",
     "output_type": "stream",
     "text": [
      "Day 13_09_2017: 207 rows\n",
      "Saved to: datamart/bronze/orders/bronze_olist_orders_13_09_2017.csv\n"
     ]
    },
    {
     "name": "stderr",
     "output_type": "stream",
     "text": [
      "                                                                                \r"
     ]
    },
    {
     "name": "stdout",
     "output_type": "stream",
     "text": [
      "Day 12_04_2018: 255 rows\n",
      "Saved to: datamart/bronze/orders/bronze_olist_orders_12_04_2018.csv\n"
     ]
    },
    {
     "name": "stderr",
     "output_type": "stream",
     "text": [
      "                                                                                \r"
     ]
    },
    {
     "name": "stdout",
     "output_type": "stream",
     "text": [
      "Day 06_09_2017: 140 rows\n",
      "Saved to: datamart/bronze/orders/bronze_olist_orders_06_09_2017.csv\n"
     ]
    },
    {
     "name": "stderr",
     "output_type": "stream",
     "text": [
      "                                                                                \r"
     ]
    },
    {
     "name": "stdout",
     "output_type": "stream",
     "text": [
      "Day 14_04_2018: 146 rows\n",
      "Saved to: datamart/bronze/orders/bronze_olist_orders_14_04_2018.csv\n"
     ]
    },
    {
     "name": "stderr",
     "output_type": "stream",
     "text": [
      "                                                                                \r"
     ]
    },
    {
     "name": "stdout",
     "output_type": "stream",
     "text": [
      "Day 31_03_2017: 70 rows\n",
      "Saved to: datamart/bronze/orders/bronze_olist_orders_31_03_2017.csv\n"
     ]
    },
    {
     "name": "stderr",
     "output_type": "stream",
     "text": [
      "                                                                                \r"
     ]
    },
    {
     "name": "stdout",
     "output_type": "stream",
     "text": [
      "Day 21_04_2018: 156 rows\n",
      "Saved to: datamart/bronze/orders/bronze_olist_orders_21_04_2018.csv\n"
     ]
    },
    {
     "name": "stderr",
     "output_type": "stream",
     "text": [
      "                                                                                \r"
     ]
    },
    {
     "name": "stdout",
     "output_type": "stream",
     "text": [
      "Day 12_06_2017: 126 rows\n",
      "Saved to: datamart/bronze/orders/bronze_olist_orders_12_06_2017.csv\n"
     ]
    },
    {
     "name": "stderr",
     "output_type": "stream",
     "text": [
      "                                                                                \r"
     ]
    },
    {
     "name": "stdout",
     "output_type": "stream",
     "text": [
      "Day 11_11_2017: 159 rows\n",
      "Saved to: datamart/bronze/orders/bronze_olist_orders_11_11_2017.csv\n"
     ]
    },
    {
     "name": "stderr",
     "output_type": "stream",
     "text": [
      "                                                                                \r"
     ]
    },
    {
     "name": "stdout",
     "output_type": "stream",
     "text": [
      "Day 29_05_2018: 149 rows\n",
      "Saved to: datamart/bronze/orders/bronze_olist_orders_29_05_2018.csv\n"
     ]
    },
    {
     "name": "stderr",
     "output_type": "stream",
     "text": [
      "                                                                                \r"
     ]
    },
    {
     "name": "stdout",
     "output_type": "stream",
     "text": [
      "Day 01_04_2017: 68 rows\n",
      "Saved to: datamart/bronze/orders/bronze_olist_orders_01_04_2017.csv\n"
     ]
    },
    {
     "name": "stderr",
     "output_type": "stream",
     "text": [
      "                                                                                \r"
     ]
    },
    {
     "name": "stdout",
     "output_type": "stream",
     "text": [
      "Day 26_09_2017: 180 rows\n",
      "Saved to: datamart/bronze/orders/bronze_olist_orders_26_09_2017.csv\n"
     ]
    },
    {
     "name": "stderr",
     "output_type": "stream",
     "text": [
      "                                                                                \r"
     ]
    },
    {
     "name": "stdout",
     "output_type": "stream",
     "text": [
      "Day 21_01_2017: 24 rows\n",
      "Saved to: datamart/bronze/orders/bronze_olist_orders_21_01_2017.csv\n"
     ]
    },
    {
     "name": "stderr",
     "output_type": "stream",
     "text": [
      "                                                                                \r"
     ]
    },
    {
     "name": "stdout",
     "output_type": "stream",
     "text": [
      "Day 22_01_2017: 31 rows\n",
      "Saved to: datamart/bronze/orders/bronze_olist_orders_22_01_2017.csv\n"
     ]
    },
    {
     "name": "stderr",
     "output_type": "stream",
     "text": [
      "                                                                                \r"
     ]
    },
    {
     "name": "stdout",
     "output_type": "stream",
     "text": [
      "Day 12_05_2018: 207 rows\n",
      "Saved to: datamart/bronze/orders/bronze_olist_orders_12_05_2018.csv\n"
     ]
    },
    {
     "name": "stderr",
     "output_type": "stream",
     "text": [
      "                                                                                \r"
     ]
    },
    {
     "name": "stdout",
     "output_type": "stream",
     "text": [
      "Day 14_11_2017: 192 rows\n",
      "Saved to: datamart/bronze/orders/bronze_olist_orders_14_11_2017.csv\n"
     ]
    },
    {
     "name": "stderr",
     "output_type": "stream",
     "text": [
      "                                                                                \r"
     ]
    },
    {
     "name": "stdout",
     "output_type": "stream",
     "text": [
      "Day 07_07_2017: 121 rows\n",
      "Saved to: datamart/bronze/orders/bronze_olist_orders_07_07_2017.csv\n"
     ]
    },
    {
     "name": "stderr",
     "output_type": "stream",
     "text": [
      "                                                                                \r"
     ]
    },
    {
     "name": "stdout",
     "output_type": "stream",
     "text": [
      "Day 08_09_2017: 116 rows\n",
      "Saved to: datamart/bronze/orders/bronze_olist_orders_08_09_2017.csv\n"
     ]
    },
    {
     "name": "stderr",
     "output_type": "stream",
     "text": [
      "                                                                                \r"
     ]
    },
    {
     "name": "stdout",
     "output_type": "stream",
     "text": [
      "Day 21_02_2017: 41 rows\n",
      "Saved to: datamart/bronze/orders/bronze_olist_orders_21_02_2017.csv\n"
     ]
    },
    {
     "name": "stderr",
     "output_type": "stream",
     "text": [
      "                                                                                \r"
     ]
    },
    {
     "name": "stdout",
     "output_type": "stream",
     "text": [
      "Day 21_11_2017: 228 rows\n",
      "Saved to: datamart/bronze/orders/bronze_olist_orders_21_11_2017.csv\n"
     ]
    },
    {
     "name": "stderr",
     "output_type": "stream",
     "text": [
      "                                                                                \r"
     ]
    },
    {
     "name": "stdout",
     "output_type": "stream",
     "text": [
      "Day 07_03_2017: 82 rows\n",
      "Saved to: datamart/bronze/orders/bronze_olist_orders_07_03_2017.csv\n"
     ]
    },
    {
     "name": "stderr",
     "output_type": "stream",
     "text": [
      "                                                                                \r"
     ]
    },
    {
     "name": "stdout",
     "output_type": "stream",
     "text": [
      "Day 01_03_2017: 99 rows\n",
      "Saved to: datamart/bronze/orders/bronze_olist_orders_01_03_2017.csv\n"
     ]
    },
    {
     "name": "stderr",
     "output_type": "stream",
     "text": [
      "                                                                                \r"
     ]
    },
    {
     "name": "stdout",
     "output_type": "stream",
     "text": [
      "Day 27_02_2017: 43 rows\n",
      "Saved to: datamart/bronze/orders/bronze_olist_orders_27_02_2017.csv\n"
     ]
    },
    {
     "name": "stderr",
     "output_type": "stream",
     "text": [
      "                                                                                \r"
     ]
    },
    {
     "name": "stdout",
     "output_type": "stream",
     "text": [
      "Day 31_07_2017: 148 rows\n",
      "Saved to: datamart/bronze/orders/bronze_olist_orders_31_07_2017.csv\n"
     ]
    },
    {
     "name": "stderr",
     "output_type": "stream",
     "text": [
      "                                                                                \r"
     ]
    },
    {
     "name": "stdout",
     "output_type": "stream",
     "text": [
      "Day 04_07_2018: 256 rows\n",
      "Saved to: datamart/bronze/orders/bronze_olist_orders_04_07_2018.csv\n"
     ]
    },
    {
     "name": "stderr",
     "output_type": "stream",
     "text": [
      "                                                                                \r"
     ]
    },
    {
     "name": "stdout",
     "output_type": "stream",
     "text": [
      "Day 03_05_2017: 103 rows\n",
      "Saved to: datamart/bronze/orders/bronze_olist_orders_03_05_2017.csv\n"
     ]
    },
    {
     "name": "stderr",
     "output_type": "stream",
     "text": [
      "                                                                                \r"
     ]
    },
    {
     "name": "stdout",
     "output_type": "stream",
     "text": [
      "Day 07_05_2017: 111 rows\n",
      "Saved to: datamart/bronze/orders/bronze_olist_orders_07_05_2017.csv\n"
     ]
    },
    {
     "name": "stderr",
     "output_type": "stream",
     "text": [
      "                                                                                \r"
     ]
    },
    {
     "name": "stdout",
     "output_type": "stream",
     "text": [
      "Day 02_12_2017: 216 rows\n",
      "Saved to: datamart/bronze/orders/bronze_olist_orders_02_12_2017.csv\n"
     ]
    },
    {
     "name": "stderr",
     "output_type": "stream",
     "text": [
      "                                                                                \r"
     ]
    },
    {
     "name": "stdout",
     "output_type": "stream",
     "text": [
      "Day 05_02_2018: 271 rows\n",
      "Saved to: datamart/bronze/orders/bronze_olist_orders_05_02_2018.csv\n"
     ]
    },
    {
     "name": "stderr",
     "output_type": "stream",
     "text": [
      "                                                                                \r"
     ]
    },
    {
     "name": "stdout",
     "output_type": "stream",
     "text": [
      "Day 29_06_2017: 114 rows\n",
      "Saved to: datamart/bronze/orders/bronze_olist_orders_29_06_2017.csv\n"
     ]
    },
    {
     "name": "stderr",
     "output_type": "stream",
     "text": [
      "                                                                                \r"
     ]
    },
    {
     "name": "stdout",
     "output_type": "stream",
     "text": [
      "Day 31_07_2018: 322 rows\n",
      "Saved to: datamart/bronze/orders/bronze_olist_orders_31_07_2018.csv\n"
     ]
    },
    {
     "name": "stderr",
     "output_type": "stream",
     "text": [
      "                                                                                \r"
     ]
    },
    {
     "name": "stdout",
     "output_type": "stream",
     "text": [
      "Day 15_08_2018: 288 rows\n",
      "Saved to: datamart/bronze/orders/bronze_olist_orders_15_08_2018.csv\n"
     ]
    },
    {
     "name": "stderr",
     "output_type": "stream",
     "text": [
      "                                                                                \r"
     ]
    },
    {
     "name": "stdout",
     "output_type": "stream",
     "text": [
      "Day 05_02_2017: 75 rows\n",
      "Saved to: datamart/bronze/orders/bronze_olist_orders_05_02_2017.csv\n"
     ]
    },
    {
     "name": "stderr",
     "output_type": "stream",
     "text": [
      "                                                                                \r"
     ]
    },
    {
     "name": "stdout",
     "output_type": "stream",
     "text": [
      "Day 19_05_2017: 144 rows\n",
      "Saved to: datamart/bronze/orders/bronze_olist_orders_19_05_2017.csv\n"
     ]
    },
    {
     "name": "stderr",
     "output_type": "stream",
     "text": [
      "                                                                                \r"
     ]
    },
    {
     "name": "stdout",
     "output_type": "stream",
     "text": [
      "Day 17_10_2017: 202 rows\n",
      "Saved to: datamart/bronze/orders/bronze_olist_orders_17_10_2017.csv\n"
     ]
    },
    {
     "name": "stderr",
     "output_type": "stream",
     "text": [
      "                                                                                \r"
     ]
    },
    {
     "name": "stdout",
     "output_type": "stream",
     "text": [
      "Day 31_10_2017: 160 rows\n",
      "Saved to: datamart/bronze/orders/bronze_olist_orders_31_10_2017.csv\n"
     ]
    },
    {
     "name": "stderr",
     "output_type": "stream",
     "text": [
      "                                                                                \r"
     ]
    },
    {
     "name": "stdout",
     "output_type": "stream",
     "text": [
      "Day 27_10_2017: 133 rows\n",
      "Saved to: datamart/bronze/orders/bronze_olist_orders_27_10_2017.csv\n"
     ]
    },
    {
     "name": "stderr",
     "output_type": "stream",
     "text": [
      "                                                                                \r"
     ]
    },
    {
     "name": "stdout",
     "output_type": "stream",
     "text": [
      "Day 19_02_2017: 40 rows\n",
      "Saved to: datamart/bronze/orders/bronze_olist_orders_19_02_2017.csv\n"
     ]
    },
    {
     "name": "stderr",
     "output_type": "stream",
     "text": [
      "                                                                                \r"
     ]
    },
    {
     "name": "stdout",
     "output_type": "stream",
     "text": [
      "Day 07_06_2018: 223 rows\n",
      "Saved to: datamart/bronze/orders/bronze_olist_orders_07_06_2018.csv\n"
     ]
    },
    {
     "name": "stderr",
     "output_type": "stream",
     "text": [
      "                                                                                \r"
     ]
    },
    {
     "name": "stdout",
     "output_type": "stream",
     "text": [
      "Day 09_10_2017: 193 rows\n",
      "Saved to: datamart/bronze/orders/bronze_olist_orders_09_10_2017.csv\n"
     ]
    },
    {
     "name": "stderr",
     "output_type": "stream",
     "text": [
      "                                                                                \r"
     ]
    },
    {
     "name": "stdout",
     "output_type": "stream",
     "text": [
      "Day 04_12_2017: 337 rows\n",
      "Saved to: datamart/bronze/orders/bronze_olist_orders_04_12_2017.csv\n"
     ]
    },
    {
     "name": "stderr",
     "output_type": "stream",
     "text": [
      "                                                                                \r"
     ]
    },
    {
     "name": "stdout",
     "output_type": "stream",
     "text": [
      "Day 19_01_2018: 235 rows\n",
      "Saved to: datamart/bronze/orders/bronze_olist_orders_19_01_2018.csv\n"
     ]
    },
    {
     "name": "stderr",
     "output_type": "stream",
     "text": [
      "                                                                                \r"
     ]
    },
    {
     "name": "stdout",
     "output_type": "stream",
     "text": [
      "Day 03_07_2018: 216 rows\n",
      "Saved to: datamart/bronze/orders/bronze_olist_orders_03_07_2018.csv\n"
     ]
    },
    {
     "name": "stderr",
     "output_type": "stream",
     "text": [
      "                                                                                \r"
     ]
    },
    {
     "name": "stdout",
     "output_type": "stream",
     "text": [
      "Day 26_06_2017: 72 rows\n",
      "Saved to: datamart/bronze/orders/bronze_olist_orders_26_06_2017.csv\n"
     ]
    },
    {
     "name": "stderr",
     "output_type": "stream",
     "text": [
      "                                                                                \r"
     ]
    },
    {
     "name": "stdout",
     "output_type": "stream",
     "text": [
      "Day 04_01_2018: 258 rows\n",
      "Saved to: datamart/bronze/orders/bronze_olist_orders_04_01_2018.csv\n"
     ]
    },
    {
     "name": "stderr",
     "output_type": "stream",
     "text": [
      "                                                                                \r"
     ]
    },
    {
     "name": "stdout",
     "output_type": "stream",
     "text": [
      "Day 02_03_2017: 72 rows\n",
      "Saved to: datamart/bronze/orders/bronze_olist_orders_02_03_2017.csv\n"
     ]
    },
    {
     "name": "stderr",
     "output_type": "stream",
     "text": [
      "                                                                                \r"
     ]
    },
    {
     "name": "stdout",
     "output_type": "stream",
     "text": [
      "Day 04_05_2017: 109 rows\n",
      "Saved to: datamart/bronze/orders/bronze_olist_orders_04_05_2017.csv\n"
     ]
    },
    {
     "name": "stderr",
     "output_type": "stream",
     "text": [
      "                                                                                \r"
     ]
    },
    {
     "name": "stdout",
     "output_type": "stream",
     "text": [
      "Day 31_01_2018: 256 rows\n",
      "Saved to: datamart/bronze/orders/bronze_olist_orders_31_01_2018.csv\n"
     ]
    },
    {
     "name": "stderr",
     "output_type": "stream",
     "text": [
      "                                                                                \r"
     ]
    },
    {
     "name": "stdout",
     "output_type": "stream",
     "text": [
      "Day 25_01_2017: 63 rows\n",
      "Saved to: datamart/bronze/orders/bronze_olist_orders_25_01_2017.csv\n"
     ]
    },
    {
     "name": "stderr",
     "output_type": "stream",
     "text": [
      "                                                                                \r"
     ]
    },
    {
     "name": "stdout",
     "output_type": "stream",
     "text": [
      "Day 17_01_2018: 282 rows\n",
      "Saved to: datamart/bronze/orders/bronze_olist_orders_17_01_2018.csv\n"
     ]
    },
    {
     "name": "stderr",
     "output_type": "stream",
     "text": [
      "                                                                                \r"
     ]
    },
    {
     "name": "stdout",
     "output_type": "stream",
     "text": [
      "Day 02_08_2017: 157 rows\n",
      "Saved to: datamart/bronze/orders/bronze_olist_orders_02_08_2017.csv\n"
     ]
    },
    {
     "name": "stderr",
     "output_type": "stream",
     "text": [
      "                                                                                \r"
     ]
    },
    {
     "name": "stdout",
     "output_type": "stream",
     "text": [
      "Day 18_07_2017: 192 rows\n",
      "Saved to: datamart/bronze/orders/bronze_olist_orders_18_07_2017.csv\n"
     ]
    },
    {
     "name": "stderr",
     "output_type": "stream",
     "text": [
      "                                                                                \r"
     ]
    },
    {
     "name": "stdout",
     "output_type": "stream",
     "text": [
      "Day 09_03_2018: 204 rows\n",
      "Saved to: datamart/bronze/orders/bronze_olist_orders_09_03_2018.csv\n"
     ]
    },
    {
     "name": "stderr",
     "output_type": "stream",
     "text": [
      "                                                                                \r"
     ]
    },
    {
     "name": "stdout",
     "output_type": "stream",
     "text": [
      "Day 31_03_2018: 168 rows\n",
      "Saved to: datamart/bronze/orders/bronze_olist_orders_31_03_2018.csv\n"
     ]
    },
    {
     "name": "stderr",
     "output_type": "stream",
     "text": [
      "                                                                                \r"
     ]
    },
    {
     "name": "stdout",
     "output_type": "stream",
     "text": [
      "Day 02_01_2018: 204 rows\n",
      "Saved to: datamart/bronze/orders/bronze_olist_orders_02_01_2018.csv\n"
     ]
    },
    {
     "name": "stderr",
     "output_type": "stream",
     "text": [
      "                                                                                \r"
     ]
    },
    {
     "name": "stdout",
     "output_type": "stream",
     "text": [
      "Day 29_11_2017: 323 rows\n",
      "Saved to: datamart/bronze/orders/bronze_olist_orders_29_11_2017.csv\n"
     ]
    },
    {
     "name": "stderr",
     "output_type": "stream",
     "text": [
      "                                                                                \r"
     ]
    },
    {
     "name": "stdout",
     "output_type": "stream",
     "text": [
      "Day 11_02_2017: 49 rows\n",
      "Saved to: datamart/bronze/orders/bronze_olist_orders_11_02_2017.csv\n"
     ]
    },
    {
     "name": "stderr",
     "output_type": "stream",
     "text": [
      "                                                                                \r"
     ]
    },
    {
     "name": "stdout",
     "output_type": "stream",
     "text": [
      "Day 03_01_2018: 225 rows\n",
      "Saved to: datamart/bronze/orders/bronze_olist_orders_03_01_2018.csv\n"
     ]
    },
    {
     "name": "stderr",
     "output_type": "stream",
     "text": [
      "                                                                                \r"
     ]
    },
    {
     "name": "stdout",
     "output_type": "stream",
     "text": [
      "Day 22_05_2018: 199 rows\n",
      "Saved to: datamart/bronze/orders/bronze_olist_orders_22_05_2018.csv\n"
     ]
    },
    {
     "name": "stderr",
     "output_type": "stream",
     "text": [
      "                                                                                \r"
     ]
    },
    {
     "name": "stdout",
     "output_type": "stream",
     "text": [
      "Day 19_08_2018: 204 rows\n",
      "Saved to: datamart/bronze/orders/bronze_olist_orders_19_08_2018.csv\n"
     ]
    },
    {
     "name": "stderr",
     "output_type": "stream",
     "text": [
      "                                                                                \r"
     ]
    },
    {
     "name": "stdout",
     "output_type": "stream",
     "text": [
      "Day 11_06_2018: 294 rows\n",
      "Saved to: datamart/bronze/orders/bronze_olist_orders_11_06_2018.csv\n"
     ]
    },
    {
     "name": "stderr",
     "output_type": "stream",
     "text": [
      "                                                                                \r"
     ]
    },
    {
     "name": "stdout",
     "output_type": "stream",
     "text": [
      "Day 16_07_2017: 114 rows\n",
      "Saved to: datamart/bronze/orders/bronze_olist_orders_16_07_2017.csv\n"
     ]
    },
    {
     "name": "stderr",
     "output_type": "stream",
     "text": [
      "                                                                                \r"
     ]
    },
    {
     "name": "stdout",
     "output_type": "stream",
     "text": [
      "Day 24_01_2018: 244 rows\n",
      "Saved to: datamart/bronze/orders/bronze_olist_orders_24_01_2018.csv\n"
     ]
    },
    {
     "name": "stderr",
     "output_type": "stream",
     "text": [
      "                                                                                \r"
     ]
    },
    {
     "name": "stdout",
     "output_type": "stream",
     "text": [
      "Day 09_02_2017: 77 rows\n",
      "Saved to: datamart/bronze/orders/bronze_olist_orders_09_02_2017.csv\n"
     ]
    },
    {
     "name": "stderr",
     "output_type": "stream",
     "text": [
      "                                                                                \r"
     ]
    },
    {
     "name": "stdout",
     "output_type": "stream",
     "text": [
      "Day 13_09_2016: 1 rows\n",
      "Saved to: datamart/bronze/orders/bronze_olist_orders_13_09_2016.csv\n"
     ]
    },
    {
     "name": "stderr",
     "output_type": "stream",
     "text": [
      "                                                                                \r"
     ]
    },
    {
     "name": "stdout",
     "output_type": "stream",
     "text": [
      "Day 08_01_2018: 293 rows\n",
      "Saved to: datamart/bronze/orders/bronze_olist_orders_08_01_2018.csv\n"
     ]
    },
    {
     "name": "stderr",
     "output_type": "stream",
     "text": [
      "                                                                                \r"
     ]
    },
    {
     "name": "stdout",
     "output_type": "stream",
     "text": [
      "Day 19_10_2017: 176 rows\n",
      "Saved to: datamart/bronze/orders/bronze_olist_orders_19_10_2017.csv\n"
     ]
    },
    {
     "name": "stderr",
     "output_type": "stream",
     "text": [
      "                                                                                \r"
     ]
    },
    {
     "name": "stdout",
     "output_type": "stream",
     "text": [
      "Day 26_04_2017: 125 rows\n",
      "Saved to: datamart/bronze/orders/bronze_olist_orders_26_04_2017.csv\n"
     ]
    },
    {
     "name": "stderr",
     "output_type": "stream",
     "text": [
      "                                                                                \r"
     ]
    },
    {
     "name": "stdout",
     "output_type": "stream",
     "text": [
      "Day 16_06_2018: 165 rows\n",
      "Saved to: datamart/bronze/orders/bronze_olist_orders_16_06_2018.csv\n"
     ]
    },
    {
     "name": "stderr",
     "output_type": "stream",
     "text": [
      "                                                                                \r"
     ]
    },
    {
     "name": "stdout",
     "output_type": "stream",
     "text": [
      "Day 18_11_2017: 149 rows\n",
      "Saved to: datamart/bronze/orders/bronze_olist_orders_18_11_2017.csv\n"
     ]
    },
    {
     "name": "stderr",
     "output_type": "stream",
     "text": [
      "                                                                                \r"
     ]
    },
    {
     "name": "stdout",
     "output_type": "stream",
     "text": [
      "Day 17_11_2017: 197 rows\n",
      "Saved to: datamart/bronze/orders/bronze_olist_orders_17_11_2017.csv\n"
     ]
    },
    {
     "name": "stderr",
     "output_type": "stream",
     "text": [
      "                                                                                \r"
     ]
    },
    {
     "name": "stdout",
     "output_type": "stream",
     "text": [
      "Day 18_05_2018: 236 rows\n",
      "Saved to: datamart/bronze/orders/bronze_olist_orders_18_05_2018.csv\n"
     ]
    },
    {
     "name": "stderr",
     "output_type": "stream",
     "text": [
      "                                                                                \r"
     ]
    },
    {
     "name": "stdout",
     "output_type": "stream",
     "text": [
      "Day 20_06_2018: 217 rows\n",
      "Saved to: datamart/bronze/orders/bronze_olist_orders_20_06_2018.csv\n"
     ]
    },
    {
     "name": "stderr",
     "output_type": "stream",
     "text": [
      "                                                                                \r"
     ]
    },
    {
     "name": "stdout",
     "output_type": "stream",
     "text": [
      "Day 28_03_2018: 220 rows\n",
      "Saved to: datamart/bronze/orders/bronze_olist_orders_28_03_2018.csv\n"
     ]
    },
    {
     "name": "stderr",
     "output_type": "stream",
     "text": [
      "                                                                                \r"
     ]
    },
    {
     "name": "stdout",
     "output_type": "stream",
     "text": [
      "Day 28_09_2017: 143 rows\n",
      "Saved to: datamart/bronze/orders/bronze_olist_orders_28_09_2017.csv\n"
     ]
    },
    {
     "name": "stderr",
     "output_type": "stream",
     "text": [
      "                                                                                \r"
     ]
    },
    {
     "name": "stdout",
     "output_type": "stream",
     "text": [
      "Day 18_05_2017: 125 rows\n",
      "Saved to: datamart/bronze/orders/bronze_olist_orders_18_05_2017.csv\n"
     ]
    },
    {
     "name": "stderr",
     "output_type": "stream",
     "text": [
      "                                                                                \r"
     ]
    },
    {
     "name": "stdout",
     "output_type": "stream",
     "text": [
      "Day 04_06_2017: 102 rows\n",
      "Saved to: datamart/bronze/orders/bronze_olist_orders_04_06_2017.csv\n"
     ]
    },
    {
     "name": "stderr",
     "output_type": "stream",
     "text": [
      "                                                                                \r"
     ]
    },
    {
     "name": "stdout",
     "output_type": "stream",
     "text": [
      "Day 26_07_2017: 124 rows\n",
      "Saved to: datamart/bronze/orders/bronze_olist_orders_26_07_2017.csv\n"
     ]
    },
    {
     "name": "stderr",
     "output_type": "stream",
     "text": [
      "                                                                                \r"
     ]
    },
    {
     "name": "stdout",
     "output_type": "stream",
     "text": [
      "Day 06_03_2017: 105 rows\n",
      "Saved to: datamart/bronze/orders/bronze_olist_orders_06_03_2017.csv\n"
     ]
    },
    {
     "name": "stderr",
     "output_type": "stream",
     "text": [
      "                                                                                \r"
     ]
    },
    {
     "name": "stdout",
     "output_type": "stream",
     "text": [
      "Day 03_06_2018: 192 rows\n",
      "Saved to: datamart/bronze/orders/bronze_olist_orders_03_06_2018.csv\n"
     ]
    },
    {
     "name": "stderr",
     "output_type": "stream",
     "text": [
      "                                                                                \r"
     ]
    },
    {
     "name": "stdout",
     "output_type": "stream",
     "text": [
      "Day 08_03_2017: 79 rows\n",
      "Saved to: datamart/bronze/orders/bronze_olist_orders_08_03_2017.csv\n"
     ]
    },
    {
     "name": "stderr",
     "output_type": "stream",
     "text": [
      "                                                                                \r"
     ]
    },
    {
     "name": "stdout",
     "output_type": "stream",
     "text": [
      "Day 25_07_2018: 268 rows\n",
      "Saved to: datamart/bronze/orders/bronze_olist_orders_25_07_2018.csv\n"
     ]
    },
    {
     "name": "stderr",
     "output_type": "stream",
     "text": [
      "                                                                                \r"
     ]
    },
    {
     "name": "stdout",
     "output_type": "stream",
     "text": [
      "Day 21_02_2018: 266 rows\n",
      "Saved to: datamart/bronze/orders/bronze_olist_orders_21_02_2018.csv\n"
     ]
    },
    {
     "name": "stderr",
     "output_type": "stream",
     "text": [
      "                                                                                \r"
     ]
    },
    {
     "name": "stdout",
     "output_type": "stream",
     "text": [
      "Day 28_01_2017: 29 rows\n",
      "Saved to: datamart/bronze/orders/bronze_olist_orders_28_01_2017.csv\n"
     ]
    },
    {
     "name": "stderr",
     "output_type": "stream",
     "text": [
      "                                                                                \r"
     ]
    },
    {
     "name": "stdout",
     "output_type": "stream",
     "text": [
      "Day 18_07_2018: 307 rows\n",
      "Saved to: datamart/bronze/orders/bronze_olist_orders_18_07_2018.csv\n"
     ]
    },
    {
     "name": "stderr",
     "output_type": "stream",
     "text": [
      "                                                                                \r"
     ]
    },
    {
     "name": "stdout",
     "output_type": "stream",
     "text": [
      "Day 27_11_2017: 403 rows\n",
      "Saved to: datamart/bronze/orders/bronze_olist_orders_27_11_2017.csv\n"
     ]
    },
    {
     "name": "stderr",
     "output_type": "stream",
     "text": [
      "                                                                                \r"
     ]
    },
    {
     "name": "stdout",
     "output_type": "stream",
     "text": [
      "Day 02_06_2017: 127 rows\n",
      "Saved to: datamart/bronze/orders/bronze_olist_orders_02_06_2017.csv\n"
     ]
    },
    {
     "name": "stderr",
     "output_type": "stream",
     "text": [
      "                                                                                \r"
     ]
    },
    {
     "name": "stdout",
     "output_type": "stream",
     "text": [
      "Day 19_03_2018: 303 rows\n",
      "Saved to: datamart/bronze/orders/bronze_olist_orders_19_03_2018.csv\n"
     ]
    },
    {
     "name": "stderr",
     "output_type": "stream",
     "text": [
      "                                                                                \r"
     ]
    },
    {
     "name": "stdout",
     "output_type": "stream",
     "text": [
      "Day 13_08_2017: 96 rows\n",
      "Saved to: datamart/bronze/orders/bronze_olist_orders_13_08_2017.csv\n"
     ]
    },
    {
     "name": "stderr",
     "output_type": "stream",
     "text": [
      "                                                                                \r"
     ]
    },
    {
     "name": "stdout",
     "output_type": "stream",
     "text": [
      "Day 21_07_2018: 187 rows\n",
      "Saved to: datamart/bronze/orders/bronze_olist_orders_21_07_2018.csv\n"
     ]
    },
    {
     "name": "stderr",
     "output_type": "stream",
     "text": [
      "                                                                                \r"
     ]
    },
    {
     "name": "stdout",
     "output_type": "stream",
     "text": [
      "Day 08_10_2017: 126 rows\n",
      "Saved to: datamart/bronze/orders/bronze_olist_orders_08_10_2017.csv\n"
     ]
    },
    {
     "name": "stderr",
     "output_type": "stream",
     "text": [
      "                                                                                \r"
     ]
    },
    {
     "name": "stdout",
     "output_type": "stream",
     "text": [
      "Day 18_08_2018: 198 rows\n",
      "Saved to: datamart/bronze/orders/bronze_olist_orders_18_08_2018.csv\n"
     ]
    },
    {
     "name": "stderr",
     "output_type": "stream",
     "text": [
      "                                                                                \r"
     ]
    },
    {
     "name": "stdout",
     "output_type": "stream",
     "text": [
      "Day 15_07_2018: 152 rows\n",
      "Saved to: datamart/bronze/orders/bronze_olist_orders_15_07_2018.csv\n"
     ]
    },
    {
     "name": "stderr",
     "output_type": "stream",
     "text": [
      "                                                                                \r"
     ]
    },
    {
     "name": "stdout",
     "output_type": "stream",
     "text": [
      "Day 11_12_2017: 267 rows\n",
      "Saved to: datamart/bronze/orders/bronze_olist_orders_11_12_2017.csv\n"
     ]
    },
    {
     "name": "stderr",
     "output_type": "stream",
     "text": [
      "                                                                                \r"
     ]
    },
    {
     "name": "stdout",
     "output_type": "stream",
     "text": [
      "Day 28_06_2017: 120 rows\n",
      "Saved to: datamart/bronze/orders/bronze_olist_orders_28_06_2017.csv\n"
     ]
    },
    {
     "name": "stderr",
     "output_type": "stream",
     "text": [
      "                                                                                \r"
     ]
    },
    {
     "name": "stdout",
     "output_type": "stream",
     "text": [
      "Day 29_09_2017: 121 rows\n",
      "Saved to: datamart/bronze/orders/bronze_olist_orders_29_09_2017.csv\n"
     ]
    },
    {
     "name": "stderr",
     "output_type": "stream",
     "text": [
      "                                                                                \r"
     ]
    },
    {
     "name": "stdout",
     "output_type": "stream",
     "text": [
      "Day 25_05_2018: 104 rows\n",
      "Saved to: datamart/bronze/orders/bronze_olist_orders_25_05_2018.csv\n"
     ]
    },
    {
     "name": "stderr",
     "output_type": "stream",
     "text": [
      "                                                                                \r"
     ]
    },
    {
     "name": "stdout",
     "output_type": "stream",
     "text": [
      "Day 16_06_2017: 97 rows\n",
      "Saved to: datamart/bronze/orders/bronze_olist_orders_16_06_2017.csv\n"
     ]
    },
    {
     "name": "stderr",
     "output_type": "stream",
     "text": [
      "                                                                                \r"
     ]
    },
    {
     "name": "stdout",
     "output_type": "stream",
     "text": [
      "Day 13_05_2018: 207 rows\n",
      "Saved to: datamart/bronze/orders/bronze_olist_orders_13_05_2018.csv\n"
     ]
    },
    {
     "name": "stderr",
     "output_type": "stream",
     "text": [
      "                                                                                \r"
     ]
    },
    {
     "name": "stdout",
     "output_type": "stream",
     "text": [
      "Day 26_06_2018: 243 rows\n",
      "Saved to: datamart/bronze/orders/bronze_olist_orders_26_06_2018.csv\n"
     ]
    },
    {
     "name": "stderr",
     "output_type": "stream",
     "text": [
      "                                                                                \r"
     ]
    },
    {
     "name": "stdout",
     "output_type": "stream",
     "text": [
      "Day 25_10_2017: 156 rows\n",
      "Saved to: datamart/bronze/orders/bronze_olist_orders_25_10_2017.csv\n"
     ]
    },
    {
     "name": "stderr",
     "output_type": "stream",
     "text": [
      "                                                                                \r"
     ]
    },
    {
     "name": "stdout",
     "output_type": "stream",
     "text": [
      "Day 24_11_2017: 1176 rows\n",
      "Saved to: datamart/bronze/orders/bronze_olist_orders_24_11_2017.csv\n"
     ]
    },
    {
     "name": "stderr",
     "output_type": "stream",
     "text": [
      "                                                                                \r"
     ]
    },
    {
     "name": "stdout",
     "output_type": "stream",
     "text": [
      "Day 27_06_2017: 141 rows\n",
      "Saved to: datamart/bronze/orders/bronze_olist_orders_27_06_2017.csv\n"
     ]
    },
    {
     "name": "stderr",
     "output_type": "stream",
     "text": [
      "                                                                                \r"
     ]
    },
    {
     "name": "stdout",
     "output_type": "stream",
     "text": [
      "Day 09_09_2017: 106 rows\n",
      "Saved to: datamart/bronze/orders/bronze_olist_orders_09_09_2017.csv\n"
     ]
    },
    {
     "name": "stderr",
     "output_type": "stream",
     "text": [
      "                                                                                \r"
     ]
    },
    {
     "name": "stdout",
     "output_type": "stream",
     "text": [
      "Day 31_12_2017: 74 rows\n",
      "Saved to: datamart/bronze/orders/bronze_olist_orders_31_12_2017.csv\n"
     ]
    },
    {
     "name": "stderr",
     "output_type": "stream",
     "text": [
      "                                                                                \r"
     ]
    },
    {
     "name": "stdout",
     "output_type": "stream",
     "text": [
      "Day 05_08_2018: 276 rows\n",
      "Saved to: datamart/bronze/orders/bronze_olist_orders_05_08_2018.csv\n"
     ]
    },
    {
     "name": "stderr",
     "output_type": "stream",
     "text": [
      "                                                                                \r"
     ]
    },
    {
     "name": "stdout",
     "output_type": "stream",
     "text": [
      "Day 27_01_2018: 153 rows\n",
      "Saved to: datamart/bronze/orders/bronze_olist_orders_27_01_2018.csv\n"
     ]
    },
    {
     "name": "stderr",
     "output_type": "stream",
     "text": [
      "                                                                                \r"
     ]
    },
    {
     "name": "stdout",
     "output_type": "stream",
     "text": [
      "Day 27_06_2018: 215 rows\n",
      "Saved to: datamart/bronze/orders/bronze_olist_orders_27_06_2018.csv\n"
     ]
    },
    {
     "name": "stderr",
     "output_type": "stream",
     "text": [
      "                                                                                \r"
     ]
    },
    {
     "name": "stdout",
     "output_type": "stream",
     "text": [
      "Day 20_02_2018: 289 rows\n",
      "Saved to: datamart/bronze/orders/bronze_olist_orders_20_02_2018.csv\n"
     ]
    },
    {
     "name": "stderr",
     "output_type": "stream",
     "text": [
      "                                                                                \r"
     ]
    },
    {
     "name": "stdout",
     "output_type": "stream",
     "text": [
      "Day 05_07_2018: 195 rows\n",
      "Saved to: datamart/bronze/orders/bronze_olist_orders_05_07_2018.csv\n"
     ]
    },
    {
     "name": "stderr",
     "output_type": "stream",
     "text": [
      "                                                                                \r"
     ]
    },
    {
     "name": "stdout",
     "output_type": "stream",
     "text": [
      "Day 20_12_2017: 171 rows\n",
      "Saved to: datamart/bronze/orders/bronze_olist_orders_20_12_2017.csv\n"
     ]
    },
    {
     "name": "stderr",
     "output_type": "stream",
     "text": [
      "                                                                                \r"
     ]
    },
    {
     "name": "stdout",
     "output_type": "stream",
     "text": [
      "Day 24_12_2017: 59 rows\n",
      "Saved to: datamart/bronze/orders/bronze_olist_orders_24_12_2017.csv\n"
     ]
    },
    {
     "name": "stderr",
     "output_type": "stream",
     "text": [
      "                                                                                \r"
     ]
    },
    {
     "name": "stdout",
     "output_type": "stream",
     "text": [
      "Day 08_02_2018: 230 rows\n",
      "Saved to: datamart/bronze/orders/bronze_olist_orders_08_02_2018.csv\n"
     ]
    },
    {
     "name": "stderr",
     "output_type": "stream",
     "text": [
      "                                                                                \r"
     ]
    },
    {
     "name": "stdout",
     "output_type": "stream",
     "text": [
      "Day 23_02_2018: 235 rows\n",
      "Saved to: datamart/bronze/orders/bronze_olist_orders_23_02_2018.csv\n"
     ]
    },
    {
     "name": "stderr",
     "output_type": "stream",
     "text": [
      "                                                                                \r"
     ]
    },
    {
     "name": "stdout",
     "output_type": "stream",
     "text": [
      "Day 29_03_2017: 74 rows\n",
      "Saved to: datamart/bronze/orders/bronze_olist_orders_29_03_2017.csv\n"
     ]
    },
    {
     "name": "stderr",
     "output_type": "stream",
     "text": [
      "                                                                                \r"
     ]
    },
    {
     "name": "stdout",
     "output_type": "stream",
     "text": [
      "Day 23_08_2018: 144 rows\n",
      "Saved to: datamart/bronze/orders/bronze_olist_orders_23_08_2018.csv\n"
     ]
    },
    {
     "name": "stderr",
     "output_type": "stream",
     "text": [
      "                                                                                \r"
     ]
    },
    {
     "name": "stdout",
     "output_type": "stream",
     "text": [
      "Day 28_02_2017: 55 rows\n",
      "Saved to: datamart/bronze/orders/bronze_olist_orders_28_02_2017.csv\n"
     ]
    },
    {
     "name": "stderr",
     "output_type": "stream",
     "text": [
      "                                                                                \r"
     ]
    },
    {
     "name": "stdout",
     "output_type": "stream",
     "text": [
      "Day 23_02_2017: 59 rows\n",
      "Saved to: datamart/bronze/orders/bronze_olist_orders_23_02_2017.csv\n"
     ]
    },
    {
     "name": "stderr",
     "output_type": "stream",
     "text": [
      "                                                                                \r"
     ]
    },
    {
     "name": "stdout",
     "output_type": "stream",
     "text": [
      "Day 24_02_2018: 191 rows\n",
      "Saved to: datamart/bronze/orders/bronze_olist_orders_24_02_2018.csv\n"
     ]
    },
    {
     "name": "stderr",
     "output_type": "stream",
     "text": [
      "                                                                                \r"
     ]
    },
    {
     "name": "stdout",
     "output_type": "stream",
     "text": [
      "Day 03_07_2017: 118 rows\n",
      "Saved to: datamart/bronze/orders/bronze_olist_orders_03_07_2017.csv\n"
     ]
    },
    {
     "name": "stderr",
     "output_type": "stream",
     "text": [
      "                                                                                \r"
     ]
    },
    {
     "name": "stdout",
     "output_type": "stream",
     "text": [
      "Day 18_02_2017: 54 rows\n",
      "Saved to: datamart/bronze/orders/bronze_olist_orders_18_02_2017.csv\n"
     ]
    },
    {
     "name": "stderr",
     "output_type": "stream",
     "text": [
      "                                                                                \r"
     ]
    },
    {
     "name": "stdout",
     "output_type": "stream",
     "text": [
      "Day 03_06_2017: 89 rows\n",
      "Saved to: datamart/bronze/orders/bronze_olist_orders_03_06_2017.csv\n"
     ]
    },
    {
     "name": "stderr",
     "output_type": "stream",
     "text": [
      "                                                                                \r"
     ]
    },
    {
     "name": "stdout",
     "output_type": "stream",
     "text": [
      "Day 26_12_2017: 168 rows\n",
      "Saved to: datamart/bronze/orders/bronze_olist_orders_26_12_2017.csv\n"
     ]
    },
    {
     "name": "stderr",
     "output_type": "stream",
     "text": [
      "                                                                                \r"
     ]
    },
    {
     "name": "stdout",
     "output_type": "stream",
     "text": [
      "Day 16_10_2017: 195 rows\n",
      "Saved to: datamart/bronze/orders/bronze_olist_orders_16_10_2017.csv\n"
     ]
    },
    {
     "name": "stderr",
     "output_type": "stream",
     "text": [
      "                                                                                \r"
     ]
    },
    {
     "name": "stdout",
     "output_type": "stream",
     "text": [
      "Day 10_09_2017: 136 rows\n",
      "Saved to: datamart/bronze/orders/bronze_olist_orders_10_09_2017.csv\n"
     ]
    },
    {
     "name": "stderr",
     "output_type": "stream",
     "text": [
      "                                                                                \r"
     ]
    },
    {
     "name": "stdout",
     "output_type": "stream",
     "text": [
      "Day 21_01_2018: 199 rows\n",
      "Saved to: datamart/bronze/orders/bronze_olist_orders_21_01_2018.csv\n"
     ]
    },
    {
     "name": "stderr",
     "output_type": "stream",
     "text": [
      "                                                                                \r"
     ]
    },
    {
     "name": "stdout",
     "output_type": "stream",
     "text": [
      "Day 06_04_2018: 189 rows\n",
      "Saved to: datamart/bronze/orders/bronze_olist_orders_06_04_2018.csv\n"
     ]
    },
    {
     "name": "stderr",
     "output_type": "stream",
     "text": [
      "                                                                                \r"
     ]
    },
    {
     "name": "stdout",
     "output_type": "stream",
     "text": [
      "Day 16_07_2018: 245 rows\n",
      "Saved to: datamart/bronze/orders/bronze_olist_orders_16_07_2018.csv\n"
     ]
    },
    {
     "name": "stderr",
     "output_type": "stream",
     "text": [
      "                                                                                \r"
     ]
    },
    {
     "name": "stdout",
     "output_type": "stream",
     "text": [
      "Day 09_10_2016: 26 rows\n",
      "Saved to: datamart/bronze/orders/bronze_olist_orders_09_10_2016.csv\n"
     ]
    },
    {
     "name": "stderr",
     "output_type": "stream",
     "text": [
      "                                                                                \r"
     ]
    },
    {
     "name": "stdout",
     "output_type": "stream",
     "text": [
      "Day 07_01_2017: 4 rows\n",
      "Saved to: datamart/bronze/orders/bronze_olist_orders_07_01_2017.csv\n"
     ]
    },
    {
     "name": "stderr",
     "output_type": "stream",
     "text": [
      "                                                                                \r"
     ]
    },
    {
     "name": "stdout",
     "output_type": "stream",
     "text": [
      "Day 27_02_2018: 298 rows\n",
      "Saved to: datamart/bronze/orders/bronze_olist_orders_27_02_2018.csv\n"
     ]
    },
    {
     "name": "stderr",
     "output_type": "stream",
     "text": [
      "                                                                                \r"
     ]
    },
    {
     "name": "stdout",
     "output_type": "stream",
     "text": [
      "Day 23_07_2018: 307 rows\n",
      "Saved to: datamart/bronze/orders/bronze_olist_orders_23_07_2018.csv\n"
     ]
    },
    {
     "name": "stderr",
     "output_type": "stream",
     "text": [
      "                                                                                \r"
     ]
    },
    {
     "name": "stdout",
     "output_type": "stream",
     "text": [
      "Day 30_04_2017: 68 rows\n",
      "Saved to: datamart/bronze/orders/bronze_olist_orders_30_04_2017.csv\n"
     ]
    },
    {
     "name": "stderr",
     "output_type": "stream",
     "text": [
      "                                                                                \r"
     ]
    },
    {
     "name": "stdout",
     "output_type": "stream",
     "text": [
      "Day 07_10_2016: 46 rows\n",
      "Saved to: datamart/bronze/orders/bronze_olist_orders_07_10_2016.csv\n"
     ]
    },
    {
     "name": "stderr",
     "output_type": "stream",
     "text": [
      "                                                                                \r"
     ]
    },
    {
     "name": "stdout",
     "output_type": "stream",
     "text": [
      "Day 29_07_2018: 188 rows\n",
      "Saved to: datamart/bronze/orders/bronze_olist_orders_29_07_2018.csv\n"
     ]
    },
    {
     "name": "stderr",
     "output_type": "stream",
     "text": [
      "                                                                                \r"
     ]
    },
    {
     "name": "stdout",
     "output_type": "stream",
     "text": [
      "Day 11_09_2018: 1 rows\n",
      "Saved to: datamart/bronze/orders/bronze_olist_orders_11_09_2018.csv\n"
     ]
    },
    {
     "name": "stderr",
     "output_type": "stream",
     "text": [
      "                                                                                \r"
     ]
    },
    {
     "name": "stdout",
     "output_type": "stream",
     "text": [
      "Day 27_09_2017: 147 rows\n",
      "Saved to: datamart/bronze/orders/bronze_olist_orders_27_09_2017.csv\n"
     ]
    },
    {
     "name": "stderr",
     "output_type": "stream",
     "text": [
      "                                                                                \r"
     ]
    },
    {
     "name": "stdout",
     "output_type": "stream",
     "text": [
      "Day 30_03_2018: 165 rows\n",
      "Saved to: datamart/bronze/orders/bronze_olist_orders_30_03_2018.csv\n"
     ]
    },
    {
     "name": "stderr",
     "output_type": "stream",
     "text": [
      "                                                                                \r"
     ]
    },
    {
     "name": "stdout",
     "output_type": "stream",
     "text": [
      "Day 28_05_2018: 143 rows\n",
      "Saved to: datamart/bronze/orders/bronze_olist_orders_28_05_2018.csv\n"
     ]
    },
    {
     "name": "stderr",
     "output_type": "stream",
     "text": [
      "                                                                                \r"
     ]
    },
    {
     "name": "stdout",
     "output_type": "stream",
     "text": [
      "Day 11_06_2017: 115 rows\n",
      "Saved to: datamart/bronze/orders/bronze_olist_orders_11_06_2017.csv\n"
     ]
    },
    {
     "name": "stderr",
     "output_type": "stream",
     "text": [
      "                                                                                \r"
     ]
    },
    {
     "name": "stdout",
     "output_type": "stream",
     "text": [
      "Day 16_03_2018: 252 rows\n",
      "Saved to: datamart/bronze/orders/bronze_olist_orders_16_03_2018.csv\n"
     ]
    },
    {
     "name": "stderr",
     "output_type": "stream",
     "text": [
      "                                                                                \r"
     ]
    },
    {
     "name": "stdout",
     "output_type": "stream",
     "text": [
      "Day 20_07_2018: 250 rows\n",
      "Saved to: datamart/bronze/orders/bronze_olist_orders_20_07_2018.csv\n"
     ]
    },
    {
     "name": "stderr",
     "output_type": "stream",
     "text": [
      "                                                                                \r"
     ]
    },
    {
     "name": "stdout",
     "output_type": "stream",
     "text": [
      "Day 10_09_2018: 1 rows\n",
      "Saved to: datamart/bronze/orders/bronze_olist_orders_10_09_2018.csv\n"
     ]
    },
    {
     "name": "stderr",
     "output_type": "stream",
     "text": [
      "                                                                                \r"
     ]
    },
    {
     "name": "stdout",
     "output_type": "stream",
     "text": [
      "Day 15_09_2016: 1 rows\n",
      "Saved to: datamart/bronze/orders/bronze_olist_orders_15_09_2016.csv\n"
     ]
    },
    {
     "name": "stderr",
     "output_type": "stream",
     "text": [
      "                                                                                \r"
     ]
    },
    {
     "name": "stdout",
     "output_type": "stream",
     "text": [
      "Day 03_09_2018: 4 rows\n",
      "Saved to: datamart/bronze/orders/bronze_olist_orders_03_09_2018.csv\n"
     ]
    },
    {
     "name": "stderr",
     "output_type": "stream",
     "text": [
      "                                                                                \r"
     ]
    },
    {
     "name": "stdout",
     "output_type": "stream",
     "text": [
      "Day 06_01_2017: 4 rows\n",
      "Saved to: datamart/bronze/orders/bronze_olist_orders_06_01_2017.csv\n"
     ]
    },
    {
     "name": "stderr",
     "output_type": "stream",
     "text": [
      "                                                                                \r"
     ]
    },
    {
     "name": "stdout",
     "output_type": "stream",
     "text": [
      "Day 10_01_2017: 6 rows\n",
      "Saved to: datamart/bronze/orders/bronze_olist_orders_10_01_2017.csv\n"
     ]
    },
    {
     "name": "stderr",
     "output_type": "stream",
     "text": [
      "                                                                                \r"
     ]
    },
    {
     "name": "stdout",
     "output_type": "stream",
     "text": [
      "Day 23_12_2016: 1 rows\n",
      "Saved to: datamart/bronze/orders/bronze_olist_orders_23_12_2016.csv\n"
     ]
    },
    {
     "name": "stderr",
     "output_type": "stream",
     "text": [
      "                                                                                \r"
     ]
    },
    {
     "name": "stdout",
     "output_type": "stream",
     "text": [
      "Day 25_09_2018: 1 rows\n",
      "Saved to: datamart/bronze/orders/bronze_olist_orders_25_09_2018.csv\n"
     ]
    },
    {
     "name": "stderr",
     "output_type": "stream",
     "text": [
      "                                                                                \r"
     ]
    },
    {
     "name": "stdout",
     "output_type": "stream",
     "text": [
      "Day 03_10_2018: 1 rows\n",
      "Saved to: datamart/bronze/orders/bronze_olist_orders_03_10_2018.csv\n"
     ]
    },
    {
     "name": "stderr",
     "output_type": "stream",
     "text": [
      "                                                                                \r"
     ]
    },
    {
     "name": "stdout",
     "output_type": "stream",
     "text": [
      "Day 09_01_2017: 5 rows\n",
      "Saved to: datamart/bronze/orders/bronze_olist_orders_09_01_2017.csv\n"
     ]
    },
    {
     "name": "stderr",
     "output_type": "stream",
     "text": [
      "                                                                                \r"
     ]
    },
    {
     "name": "stdout",
     "output_type": "stream",
     "text": [
      "Day 26_09_2018: 1 rows\n",
      "Saved to: datamart/bronze/orders/bronze_olist_orders_26_09_2018.csv\n"
     ]
    },
    {
     "name": "stderr",
     "output_type": "stream",
     "text": [
      "                                                                                \r"
     ]
    },
    {
     "name": "stdout",
     "output_type": "stream",
     "text": [
      "Day 17_10_2018: 1 rows\n",
      "Saved to: datamart/bronze/orders/bronze_olist_orders_17_10_2018.csv\n"
     ]
    },
    {
     "name": "stderr",
     "output_type": "stream",
     "text": [
      "                                                                                \r"
     ]
    },
    {
     "name": "stdout",
     "output_type": "stream",
     "text": [
      "Day 16_10_2018: 1 rows\n",
      "Saved to: datamart/bronze/orders/bronze_olist_orders_16_10_2018.csv\n"
     ]
    },
    {
     "name": "stderr",
     "output_type": "stream",
     "text": [
      "                                                                                \r"
     ]
    },
    {
     "name": "stdout",
     "output_type": "stream",
     "text": [
      "Day 22_10_2016: 1 rows\n",
      "Saved to: datamart/bronze/orders/bronze_olist_orders_22_10_2016.csv\n"
     ]
    },
    {
     "name": "stderr",
     "output_type": "stream",
     "text": [
      "                                                                                \r"
     ]
    },
    {
     "name": "stdout",
     "output_type": "stream",
     "text": [
      "Day 29_09_2018: 1 rows\n",
      "Saved to: datamart/bronze/orders/bronze_olist_orders_29_09_2018.csv\n"
     ]
    },
    {
     "name": "stderr",
     "output_type": "stream",
     "text": [
      "                                                                                \r"
     ]
    },
    {
     "name": "stdout",
     "output_type": "stream",
     "text": [
      "Day 01_10_2018: 1 rows\n",
      "Saved to: datamart/bronze/orders/bronze_olist_orders_01_10_2018.csv\n"
     ]
    },
    {
     "name": "stderr",
     "output_type": "stream",
     "text": [
      "                                                                                \r"
     ]
    },
    {
     "name": "stdout",
     "output_type": "stream",
     "text": [
      "Day 12_09_2018: 1 rows\n",
      "Saved to: datamart/bronze/orders/bronze_olist_orders_12_09_2018.csv\n"
     ]
    },
    {
     "name": "stderr",
     "output_type": "stream",
     "text": [
      "                                                                                \r"
     ]
    },
    {
     "name": "stdout",
     "output_type": "stream",
     "text": [
      "Day 02_10_2016: 1 rows\n",
      "Saved to: datamart/bronze/orders/bronze_olist_orders_02_10_2016.csv\n"
     ]
    },
    {
     "name": "stderr",
     "output_type": "stream",
     "text": [
      "                                                                                \r"
     ]
    },
    {
     "name": "stdout",
     "output_type": "stream",
     "text": [
      "Day 31_08_2018: 1 rows\n",
      "Saved to: datamart/bronze/orders/bronze_olist_orders_31_08_2018.csv\n"
     ]
    },
    {
     "name": "stderr",
     "output_type": "stream",
     "text": [
      "                                                                                \r"
     ]
    },
    {
     "name": "stdout",
     "output_type": "stream",
     "text": [
      "Day 20_08_2018: 256 rows\n",
      "Saved to: datamart/bronze/orders/bronze_olist_orders_20_08_2018.csv\n"
     ]
    },
    {
     "name": "stderr",
     "output_type": "stream",
     "text": [
      "                                                                                \r"
     ]
    },
    {
     "name": "stdout",
     "output_type": "stream",
     "text": [
      "Day 15_02_2018: 283 rows\n",
      "Saved to: datamart/bronze/orders/bronze_olist_orders_15_02_2018.csv\n"
     ]
    },
    {
     "data": {
      "text/plain": [
       "DataFrame[order_id: string, customer_id: string, order_status: string, order_purchase_timestamp: timestamp, order_approved_at: timestamp, order_delivered_carrier_date: timestamp, order_delivered_customer_date: timestamp, order_estimated_delivery_date: timestamp, snapshot_date: string]"
      ]
     },
     "execution_count": 9,
     "metadata": {},
     "output_type": "execute_result"
    }
   ],
   "source": [
    "# Process orders with monthly partitioning\n",
    "bronze_processing.process_olist_orders_bronze(bronze_root, spark)"
   ]
  },
  {
   "cell_type": "code",
   "execution_count": 4,
   "id": "76e42811-8a18-4f1d-bf62-7108dc267e1d",
   "metadata": {},
   "outputs": [
    {
     "name": "stdout",
     "output_type": "stream",
     "text": [
      "+--------------------+--------------------+------------------------+--------------------+--------------+\n",
      "|         customer_id|  customer_unique_id|customer_zip_code_prefix|       customer_city|customer_state|\n",
      "+--------------------+--------------------+------------------------+--------------------+--------------+\n",
      "|503840d4f2a1a7609...|ffc4233210eac4ec1...|                   14811|          araraquara|            SP|\n",
      "|52e73a5d0a1d4c56b...|b43530186123fb6d9...|                   62625|               missi|            CE|\n",
      "|16cb62869f9719571...|c3cc321141423ab8a...|                   55560|           barreiros|            PE|\n",
      "|4979ba0e6037e4b28...|80768413a59684f1e...|                   29307|cachoeiro de itap...|            ES|\n",
      "|11ec4bc0610184925...|bd836cf4fce7f808b...|                   22420|      rio de janeiro|            RJ|\n",
      "+--------------------+--------------------+------------------------+--------------------+--------------+\n",
      "only showing top 5 rows\n"
     ]
    }
   ],
   "source": [
    "# Inspect some output\n",
    "\n",
    "df_bronze = spark.read.parquet(\"datamart/bronze/customers/bronze_olist_customers.parquet\")\n",
    "df_bronze.show(5)"
   ]
  },
  {
   "cell_type": "markdown",
   "id": "d767bf08-b027-43bd-a695-43b5217fd756",
   "metadata": {
    "jp-MarkdownHeadingCollapsed": true
   },
   "source": [
    "## Build Silver Table"
   ]
  },
  {
   "cell_type": "markdown",
   "id": "573d6071-2d84-491f-81d9-a2f0f692e526",
   "metadata": {},
   "source": [
    "Important note: There is some discrepancy in where the datamart folder is created when the main.py script is run vs this Jupyter notebook is run.\n",
    "\n",
    "* This Jupyter notebook will create the datamart folder inside `scripts` folder and output the silver tables there.\n",
    "* When you run the main.py script, the datamart folder will be created inside `app` folder (i.e. root) and output the silver tables there.\n",
    "\n",
    "Need to have team meeting to resolve this"
   ]
  },
  {
   "cell_type": "code",
   "execution_count": 5,
   "id": "dd2b29d3-9ac3-4246-a52f-d67fadf64940",
   "metadata": {},
   "outputs": [
    {
     "name": "stdout",
     "output_type": "stream",
     "text": [
      "Silver root directory: datamart/silver\n"
     ]
    }
   ],
   "source": [
    "# Create silver root directory\n",
    "silver_root = \"datamart/silver\"\n",
    "os.makedirs(silver_root, exist_ok=True)\n",
    "print(f\"Silver root directory: {silver_root}\")"
   ]
  },
  {
   "cell_type": "code",
   "execution_count": 6,
   "id": "1012f779-1308-4a32-9e1e-e6bfc9289cdd",
   "metadata": {},
   "outputs": [],
   "source": [
    "# Create all required output directories\n",
    "\n",
    "# Create silver directory to save customer data\n",
    "silver_cust_directory = \"datamart/silver/customers/\"\n",
    "if not os.path.exists(silver_cust_directory):\n",
    "    os.makedirs(silver_cust_directory)\n",
    "\n",
    "# Create silver directory to save seller data\n",
    "silver_sell_directory = \"datamart/silver/sellers/\"\n",
    "if not os.path.exists(silver_sell_directory):\n",
    "    os.makedirs(silver_sell_directory)\n",
    "\n",
    "# Create silver directory to save geolocation data\n",
    "silver_geo_directory = \"datamart/silver/geolocation/\"\n",
    "if not os.path.exists(silver_geo_directory):\n",
    "    os.makedirs(silver_geo_directory)\n",
    "\n",
    "\n",
    "# Create silver directory to save products data\n",
    "silver_prod_directory = \"datamart/silver/products/\"\n",
    "if not os.path.exists(silver_prod_directory):\n",
    "    os.makedirs(silver_prod_directory)\n",
    "\n",
    "# Create silver directory to save product_categories_translation data\n",
    "silver_prod_cat_trans_directory = \"datamart/silver/category_translation/\"\n",
    "if not os.path.exists(silver_prod_cat_trans_directory):\n",
    "    os.makedirs(silver_prod_cat_trans_directory)\n",
    "\n",
    "# Create silver directory to save orders data\n",
    "silver_orders_directory = \"datamart/silver/orders/\"\n",
    "if not os.path.exists(silver_orders_directory):\n",
    "    os.makedirs(silver_orders_directory)\n",
    "\n",
    "# Create silver directory to save order_items data\n",
    "silver_order_items_directory = \"datamart/silver/order_items/\"\n",
    "if not os.path.exists(silver_order_items_directory):\n",
    "    os.makedirs(silver_order_items_directory)"
   ]
  },
  {
   "cell_type": "code",
   "execution_count": 7,
   "id": "1a4dee92-5661-46b9-85ad-e84d0448147f",
   "metadata": {},
   "outputs": [
    {
     "name": "stdout",
     "output_type": "stream",
     "text": [
      "\n",
      "Processing bronze tables...\n",
      "loaded from: datamart/bronze/customers/bronze_olist_customers.parquet row count: 99441\n",
      "Number of duplicated 'customer_id': 0\n"
     ]
    },
    {
     "name": "stderr",
     "output_type": "stream",
     "text": [
      "                                                                                \r"
     ]
    },
    {
     "name": "stdout",
     "output_type": "stream",
     "text": [
      "saved to: datamart/silver/customers/silver_olist_customers.parquet\n",
      "loaded from: datamart/bronze/sellers/bronze_olist_sellers.parquet row count: 3095\n",
      "Number of duplicated 'seller_id': 0\n",
      "saved to: datamart/silver/sellers/silver_olist_sellers.parquet\n",
      "loaded from: datamart/bronze/geolocation/bronze_olist_geolocation.parquet row count: 1000325\n"
     ]
    },
    {
     "name": "stderr",
     "output_type": "stream",
     "text": [
      "                                                                                \r"
     ]
    },
    {
     "name": "stdout",
     "output_type": "stream",
     "text": [
      "saved to: datamart/silver/geolocation/silver_olist_geolocation.parquet\n"
     ]
    },
    {
     "data": {
      "text/plain": [
       "DataFrame[geolocation_zip_code_prefix: string, geolocation_lat: double, geolocation_lng: double]"
      ]
     },
     "execution_count": 7,
     "metadata": {},
     "output_type": "execute_result"
    }
   ],
   "source": [
    "# Process all bronze tables into silver\n",
    "print(\"\\nProcessing bronze tables...\")\n",
    "silver_processing.process_silver_olist_customers(\"datamart/bronze/customers/\",silver_cust_directory, spark)\n",
    "silver_processing.process_silver_olist_sellers(\"datamart/bronze/sellers/\",silver_sell_directory, spark)\n",
    "silver_processing.process_silver_olist_geolocation(\"datamart/bronze/geolocation/\",silver_geo_directory, spark)\n",
    "# silver_processing.process_silver_olist_products(\"datamart/bronze/products/\",silver_prod_directory, spark)\n",
    "# silver_processing.process_silver_olist_order_items(\"datamart/bronze/order_items/\",silver_order_items_directory, spark)\n",
    "# silver_processing.process_silver_olist_product_categories_translation(\"datamart/bronze/category_translation\",silver_prod_cat_trans_directory, spark)\n",
    "# silver_processing.process_silver_olist_orders(\"datamart/bronze/orders/\",silver_orders_directory, spark)\n"
   ]
  },
  {
   "cell_type": "code",
   "execution_count": 8,
   "id": "9692dab1-3c00-427d-9abf-9319dadf04d4",
   "metadata": {},
   "outputs": [
    {
     "name": "stdout",
     "output_type": "stream",
     "text": [
      "+---------------------------+-------------------+-------------------+\n",
      "|geolocation_zip_code_prefix|    geolocation_lat|    geolocation_lng|\n",
      "+---------------------------+-------------------+-------------------+\n",
      "|                      49290|-11.274805005391439|-37.790795516967776|\n",
      "|                      49630|-10.605308055877686|-37.113027572631836|\n",
      "|                      55445|   -8.5616774559021|  -35.8295783996582|\n",
      "|                      57051| -9.655002400681779| -35.73440123893119|\n",
      "|                      57085| -9.558634171119103| -35.73914117079515|\n",
      "+---------------------------+-------------------+-------------------+\n",
      "only showing top 5 rows\n"
     ]
    }
   ],
   "source": [
    "# Inspect some output\n",
    "df_silver = spark.read.parquet(\"datamart/silver/geolocation/silver_olist_geolocation.parquet\")\n",
    "df_silver.show(5)"
   ]
  },
  {
   "cell_type": "markdown",
   "id": "f5b00aa2-e29a-4965-866f-a1f593ab4c23",
   "metadata": {
    "jp-MarkdownHeadingCollapsed": true
   },
   "source": [
    "### Build Customer Table"
   ]
  },
  {
   "cell_type": "code",
   "execution_count": 9,
   "id": "81fd1733-5963-4536-987b-528e045dba71",
   "metadata": {},
   "outputs": [],
   "source": [
    "# Create silver directory to save customer data\n",
    "silver_cust_directory = \"datamart/silver/customers/\"\n",
    "if not os.path.exists(silver_cust_directory):\n",
    "    os.makedirs(silver_cust_directory)"
   ]
  },
  {
   "cell_type": "code",
   "execution_count": 10,
   "id": "f8c4513d-86f0-4807-9cc4-eb1d3a694448",
   "metadata": {},
   "outputs": [],
   "source": [
    "def process_silver_olist_customers(bronze_directory, silver_directory, spark):\n",
    "    \n",
    "    # connect to bronze table\n",
    "    partition_name = \"bronze_olist_customers.parquet\"\n",
    "    filepath = bronze_directory + partition_name\n",
    "    df = spark.read.parquet(filepath)\n",
    "    print('loaded from:', filepath, 'row count:', df.count())\n",
    "\n",
    "    # clean data: enforce schema / data type\n",
    "    # Dictionary specifying columns and their desired datatypes\n",
    "    column_type_map = {\n",
    "        \"customer_id\": StringType(),\n",
    "        \"customer_unique_id\": StringType(),\n",
    "        \"customer_zip_code_prefix\": StringType(),\n",
    "        \"customer_city\": StringType(),\n",
    "        \"customer_state\": StringType(),\n",
    "    }\n",
    "\n",
    "    for column, new_type in column_type_map.items():\n",
    "        df = df.withColumn(column, col(column).cast(new_type))\n",
    "\n",
    "    # Check customer_id duplicates (total rows - distinct ids)\n",
    "    total_rows = df.count()\n",
    "    distinct_rows = df.select(\"customer_id\").distinct().count()\n",
    "    duplicates_customer_id = total_rows - distinct_rows\n",
    "    print(f\"Number of duplicated 'customer_id': {duplicates_customer_id}\")\n",
    "\n",
    "    # Add missing leading zero\n",
    "    df = df.withColumn(\n",
    "        \"customer_zip_code_prefix\",\n",
    "        F.lpad(col(\"customer_zip_code_prefix\"), 5, \"0\")\n",
    "    )\n",
    "    \n",
    "    # save silver table - IRL connect to database to write\n",
    "    partition_name = \"silver_olist_customers.parquet\"\n",
    "    filepath = silver_directory + partition_name\n",
    "    df.write.mode(\"overwrite\").parquet(filepath)\n",
    "    print('saved to:', filepath)\n",
    "    \n",
    "    return df"
   ]
  },
  {
   "cell_type": "code",
   "execution_count": 11,
   "id": "14ca153f-67d1-412a-a729-7080f9bc5e5f",
   "metadata": {},
   "outputs": [
    {
     "name": "stdout",
     "output_type": "stream",
     "text": [
      "loaded from: datamart/bronze/customers/bronze_olist_customers.parquet row count: 99441\n",
      "Number of duplicated 'customer_id': 0\n",
      "saved to: datamart/silver/customers/silver_olist_customers.parquet\n"
     ]
    }
   ],
   "source": [
    "# Run function manually to test\n",
    "df = process_silver_olist_customers(\"datamart/bronze/customers/\",silver_cust_directory, spark)"
   ]
  },
  {
   "cell_type": "code",
   "execution_count": 12,
   "id": "825f8aef-d715-44d9-9f81-c8c7202432b8",
   "metadata": {},
   "outputs": [
    {
     "name": "stdout",
     "output_type": "stream",
     "text": [
      "root\n",
      " |-- customer_id: string (nullable = true)\n",
      " |-- customer_unique_id: string (nullable = true)\n",
      " |-- customer_zip_code_prefix: string (nullable = true)\n",
      " |-- customer_city: string (nullable = true)\n",
      " |-- customer_state: string (nullable = true)\n",
      "\n"
     ]
    }
   ],
   "source": [
    "# Check schema enforced\n",
    "df.printSchema()"
   ]
  },
  {
   "cell_type": "code",
   "execution_count": 13,
   "id": "0f823b48-1e8c-4b5c-a38e-0921dbae1c35",
   "metadata": {},
   "outputs": [
    {
     "name": "stdout",
     "output_type": "stream",
     "text": [
      "+------+-----+\n",
      "|length|count|\n",
      "+------+-----+\n",
      "|     5|99441|\n",
      "+------+-----+\n",
      "\n"
     ]
    }
   ],
   "source": [
    "# Check missing leading zero padded\n",
    "df.groupBy(F.length(\"customer_zip_code_prefix\").alias(\"length\")).count().show()"
   ]
  },
  {
   "cell_type": "markdown",
   "id": "ed2f0173-1008-4f1c-a776-f36daec1746b",
   "metadata": {
    "jp-MarkdownHeadingCollapsed": true
   },
   "source": [
    "### Build Seller Table"
   ]
  },
  {
   "cell_type": "code",
   "execution_count": 14,
   "id": "ba12ae85-298f-454d-8a35-daddd3897a72",
   "metadata": {},
   "outputs": [],
   "source": [
    "# Create silver directory to save seller data\n",
    "silver_sell_directory = \"datamart/silver/sellers/\"\n",
    "if not os.path.exists(silver_sell_directory):\n",
    "    os.makedirs(silver_sell_directory)"
   ]
  },
  {
   "cell_type": "code",
   "execution_count": 15,
   "id": "5bea31b9-621e-4630-8b17-1106edf023a3",
   "metadata": {},
   "outputs": [],
   "source": [
    "def process_silver_olist_sellers(bronze_directory, silver_directory, spark):\n",
    "    \n",
    "    # connect to bronze table\n",
    "    partition_name = \"bronze_olist_sellers.parquet\"\n",
    "    filepath = bronze_directory + partition_name\n",
    "    df = spark.read.parquet(filepath)\n",
    "    print('loaded from:', filepath, 'row count:', df.count())\n",
    "\n",
    "    # clean data: enforce schema / data type\n",
    "    # Dictionary specifying columns and their desired datatypes\n",
    "    column_type_map = {\n",
    "        \"seller_id\": StringType(),\n",
    "        \"seller_zip_code_prefix\": StringType(),\n",
    "        \"seller_city\": StringType(),\n",
    "        \"seller_state\": StringType(),\n",
    "    }\n",
    "\n",
    "    for column, new_type in column_type_map.items():\n",
    "        df = df.withColumn(column, col(column).cast(new_type))\n",
    "\n",
    "    # Check seller_id duplicates (total rows - distinct ids)\n",
    "    total_rows = df.count()\n",
    "    distinct_rows = df.select(\"seller_id\").distinct().count()\n",
    "    duplicates_seller_id = total_rows - distinct_rows\n",
    "    print(f\"Number of duplicated 'seller_id': {duplicates_seller_id}\")\n",
    "\n",
    "    # Add missing leading zero\n",
    "    df = df.withColumn(\n",
    "        \"seller_zip_code_prefix\",\n",
    "        F.lpad(col(\"seller_zip_code_prefix\"), 5, \"0\")\n",
    "    )\n",
    "    \n",
    "    # save silver table - IRL connect to database to write\n",
    "    partition_name = \"silver_olist_sellers.parquet\"\n",
    "    filepath = silver_directory + partition_name\n",
    "    df.write.mode(\"overwrite\").parquet(filepath)\n",
    "    print('saved to:', filepath)\n",
    "    \n",
    "    return df"
   ]
  },
  {
   "cell_type": "code",
   "execution_count": 16,
   "id": "dd3ef983-9e83-4970-85fd-d7358d2f3de6",
   "metadata": {},
   "outputs": [
    {
     "name": "stdout",
     "output_type": "stream",
     "text": [
      "loaded from: datamart/bronze/sellers/bronze_olist_sellers.parquet row count: 3095\n",
      "Number of duplicated 'seller_id': 0\n",
      "saved to: datamart/silver/sellers/silver_olist_sellers.parquet\n"
     ]
    }
   ],
   "source": [
    "# Run function manually to test\n",
    "df = process_silver_olist_sellers(\"datamart/bronze/sellers/\",silver_sell_directory, spark)"
   ]
  },
  {
   "cell_type": "code",
   "execution_count": 17,
   "id": "1468622b-78f2-4fd7-a0b9-6c2e4b5a6cbc",
   "metadata": {},
   "outputs": [
    {
     "name": "stdout",
     "output_type": "stream",
     "text": [
      "root\n",
      " |-- seller_id: string (nullable = true)\n",
      " |-- seller_zip_code_prefix: string (nullable = true)\n",
      " |-- seller_city: string (nullable = true)\n",
      " |-- seller_state: string (nullable = true)\n",
      "\n"
     ]
    }
   ],
   "source": [
    "# Check schema enforced\n",
    "df.printSchema()"
   ]
  },
  {
   "cell_type": "code",
   "execution_count": 18,
   "id": "066674d2-760b-47fe-89ef-0be33600f1fe",
   "metadata": {},
   "outputs": [
    {
     "name": "stdout",
     "output_type": "stream",
     "text": [
      "+------+-----+\n",
      "|length|count|\n",
      "+------+-----+\n",
      "|     5| 3095|\n",
      "+------+-----+\n",
      "\n"
     ]
    }
   ],
   "source": [
    "# Check missing leading zero padded\n",
    "df.groupBy(F.length(\"seller_zip_code_prefix\").alias(\"length\")).count().show()"
   ]
  },
  {
   "cell_type": "markdown",
   "id": "73580bff-eb08-412b-b91e-59ed8767181a",
   "metadata": {
    "jp-MarkdownHeadingCollapsed": true
   },
   "source": [
    "### Build Geolocation Table"
   ]
  },
  {
   "cell_type": "code",
   "execution_count": 19,
   "id": "c8548b10-ed7f-41d6-b767-f23f4c771a78",
   "metadata": {},
   "outputs": [],
   "source": [
    "# Create silver directory to save geolocation data\n",
    "silver_geo_directory = \"datamart/silver/geolocation/\"\n",
    "if not os.path.exists(silver_geo_directory):\n",
    "    os.makedirs(silver_geo_directory)"
   ]
  },
  {
   "cell_type": "code",
   "execution_count": 20,
   "id": "7437f8bf-83cd-475d-a948-4bffd41e2fa4",
   "metadata": {},
   "outputs": [],
   "source": [
    "def process_silver_olist_geolocation(bronze_directory, silver_directory, spark):\n",
    "    \n",
    "    # connect to bronze table\n",
    "    partition_name = \"bronze_olist_geolocation.parquet\"\n",
    "    filepath = bronze_directory + partition_name\n",
    "    df = spark.read.parquet(filepath)\n",
    "    print('loaded from:', filepath, 'row count:', df.count())\n",
    "\n",
    "    # clean data: enforce schema / data type\n",
    "    # Dictionary specifying columns and their desired datatypes\n",
    "    column_type_map = {\n",
    "        \"geolocation_zip_code_prefix\": StringType(),\n",
    "        \"geolocation_lat\": FloatType(),\n",
    "        \"geolocation_lng\": FloatType(),\n",
    "        \"geolocation_city\": StringType(),\n",
    "        \"geolocation_state\": StringType(),\n",
    "    }\n",
    "\n",
    "    for column, new_type in column_type_map.items():\n",
    "        df = df.withColumn(column, col(column).cast(new_type))\n",
    "\n",
    "    # Add missing leading zero\n",
    "    df = df.withColumn(\n",
    "        \"geolocation_zip_code_prefix\",\n",
    "        F.lpad(col(\"geolocation_zip_code_prefix\"), 5, \"0\")\n",
    "    )\n",
    "\n",
    "    # Deduplicate zipcodes by just taking the centroid (mean of lat,lng)\n",
    "    df_dedupe = df.groupBy(\"geolocation_zip_code_prefix\").agg(\n",
    "        F.avg(\"geolocation_lat\").alias(\"geolocation_lat\"),\n",
    "        F.avg(\"geolocation_lng\").alias(\"geolocation_lng\")\n",
    "    )\n",
    "    \n",
    "    # save silver table - IRL connect to database to write\n",
    "    partition_name = \"silver_olist_geolocation.parquet\"\n",
    "    filepath = silver_directory + partition_name\n",
    "    df.write.mode(\"overwrite\").parquet(filepath)\n",
    "    print('saved to:', filepath)\n",
    "    \n",
    "    return df_dedupe"
   ]
  },
  {
   "cell_type": "code",
   "execution_count": 21,
   "id": "744285be-254a-482c-bbd4-f1b4dc73cef9",
   "metadata": {},
   "outputs": [
    {
     "name": "stdout",
     "output_type": "stream",
     "text": [
      "loaded from: datamart/bronze/geolocation/bronze_olist_geolocation.parquet row count: 1000325\n"
     ]
    },
    {
     "name": "stderr",
     "output_type": "stream",
     "text": [
      "                                                                                \r"
     ]
    },
    {
     "name": "stdout",
     "output_type": "stream",
     "text": [
      "saved to: datamart/silver/geolocation/silver_olist_geolocation.parquet\n"
     ]
    }
   ],
   "source": [
    "# Run function manually to test\n",
    "df = process_silver_olist_geolocation(\"datamart/bronze/geolocation/\",silver_geo_directory, spark)"
   ]
  },
  {
   "cell_type": "code",
   "execution_count": 22,
   "id": "4a145539-6949-49b3-bc73-f95e92a0191c",
   "metadata": {},
   "outputs": [
    {
     "name": "stdout",
     "output_type": "stream",
     "text": [
      "root\n",
      " |-- geolocation_zip_code_prefix: string (nullable = true)\n",
      " |-- geolocation_lat: double (nullable = true)\n",
      " |-- geolocation_lng: double (nullable = true)\n",
      "\n"
     ]
    }
   ],
   "source": [
    "# Check schema enforced\n",
    "df.printSchema()"
   ]
  },
  {
   "cell_type": "code",
   "execution_count": 23,
   "id": "36a998b9-e0d1-46df-90f8-7ac1fc45901c",
   "metadata": {},
   "outputs": [
    {
     "name": "stdout",
     "output_type": "stream",
     "text": [
      "+------+-----+\n",
      "|length|count|\n",
      "+------+-----+\n",
      "|     5|19177|\n",
      "+------+-----+\n",
      "\n"
     ]
    }
   ],
   "source": [
    "# Check missing leading zero padded\n",
    "df.groupBy(F.length(\"geolocation_zip_code_prefix\").alias(\"length\")).count().show()"
   ]
  },
  {
   "cell_type": "code",
   "execution_count": 24,
   "id": "a5857ffa-e899-4d38-a856-92d3a9c2a643",
   "metadata": {},
   "outputs": [
    {
     "name": "stdout",
     "output_type": "stream",
     "text": [
      "+---------------------------+-----+\n",
      "|geolocation_zip_code_prefix|count|\n",
      "+---------------------------+-----+\n",
      "+---------------------------+-----+\n",
      "\n"
     ]
    }
   ],
   "source": [
    "# Check every geolocation_zip_code_prefix only has 1 count. Group by prefix and count occurrences\n",
    "df.groupBy(\"geolocation_zip_code_prefix\") \\\n",
    "    .agg(F.count(\"*\").alias(\"count\")) \\\n",
    "    .filter(\"count > 1\") \\\n",
    "    .show()"
   ]
  },
  {
   "cell_type": "markdown",
   "id": "fc538d2b-2b37-478b-844a-7af3724f1dcb",
   "metadata": {},
   "source": [
    "### Build Products Table"
   ]
  },
  {
   "cell_type": "code",
   "execution_count": null,
   "id": "4e4909e9-3347-4b1f-9728-aba795fc18f9",
   "metadata": {},
   "outputs": [],
   "source": [
    "# Create silver directory to save products data\n",
    "silver_prod_directory = \"datamart/silver/products/\"\n",
    "if not os.path.exists(silver_prod_directory):\n",
    "    os.makedirs(silver_prod_directory)"
   ]
  },
  {
   "cell_type": "code",
   "execution_count": null,
   "id": "a42f5caf-d676-4975-b67c-203483680798",
   "metadata": {},
   "outputs": [],
   "source": [
    "def process_silver_olist_products(bronze_directory, silver_directory, spark):\n",
    "    \n",
    "    # connect to bronze table\n",
    "    partition_name = \"bronze_olist_products.parquet\"\n",
    "    filepath = bronze_directory + partition_name\n",
    "    df = spark.read.parquet(filepath)\n",
    "    print('loaded from:', filepath, 'row count:', df.count())\n",
    "\n",
    "    # Rename columns due to spelling mistakes \n",
    "    df = df.withColumnRenamed(\"product_name_lenght\", \"product_name_length\") \\\n",
    "           .withColumnRenamed(\"product_description_lenght\", \"product_description_length\")\n",
    "\n",
    "    \n",
    "    # clean data: enforce schema / data type\n",
    "    # Dictionary specifying columns and their desired datatypes\n",
    "    column_type_map = {\n",
    "        \"product_id\": StringType(),\n",
    "        \"product_category_name\": StringType(),\n",
    "        \"product_name_length\": DoubleType(),\n",
    "        \"product_description_length\": DoubleType(),\n",
    "        \"product_photos_qty\": DoubleType(),\n",
    "        \"product_weight_g\": DoubleType(),\n",
    "        \"product_length_cm\": DoubleType(),\n",
    "        \"product_height_cm\": DoubleType(),\n",
    "        \"product_width_cm\": DoubleType(),\n",
    "    }\n",
    "\n",
    "    for column, new_type in column_type_map.items():\n",
    "        df = df.withColumn(column, col(column).cast(new_type))\n",
    "\n",
    "    # Inputting missing values as NaN\n",
    "    df = df.fillna({\"product_category_name\": \"NaN\"})\n",
    "    df = df.fillna({\"product_name_length\": float('nan')}) \n",
    "    df = df.fillna({\"product_description_length\": float('nan')}) \n",
    "    df = df.fillna({\"product_photos_qty\": float('nan')}) \n",
    "    \n",
    "    # Check product_id duplicates (total rows - distinct ids)\n",
    "    total_rows = df.count()\n",
    "    distinct_rows = df.select(\"product_id\").distinct().count()\n",
    "    duplicates_product_id = total_rows - distinct_rows\n",
    "    print(f\"Number of duplicated 'product_id': {duplicates_product_id}\")\n",
    "\n",
    "\n",
    "    \n",
    "    # save silver table - IRL connect to database to write\n",
    "    partition_name = \"silver_olist_products.parquet\"\n",
    "    filepath = silver_directory + partition_name\n",
    "    df.write.mode(\"overwrite\").parquet(filepath)\n",
    "    print('saved to:', filepath)\n",
    "    \n",
    "    return df"
   ]
  },
  {
   "cell_type": "code",
   "execution_count": null,
   "id": "02873004-1348-4cf8-9323-cf9a4692b4d2",
   "metadata": {},
   "outputs": [
    {
     "name": "stdout",
     "output_type": "stream",
     "text": [
      "loaded from: datamart/bronze/products/bronze_olist_products.parquet row count: 32951\n",
      "Number of duplicated 'product_id': 0\n",
      "saved to: datamart/silver/products/silver_olist_products.parquet\n"
     ]
    }
   ],
   "source": [
    "# Run function manually to test\n",
    "# I inputted the bronze_directory manually (amend after our path discrepancies are resolved)\n",
    "df = process_silver_olist_products(\"datamart/bronze/products/\",silver_prod_directory, spark)"
   ]
  },
  {
   "cell_type": "code",
   "execution_count": null,
   "id": "b3864036-80cd-4e10-b1e8-9262992cd32d",
   "metadata": {},
   "outputs": [
    {
     "name": "stdout",
     "output_type": "stream",
     "text": [
      "root\n",
      " |-- product_id: string (nullable = true)\n",
      " |-- product_category_name: string (nullable = false)\n",
      " |-- product_name_length: double (nullable = false)\n",
      " |-- product_description_length: double (nullable = false)\n",
      " |-- product_photos_qty: double (nullable = false)\n",
      " |-- product_weight_g: double (nullable = true)\n",
      " |-- product_length_cm: double (nullable = true)\n",
      " |-- product_height_cm: double (nullable = true)\n",
      " |-- product_width_cm: double (nullable = true)\n",
      "\n"
     ]
    }
   ],
   "source": [
    "# Check schema enforced\n",
    "df.printSchema()"
   ]
  },
  {
   "cell_type": "code",
   "execution_count": null,
   "id": "62d0c758-2904-4604-83eb-9fa01659f789",
   "metadata": {},
   "outputs": [
    {
     "name": "stdout",
     "output_type": "stream",
     "text": [
      "+--------------------+---------------------+-------------------+--------------------------+------------------+----------------+-----------------+-----------------+----------------+\n",
      "|          product_id|product_category_name|product_name_length|product_description_length|product_photos_qty|product_weight_g|product_length_cm|product_height_cm|product_width_cm|\n",
      "+--------------------+---------------------+-------------------+--------------------------+------------------+----------------+-----------------+-----------------+----------------+\n",
      "|1e9e8ef04dbcff454...|           perfumaria|               40.0|                     287.0|               1.0|           225.0|             16.0|             10.0|            14.0|\n",
      "|3aa071139cb16b67c...|                artes|               44.0|                     276.0|               1.0|          1000.0|             30.0|             18.0|            20.0|\n",
      "|96bd76ec8810374ed...|        esporte_lazer|               46.0|                     250.0|               1.0|           154.0|             18.0|              9.0|            15.0|\n",
      "|cef67bcfe19066a93...|                bebes|               27.0|                     261.0|               1.0|           371.0|             26.0|              4.0|            26.0|\n",
      "|9dc1a7de274444849...| utilidades_domest...|               37.0|                     402.0|               4.0|           625.0|             20.0|             17.0|            13.0|\n",
      "+--------------------+---------------------+-------------------+--------------------------+------------------+----------------+-----------------+-----------------+----------------+\n",
      "only showing top 5 rows\n",
      "\n"
     ]
    }
   ],
   "source": [
    "# Inspect some output\n",
    "df = spark.read.parquet(\"datamart/silver/products/silver_olist_products.parquet\")\n",
    "df.show(5)\n",
    "\n",
    "# Can read"
   ]
  },
  {
   "cell_type": "markdown",
   "id": "8b6e4638-eb87-4613-9279-a740b36a712a",
   "metadata": {
    "jp-MarkdownHeadingCollapsed": true
   },
   "source": [
    "### Build Product Categories Table??"
   ]
  },
  {
   "cell_type": "code",
   "execution_count": null,
   "id": "761af31e-a1ce-48f7-b8c6-2458611a1704",
   "metadata": {},
   "outputs": [],
   "source": [
    "# not sure "
   ]
  },
  {
   "cell_type": "code",
   "execution_count": null,
   "id": "8cddad9d-b277-435c-bf4b-2cb863a93f98",
   "metadata": {},
   "outputs": [],
   "source": []
  },
  {
   "cell_type": "code",
   "execution_count": null,
   "id": "b5d6e81b",
   "metadata": {},
   "outputs": [],
   "source": []
  },
  {
   "cell_type": "markdown",
   "id": "b539be9f",
   "metadata": {},
   "source": [
    "### Build Order_Items Table"
   ]
  },
  {
   "cell_type": "code",
   "execution_count": null,
   "id": "7c31d4a4",
   "metadata": {},
   "outputs": [],
   "source": [
    "# Create silver directory to save order_items data\n",
    "silver_order_items_directory = \"datamart/silver/order_items/\"\n",
    "if not os.path.exists(silver_order_items_directory):\n",
    "    os.makedirs(silver_order_items_directory)"
   ]
  },
  {
   "cell_type": "code",
   "execution_count": null,
   "id": "57e82c93",
   "metadata": {},
   "outputs": [],
   "source": [
    "def process_silver_olist_order_items(bronze_directory, silver_directory, spark):\n",
    "    \n",
    "    # connect to bronze table\n",
    "    partition_name = \"bronze_olist_order_items.parquet\"\n",
    "    filepath = bronze_directory + partition_name\n",
    "    df = spark.read.parquet(filepath)\n",
    "    print('loaded from:', filepath, 'row count:', df.count())\n",
    "\n",
    "    \n",
    "    # clean data: enforce schema / data type\n",
    "    # Dictionary specifying columns and their desired datatypes\n",
    "    column_type_map = {\n",
    "        \"order_id\": StringType(),\n",
    "        \"order_item_id\": LongType(),\n",
    "        \"product_id\": StringType(),\n",
    "        \"seller_id\": StringType(),\n",
    "        \"shipping_limit_date\": TimestampType(),\n",
    "        \"price\": DoubleType(),\n",
    "        \"freight_value\": DoubleType(),\n",
    "    }\n",
    "\n",
    "    for column, new_type in column_type_map.items():\n",
    "        df = df.withColumn(column, col(column).cast(new_type))\n",
    "\n",
    "    \n",
    "    # Checking for invalid seller IDs\n",
    "    # Load df_sellers from SILVER <<<<<<----------------------------------<<<<<<<<<<<<<\n",
    "    df_sellers = spark.read.parquet(\"datamart/silver/sellers/silver_olist_sellers.parquet\")  \n",
    "\n",
    "    # Get distinct valid seller IDs\n",
    "    valid_seller_ids_df = df_sellers.select(\"seller_id\").distinct()\n",
    "    \n",
    "    # Perform a left anti join to find sellers with invalid seller_id\n",
    "    invalid_orders = df.join(valid_seller_ids_df, on=\"seller_id\", how=\"left_anti\")\n",
    "    \n",
    "    # Count how many invalid seller IDs there are\n",
    "    invalid_seller_count = invalid_orders.count()\n",
    "\n",
    "    # Conditionally drop invalid orders\n",
    "    if invalid_seller_count > 0:\n",
    "        initial_count = df.count()\n",
    "        print(\"Dropping orders with invalid seller_id...\")\n",
    "        df = df.join(valid_seller_ids_df, on=\"seller_id\", how=\"inner\")\n",
    "        final_count = df.count()\n",
    "        dropped_count = initial_count - final_count\n",
    "        print(f\"Dropped {dropped_count} rows\")\n",
    "        \n",
    "    else:\n",
    "        print(\"All seller ids are valid — no need to drop!!\")\n",
    "\n",
    "    \n",
    "    # save silver table - IRL connect to database to write\n",
    "    partition_name = \"silver_olist_order_items.parquet\"\n",
    "    filepath = silver_directory + partition_name\n",
    "    df.write.mode(\"overwrite\").parquet(filepath)\n",
    "    print('saved to:', filepath)\n",
    "    \n",
    "    return df"
   ]
  },
  {
   "cell_type": "code",
   "execution_count": null,
   "id": "f10cebc2",
   "metadata": {},
   "outputs": [
    {
     "name": "stdout",
     "output_type": "stream",
     "text": [
      "loaded from: datamart/bronze/order_items/bronze_olist_order_items.parquet row count: 112650\n",
      "All seller ids are valid — no need to drop!!\n"
     ]
    },
    {
     "name": "stderr",
     "output_type": "stream",
     "text": [
      "                                                                                "
     ]
    },
    {
     "name": "stdout",
     "output_type": "stream",
     "text": [
      "saved to: datamart/silver/order_items/silver_olist_order_items.parquet\n"
     ]
    }
   ],
   "source": [
    "# Run function manually to test\n",
    "# I inputted the bronze_directory manually (amend after our path discrepancies are resolved)\n",
    "df = process_silver_olist_order_items(\"datamart/bronze/order_items/\",silver_order_items_directory, spark)"
   ]
  },
  {
   "cell_type": "code",
   "execution_count": null,
   "id": "d0c988d4",
   "metadata": {},
   "outputs": [
    {
     "name": "stdout",
     "output_type": "stream",
     "text": [
      "root\n",
      " |-- order_id: string (nullable = true)\n",
      " |-- order_item_id: long (nullable = true)\n",
      " |-- product_id: string (nullable = true)\n",
      " |-- seller_id: string (nullable = true)\n",
      " |-- shipping_limit_date: timestamp (nullable = true)\n",
      " |-- price: double (nullable = true)\n",
      " |-- freight_value: double (nullable = true)\n",
      "\n"
     ]
    }
   ],
   "source": [
    "# Check schema enforced\n",
    "df.printSchema()"
   ]
  },
  {
   "cell_type": "code",
   "execution_count": null,
   "id": "1c197f9d",
   "metadata": {},
   "outputs": [
    {
     "name": "stdout",
     "output_type": "stream",
     "text": [
      "+--------------------+-------------+--------------------+--------------------+-------------------+------+-------------+\n",
      "|            order_id|order_item_id|          product_id|           seller_id|shipping_limit_date| price|freight_value|\n",
      "+--------------------+-------------+--------------------+--------------------+-------------------+------+-------------+\n",
      "|8ac26cb701a7887cc...|            1|4ebb87ba41ca44632...|7a67c85e85bb2ce85...|2017-05-22 16:05:14|109.99|        18.02|\n",
      "|8ac2728285fd4228f...|            1|8b90be4893a4277a9...|004c9cd9d87a3c30c...|2017-03-15 14:09:17|109.99|         8.27|\n",
      "|8ac2728285fd4228f...|            2|fa94f25a73969e3a2...|004c9cd9d87a3c30c...|2017-03-15 14:09:17|109.99|        16.55|\n",
      "|8ac2728285fd4228f...|            3|b01cedfa96d891427...|004c9cd9d87a3c30c...|2017-03-15 14:09:17|259.99|        21.01|\n",
      "|8ac2728285fd4228f...|            4|fa94f25a73969e3a2...|004c9cd9d87a3c30c...|2017-03-15 14:09:17|109.99|        16.55|\n",
      "+--------------------+-------------+--------------------+--------------------+-------------------+------+-------------+\n",
      "only showing top 5 rows\n",
      "\n"
     ]
    }
   ],
   "source": [
    "# Inspect some output\n",
    "df = spark.read.parquet(\"datamart/silver/order_items/silver_olist_order_items.parquet\")\n",
    "df.show(5)\n",
    "\n",
    "# Can read"
   ]
  },
  {
   "cell_type": "markdown",
   "id": "1fcfbe42-badc-42ee-9b92-bf2b9a665a79",
   "metadata": {},
   "source": [
    "### Build Orders Table"
   ]
  },
  {
   "cell_type": "code",
   "execution_count": null,
   "id": "0dd19e8c-2ac8-4c03-9917-2c7073ef2205",
   "metadata": {},
   "outputs": [],
   "source": [
    "# Create silver directory to save orders data\n",
    "silver_orders_directory = \"datamart/silver/orders/\"\n",
    "if not os.path.exists(silver_orders_directory):\n",
    "    os.makedirs(silver_orders_directory)"
   ]
  },
  {
   "cell_type": "code",
   "execution_count": null,
   "id": "821674c0-c4ed-415b-96a5-fef4be96d167",
   "metadata": {},
   "outputs": [],
   "source": [
    "def process_silver_olist_orders(bronze_directory, silver_directory, spark, partition_name):\n",
    "    filepath = os.path.join(bronze_directory, partition_name)\n",
    "    df = spark.read.option(\"header\", True).option(\"inferSchema\", True).csv(filepath)\n",
    "    print('loaded from:', filepath, 'row count:', df.count())\n",
    "\n",
    "\n",
    "# def process_silver_olist_orders(bronze_directory, silver_directory, spark):\n",
    "    \n",
    "    # connect to bronze table\n",
    "    \n",
    "    # partition_name = \"bronze_olist_orders.parquet\"\n",
    "    # filepath = bronze_directory + partition_name\n",
    "    # df = spark.read.parquet(filepath)\n",
    "    # print('loaded from:', filepath, 'row count:', df.count())\n",
    "\n",
    "\n",
    "\n",
    "    # clean data: enforce schema / data type\n",
    "    # Dictionary specifying columns and their desired datatypes\n",
    "    column_type_map = {\n",
    "        \"order_id\": StringType(),\n",
    "        \"customer_id\": StringType(),\n",
    "        \"order_status\": StringType(),\n",
    "        \"order_purchase_timestamp\": TimestampType(),\n",
    "        \"order_approved_at\": TimestampType(),\n",
    "        \"order_delivered_carrier_date\": TimestampType(),\n",
    "        \"order_delivered_customer_date\": TimestampType(),\n",
    "        \"order_estimated_delivery_date\": TimestampType(),\n",
    "    }\n",
    "\n",
    "    for column, new_type in column_type_map.items():\n",
    "        df = df.withColumn(column, col(column).cast(new_type))\n",
    "\n",
    "    # Removing Invalid order ids\n",
    "    # Load the SILVER table  <<<<<<<<<<--------------------------------<<<<<<<<<<<<\n",
    "    df_order_items = spark.read.parquet(\"datamart/silver/order_items/silver_olist_order_items.parquet\") \n",
    "    \n",
    "    # Get distinct order IDs that exist in order items\n",
    "    valid_order_ids_df = df_order_items.select(\"order_id\").distinct()\n",
    "    \n",
    "    \n",
    "    # Keep only orders that exist in df_order_items\n",
    "    df_orders_clean = df.join(valid_order_ids_df, on=\"order_id\", how=\"inner\")\n",
    "    \n",
    "    # Count how many were dropped\n",
    "    dropped_orders = df.count() - df_orders_clean.count()\n",
    "    print(f\"Dropped {dropped_orders} orders with no items.\")\n",
    "\n",
    "    df = df_orders_clean\n",
    "\n",
    "\n",
    "    # Checking for invalid customer IDs\n",
    "    # Load df_customers from SILVER   <<<<<<<< ---------------------\n",
    "    df_customers = spark.read.parquet(\"datamart/silver/customers/silver_olist_customers.parquet\")  \n",
    "\n",
    "    # Get distinct valid customer IDs\n",
    "    valid_customer_ids_df = df_customers.select(\"customer_id\").distinct()\n",
    "    \n",
    "    # Perform a left anti join to find orders with invalid customer_id\n",
    "    invalid_orders = df.join(valid_customer_ids_df, on=\"customer_id\", how=\"left_anti\")\n",
    "    \n",
    "    # Count how many invalid customer IDs there are\n",
    "    invalid_customer_count = invalid_orders.count()\n",
    "\n",
    "    # Conditionally drop invalid orders\n",
    "    if invalid_customer_count > 0:\n",
    "        initial_count = df.count()\n",
    "        print(\"Dropping orders with invalid customer_id...\")\n",
    "        df = df.join(valid_customer_ids_df, on=\"customer_id\", how=\"inner\")\n",
    "        final_count = df.count()\n",
    "        dropped_count = initial_count - final_count\n",
    "        print(f\"Dropped {dropped_count} rows\")\n",
    "        \n",
    "    else:\n",
    "        print(\"All customer ids are valid — no need to drop!!\")\n",
    "\n",
    "\n",
    "\n",
    "    # Enforcing enum for order statuses\n",
    "    # Define valid statuses \n",
    "    valid_statuses = {\n",
    "        \"created\",\n",
    "        \"approved\",\n",
    "        \"processing\",\n",
    "        \"invoiced\",\n",
    "        \"shipped\",\n",
    "        \"delivered\",\n",
    "        \"canceled\",\n",
    "        \"unavailable\"\n",
    "    }\n",
    "    \n",
    "    # Clean and standardize the `order_status` column\n",
    "    df = df.withColumn(\"order_status\", trim(lower(col(\"order_status\"))))\n",
    "    \n",
    "    # dentify invalid statuses (those NOT in the valid_statuses set)\n",
    "    invalid_statuses_df = df.filter(~col(\"order_status\").isin(list(valid_statuses)))\n",
    "    \n",
    "    # Print the unique invalid statuses\n",
    "    invalid_statuses_list = invalid_statuses_df.select(\"order_status\").distinct().rdd.flatMap(lambda x: x).collect()\n",
    "\n",
    "    if invalid_statuses_list:\n",
    "        print(f\"Invalid statuses found: {invalid_statuses_list}\")\n",
    "    else:\n",
    "        print(\"No invalid status found!!\")\n",
    "\n",
    "\n",
    "    \n",
    "    # # save silver table - IRL connect to database to write\n",
    "    # partition_name = \"silver_olist_orders_2016_09.parquet\"  \n",
    "    # filepath = silver_directory + partition_name\n",
    "    # df.write.mode(\"overwrite\").parquet(filepath)\n",
    "    # print('saved to:', filepath)\n",
    "\n",
    "\n",
    "    # save \n",
    "    parquet_name = partition_name.replace(\"bronze\", \"silver\").replace(\".csv\", \".parquet\")\n",
    "    output_path = os.path.join(silver_directory, parquet_name)\n",
    "    df.write.mode(\"overwrite\").parquet(output_path)\n",
    "    print(\"-----> saved to:\", output_path)\n",
    "\n",
    "    return df"
   ]
  },
  {
   "cell_type": "code",
   "execution_count": null,
   "id": "1c38f543-33b9-4ae0-ab4c-c34776d9ea89",
   "metadata": {},
   "outputs": [
    {
     "name": "stdout",
     "output_type": "stream",
     "text": [
      "\n",
      "======== Processing bronze_olist_orders_2016_09.csv ......... \n",
      "\n",
      "loaded from: datamart/bronze/orders/bronze_olist_orders_2016_09.csv row count: 4\n",
      "Dropped 1 orders with no items.\n",
      "All customer ids are valid — no need to drop!!\n",
      "No invalid status found!!\n",
      "-----> saved to: datamart/silver/orders/silver_olist_orders_2016_09.parquet\n",
      "root\n",
      " |-- order_id: string (nullable = true)\n",
      " |-- customer_id: string (nullable = true)\n",
      " |-- order_status: string (nullable = true)\n",
      " |-- order_purchase_timestamp: timestamp (nullable = true)\n",
      " |-- order_approved_at: timestamp (nullable = true)\n",
      " |-- order_delivered_carrier_date: timestamp (nullable = true)\n",
      " |-- order_delivered_customer_date: timestamp (nullable = true)\n",
      " |-- order_estimated_delivery_date: timestamp (nullable = true)\n",
      " |-- snapshot_date: string (nullable = true)\n",
      "\n",
      "\n",
      "======== Processing bronze_olist_orders_2016_10.csv ......... \n",
      "\n",
      "loaded from: datamart/bronze/orders/bronze_olist_orders_2016_10.csv row count: 324\n",
      "Dropped 16 orders with no items.\n",
      "All customer ids are valid — no need to drop!!\n",
      "No invalid status found!!\n",
      "-----> saved to: datamart/silver/orders/silver_olist_orders_2016_10.parquet\n",
      "root\n",
      " |-- order_id: string (nullable = true)\n",
      " |-- customer_id: string (nullable = true)\n",
      " |-- order_status: string (nullable = true)\n",
      " |-- order_purchase_timestamp: timestamp (nullable = true)\n",
      " |-- order_approved_at: timestamp (nullable = true)\n",
      " |-- order_delivered_carrier_date: timestamp (nullable = true)\n",
      " |-- order_delivered_customer_date: timestamp (nullable = true)\n",
      " |-- order_estimated_delivery_date: timestamp (nullable = true)\n",
      " |-- snapshot_date: string (nullable = true)\n",
      "\n",
      "\n",
      "======== Processing bronze_olist_orders_2016_12.csv ......... \n",
      "\n",
      "loaded from: datamart/bronze/orders/bronze_olist_orders_2016_12.csv row count: 1\n",
      "Dropped 0 orders with no items.\n",
      "All customer ids are valid — no need to drop!!\n",
      "No invalid status found!!\n",
      "-----> saved to: datamart/silver/orders/silver_olist_orders_2016_12.parquet\n",
      "root\n",
      " |-- order_id: string (nullable = true)\n",
      " |-- customer_id: string (nullable = true)\n",
      " |-- order_status: string (nullable = true)\n",
      " |-- order_purchase_timestamp: timestamp (nullable = true)\n",
      " |-- order_approved_at: timestamp (nullable = true)\n",
      " |-- order_delivered_carrier_date: timestamp (nullable = true)\n",
      " |-- order_delivered_customer_date: timestamp (nullable = true)\n",
      " |-- order_estimated_delivery_date: timestamp (nullable = true)\n",
      " |-- snapshot_date: string (nullable = true)\n",
      "\n",
      "\n",
      "======== Processing bronze_olist_orders_2017_01.csv ......... \n",
      "\n",
      "loaded from: datamart/bronze/orders/bronze_olist_orders_2017_01.csv row count: 800\n",
      "Dropped 11 orders with no items.\n",
      "All customer ids are valid — no need to drop!!\n",
      "No invalid status found!!\n",
      "-----> saved to: datamart/silver/orders/silver_olist_orders_2017_01.parquet\n",
      "root\n",
      " |-- order_id: string (nullable = true)\n",
      " |-- customer_id: string (nullable = true)\n",
      " |-- order_status: string (nullable = true)\n",
      " |-- order_purchase_timestamp: timestamp (nullable = true)\n",
      " |-- order_approved_at: timestamp (nullable = true)\n",
      " |-- order_delivered_carrier_date: timestamp (nullable = true)\n",
      " |-- order_delivered_customer_date: timestamp (nullable = true)\n",
      " |-- order_estimated_delivery_date: timestamp (nullable = true)\n",
      " |-- snapshot_date: string (nullable = true)\n",
      "\n",
      "\n",
      "======== Processing bronze_olist_orders_2017_02.csv ......... \n",
      "\n",
      "loaded from: datamart/bronze/orders/bronze_olist_orders_2017_02.csv row count: 1780\n",
      "Dropped 47 orders with no items.\n",
      "All customer ids are valid — no need to drop!!\n",
      "No invalid status found!!\n",
      "-----> saved to: datamart/silver/orders/silver_olist_orders_2017_02.parquet\n",
      "root\n",
      " |-- order_id: string (nullable = true)\n",
      " |-- customer_id: string (nullable = true)\n",
      " |-- order_status: string (nullable = true)\n",
      " |-- order_purchase_timestamp: timestamp (nullable = true)\n",
      " |-- order_approved_at: timestamp (nullable = true)\n",
      " |-- order_delivered_carrier_date: timestamp (nullable = true)\n",
      " |-- order_delivered_customer_date: timestamp (nullable = true)\n",
      " |-- order_estimated_delivery_date: timestamp (nullable = true)\n",
      " |-- snapshot_date: string (nullable = true)\n",
      "\n",
      "\n",
      "======== Processing bronze_olist_orders_2017_03.csv ......... \n",
      "\n",
      "loaded from: datamart/bronze/orders/bronze_olist_orders_2017_03.csv row count: 2682\n",
      "Dropped 41 orders with no items.\n",
      "All customer ids are valid — no need to drop!!\n",
      "No invalid status found!!\n",
      "-----> saved to: datamart/silver/orders/silver_olist_orders_2017_03.parquet\n",
      "root\n",
      " |-- order_id: string (nullable = true)\n",
      " |-- customer_id: string (nullable = true)\n",
      " |-- order_status: string (nullable = true)\n",
      " |-- order_purchase_timestamp: timestamp (nullable = true)\n",
      " |-- order_approved_at: timestamp (nullable = true)\n",
      " |-- order_delivered_carrier_date: timestamp (nullable = true)\n",
      " |-- order_delivered_customer_date: timestamp (nullable = true)\n",
      " |-- order_estimated_delivery_date: timestamp (nullable = true)\n",
      " |-- snapshot_date: string (nullable = true)\n",
      "\n",
      "\n",
      "======== Processing bronze_olist_orders_2017_04.csv ......... \n",
      "\n",
      "loaded from: datamart/bronze/orders/bronze_olist_orders_2017_04.csv row count: 2404\n",
      "Dropped 13 orders with no items.\n",
      "All customer ids are valid — no need to drop!!\n",
      "No invalid status found!!\n",
      "-----> saved to: datamart/silver/orders/silver_olist_orders_2017_04.parquet\n",
      "root\n",
      " |-- order_id: string (nullable = true)\n",
      " |-- customer_id: string (nullable = true)\n",
      " |-- order_status: string (nullable = true)\n",
      " |-- order_purchase_timestamp: timestamp (nullable = true)\n",
      " |-- order_approved_at: timestamp (nullable = true)\n",
      " |-- order_delivered_carrier_date: timestamp (nullable = true)\n",
      " |-- order_delivered_customer_date: timestamp (nullable = true)\n",
      " |-- order_estimated_delivery_date: timestamp (nullable = true)\n",
      " |-- snapshot_date: string (nullable = true)\n",
      "\n",
      "\n",
      "======== Processing bronze_olist_orders_2017_05.csv ......... \n",
      "\n",
      "loaded from: datamart/bronze/orders/bronze_olist_orders_2017_05.csv row count: 3700\n",
      "Dropped 40 orders with no items.\n",
      "All customer ids are valid — no need to drop!!\n",
      "No invalid status found!!\n",
      "-----> saved to: datamart/silver/orders/silver_olist_orders_2017_05.parquet\n",
      "root\n",
      " |-- order_id: string (nullable = true)\n",
      " |-- customer_id: string (nullable = true)\n",
      " |-- order_status: string (nullable = true)\n",
      " |-- order_purchase_timestamp: timestamp (nullable = true)\n",
      " |-- order_approved_at: timestamp (nullable = true)\n",
      " |-- order_delivered_carrier_date: timestamp (nullable = true)\n",
      " |-- order_delivered_customer_date: timestamp (nullable = true)\n",
      " |-- order_estimated_delivery_date: timestamp (nullable = true)\n",
      " |-- snapshot_date: string (nullable = true)\n",
      "\n",
      "\n",
      "======== Processing bronze_olist_orders_2017_06.csv ......... \n",
      "\n",
      "loaded from: datamart/bronze/orders/bronze_olist_orders_2017_06.csv row count: 3245\n",
      "Dropped 28 orders with no items.\n",
      "All customer ids are valid — no need to drop!!\n",
      "No invalid status found!!\n",
      "-----> saved to: datamart/silver/orders/silver_olist_orders_2017_06.parquet\n",
      "root\n",
      " |-- order_id: string (nullable = true)\n",
      " |-- customer_id: string (nullable = true)\n",
      " |-- order_status: string (nullable = true)\n",
      " |-- order_purchase_timestamp: timestamp (nullable = true)\n",
      " |-- order_approved_at: timestamp (nullable = true)\n",
      " |-- order_delivered_carrier_date: timestamp (nullable = true)\n",
      " |-- order_delivered_customer_date: timestamp (nullable = true)\n",
      " |-- order_estimated_delivery_date: timestamp (nullable = true)\n",
      " |-- snapshot_date: string (nullable = true)\n",
      "\n",
      "\n",
      "======== Processing bronze_olist_orders_2017_07.csv ......... \n",
      "\n",
      "loaded from: datamart/bronze/orders/bronze_olist_orders_2017_07.csv row count: 4026\n",
      "Dropped 57 orders with no items.\n",
      "All customer ids are valid — no need to drop!!\n",
      "No invalid status found!!\n",
      "-----> saved to: datamart/silver/orders/silver_olist_orders_2017_07.parquet\n",
      "root\n",
      " |-- order_id: string (nullable = true)\n",
      " |-- customer_id: string (nullable = true)\n",
      " |-- order_status: string (nullable = true)\n",
      " |-- order_purchase_timestamp: timestamp (nullable = true)\n",
      " |-- order_approved_at: timestamp (nullable = true)\n",
      " |-- order_delivered_carrier_date: timestamp (nullable = true)\n",
      " |-- order_delivered_customer_date: timestamp (nullable = true)\n",
      " |-- order_estimated_delivery_date: timestamp (nullable = true)\n",
      " |-- snapshot_date: string (nullable = true)\n",
      "\n",
      "\n",
      "======== Processing bronze_olist_orders_2017_08.csv ......... \n",
      "\n",
      "loaded from: datamart/bronze/orders/bronze_olist_orders_2017_08.csv row count: 4331\n",
      "Dropped 38 orders with no items.\n",
      "All customer ids are valid — no need to drop!!\n",
      "No invalid status found!!\n",
      "-----> saved to: datamart/silver/orders/silver_olist_orders_2017_08.parquet\n",
      "root\n",
      " |-- order_id: string (nullable = true)\n",
      " |-- customer_id: string (nullable = true)\n",
      " |-- order_status: string (nullable = true)\n",
      " |-- order_purchase_timestamp: timestamp (nullable = true)\n",
      " |-- order_approved_at: timestamp (nullable = true)\n",
      " |-- order_delivered_carrier_date: timestamp (nullable = true)\n",
      " |-- order_delivered_customer_date: timestamp (nullable = true)\n",
      " |-- order_estimated_delivery_date: timestamp (nullable = true)\n",
      " |-- snapshot_date: string (nullable = true)\n",
      "\n",
      "\n",
      "======== Processing bronze_olist_orders_2017_09.csv ......... \n",
      "\n",
      "loaded from: datamart/bronze/orders/bronze_olist_orders_2017_09.csv row count: 4285\n",
      "Dropped 42 orders with no items.\n",
      "All customer ids are valid — no need to drop!!\n",
      "No invalid status found!!\n",
      "-----> saved to: datamart/silver/orders/silver_olist_orders_2017_09.parquet\n",
      "root\n",
      " |-- order_id: string (nullable = true)\n",
      " |-- customer_id: string (nullable = true)\n",
      " |-- order_status: string (nullable = true)\n",
      " |-- order_purchase_timestamp: timestamp (nullable = true)\n",
      " |-- order_approved_at: timestamp (nullable = true)\n",
      " |-- order_delivered_carrier_date: timestamp (nullable = true)\n",
      " |-- order_delivered_customer_date: timestamp (nullable = true)\n",
      " |-- order_estimated_delivery_date: timestamp (nullable = true)\n",
      " |-- snapshot_date: string (nullable = true)\n",
      "\n",
      "\n",
      "======== Processing bronze_olist_orders_2017_10.csv ......... \n",
      "\n",
      "loaded from: datamart/bronze/orders/bronze_olist_orders_2017_10.csv row count: 4631\n",
      "Dropped 63 orders with no items.\n",
      "All customer ids are valid — no need to drop!!\n",
      "No invalid status found!!\n",
      "-----> saved to: datamart/silver/orders/silver_olist_orders_2017_10.parquet\n",
      "root\n",
      " |-- order_id: string (nullable = true)\n",
      " |-- customer_id: string (nullable = true)\n",
      " |-- order_status: string (nullable = true)\n",
      " |-- order_purchase_timestamp: timestamp (nullable = true)\n",
      " |-- order_approved_at: timestamp (nullable = true)\n",
      " |-- order_delivered_carrier_date: timestamp (nullable = true)\n",
      " |-- order_delivered_customer_date: timestamp (nullable = true)\n",
      " |-- order_estimated_delivery_date: timestamp (nullable = true)\n",
      " |-- snapshot_date: string (nullable = true)\n",
      "\n",
      "\n",
      "======== Processing bronze_olist_orders_2017_11.csv ......... \n",
      "\n",
      "loaded from: datamart/bronze/orders/bronze_olist_orders_2017_11.csv row count: 7544\n",
      "Dropped 93 orders with no items.\n",
      "All customer ids are valid — no need to drop!!\n",
      "No invalid status found!!\n",
      "-----> saved to: datamart/silver/orders/silver_olist_orders_2017_11.parquet\n",
      "root\n",
      " |-- order_id: string (nullable = true)\n",
      " |-- customer_id: string (nullable = true)\n",
      " |-- order_status: string (nullable = true)\n",
      " |-- order_purchase_timestamp: timestamp (nullable = true)\n",
      " |-- order_approved_at: timestamp (nullable = true)\n",
      " |-- order_delivered_carrier_date: timestamp (nullable = true)\n",
      " |-- order_delivered_customer_date: timestamp (nullable = true)\n",
      " |-- order_estimated_delivery_date: timestamp (nullable = true)\n",
      " |-- snapshot_date: string (nullable = true)\n",
      "\n",
      "\n",
      "======== Processing bronze_olist_orders_2017_12.csv ......... \n",
      "\n",
      "loaded from: datamart/bronze/orders/bronze_olist_orders_2017_12.csv row count: 5673\n",
      "Dropped 49 orders with no items.\n",
      "All customer ids are valid — no need to drop!!\n",
      "No invalid status found!!\n",
      "-----> saved to: datamart/silver/orders/silver_olist_orders_2017_12.parquet\n",
      "root\n",
      " |-- order_id: string (nullable = true)\n",
      " |-- customer_id: string (nullable = true)\n",
      " |-- order_status: string (nullable = true)\n",
      " |-- order_purchase_timestamp: timestamp (nullable = true)\n",
      " |-- order_approved_at: timestamp (nullable = true)\n",
      " |-- order_delivered_carrier_date: timestamp (nullable = true)\n",
      " |-- order_delivered_customer_date: timestamp (nullable = true)\n",
      " |-- order_estimated_delivery_date: timestamp (nullable = true)\n",
      " |-- snapshot_date: string (nullable = true)\n",
      "\n",
      "\n",
      "======== Processing bronze_olist_orders_2018_01.csv ......... \n",
      "\n",
      "loaded from: datamart/bronze/orders/bronze_olist_orders_2018_01.csv row count: 7269\n",
      "Dropped 49 orders with no items.\n",
      "All customer ids are valid — no need to drop!!\n",
      "No invalid status found!!\n",
      "-----> saved to: datamart/silver/orders/silver_olist_orders_2018_01.parquet\n",
      "root\n",
      " |-- order_id: string (nullable = true)\n",
      " |-- customer_id: string (nullable = true)\n",
      " |-- order_status: string (nullable = true)\n",
      " |-- order_purchase_timestamp: timestamp (nullable = true)\n",
      " |-- order_approved_at: timestamp (nullable = true)\n",
      " |-- order_delivered_carrier_date: timestamp (nullable = true)\n",
      " |-- order_delivered_customer_date: timestamp (nullable = true)\n",
      " |-- order_estimated_delivery_date: timestamp (nullable = true)\n",
      " |-- snapshot_date: string (nullable = true)\n",
      "\n",
      "\n",
      "======== Processing bronze_olist_orders_2018_02.csv ......... \n",
      "\n",
      "loaded from: datamart/bronze/orders/bronze_olist_orders_2018_02.csv row count: 6728\n",
      "Dropped 34 orders with no items.\n",
      "All customer ids are valid — no need to drop!!\n",
      "No invalid status found!!\n",
      "-----> saved to: datamart/silver/orders/silver_olist_orders_2018_02.parquet\n",
      "root\n",
      " |-- order_id: string (nullable = true)\n",
      " |-- customer_id: string (nullable = true)\n",
      " |-- order_status: string (nullable = true)\n",
      " |-- order_purchase_timestamp: timestamp (nullable = true)\n",
      " |-- order_approved_at: timestamp (nullable = true)\n",
      " |-- order_delivered_carrier_date: timestamp (nullable = true)\n",
      " |-- order_delivered_customer_date: timestamp (nullable = true)\n",
      " |-- order_estimated_delivery_date: timestamp (nullable = true)\n",
      " |-- snapshot_date: string (nullable = true)\n",
      "\n",
      "\n",
      "======== Processing bronze_olist_orders_2018_03.csv ......... \n",
      "\n",
      "loaded from: datamart/bronze/orders/bronze_olist_orders_2018_03.csv row count: 7211\n",
      "Dropped 23 orders with no items.\n",
      "All customer ids are valid — no need to drop!!\n",
      "No invalid status found!!\n",
      "-----> saved to: datamart/silver/orders/silver_olist_orders_2018_03.parquet\n",
      "root\n",
      " |-- order_id: string (nullable = true)\n",
      " |-- customer_id: string (nullable = true)\n",
      " |-- order_status: string (nullable = true)\n",
      " |-- order_purchase_timestamp: timestamp (nullable = true)\n",
      " |-- order_approved_at: timestamp (nullable = true)\n",
      " |-- order_delivered_carrier_date: timestamp (nullable = true)\n",
      " |-- order_delivered_customer_date: timestamp (nullable = true)\n",
      " |-- order_estimated_delivery_date: timestamp (nullable = true)\n",
      " |-- snapshot_date: string (nullable = true)\n",
      "\n",
      "\n",
      "======== Processing bronze_olist_orders_2018_04.csv ......... \n",
      "\n",
      "loaded from: datamart/bronze/orders/bronze_olist_orders_2018_04.csv row count: 6939\n",
      "Dropped 5 orders with no items.\n",
      "All customer ids are valid — no need to drop!!\n",
      "No invalid status found!!\n",
      "-----> saved to: datamart/silver/orders/silver_olist_orders_2018_04.parquet\n",
      "root\n",
      " |-- order_id: string (nullable = true)\n",
      " |-- customer_id: string (nullable = true)\n",
      " |-- order_status: string (nullable = true)\n",
      " |-- order_purchase_timestamp: timestamp (nullable = true)\n",
      " |-- order_approved_at: timestamp (nullable = true)\n",
      " |-- order_delivered_carrier_date: timestamp (nullable = true)\n",
      " |-- order_delivered_customer_date: timestamp (nullable = true)\n",
      " |-- order_estimated_delivery_date: timestamp (nullable = true)\n",
      " |-- snapshot_date: string (nullable = true)\n",
      "\n",
      "\n",
      "======== Processing bronze_olist_orders_2018_05.csv ......... \n",
      "\n",
      "loaded from: datamart/bronze/orders/bronze_olist_orders_2018_05.csv row count: 6873\n",
      "Dropped 20 orders with no items.\n",
      "All customer ids are valid — no need to drop!!\n",
      "No invalid status found!!\n",
      "-----> saved to: datamart/silver/orders/silver_olist_orders_2018_05.parquet\n",
      "root\n",
      " |-- order_id: string (nullable = true)\n",
      " |-- customer_id: string (nullable = true)\n",
      " |-- order_status: string (nullable = true)\n",
      " |-- order_purchase_timestamp: timestamp (nullable = true)\n",
      " |-- order_approved_at: timestamp (nullable = true)\n",
      " |-- order_delivered_carrier_date: timestamp (nullable = true)\n",
      " |-- order_delivered_customer_date: timestamp (nullable = true)\n",
      " |-- order_estimated_delivery_date: timestamp (nullable = true)\n",
      " |-- snapshot_date: string (nullable = true)\n",
      "\n",
      "\n",
      "======== Processing bronze_olist_orders_2018_06.csv ......... \n",
      "\n",
      "loaded from: datamart/bronze/orders/bronze_olist_orders_2018_06.csv row count: 6167\n",
      "Dropped 7 orders with no items.\n",
      "All customer ids are valid — no need to drop!!\n",
      "No invalid status found!!\n",
      "-----> saved to: datamart/silver/orders/silver_olist_orders_2018_06.parquet\n",
      "root\n",
      " |-- order_id: string (nullable = true)\n",
      " |-- customer_id: string (nullable = true)\n",
      " |-- order_status: string (nullable = true)\n",
      " |-- order_purchase_timestamp: timestamp (nullable = true)\n",
      " |-- order_approved_at: timestamp (nullable = true)\n",
      " |-- order_delivered_carrier_date: timestamp (nullable = true)\n",
      " |-- order_delivered_customer_date: timestamp (nullable = true)\n",
      " |-- order_estimated_delivery_date: timestamp (nullable = true)\n",
      " |-- snapshot_date: string (nullable = true)\n",
      "\n",
      "\n",
      "======== Processing bronze_olist_orders_2018_07.csv ......... \n",
      "\n",
      "loaded from: datamart/bronze/orders/bronze_olist_orders_2018_07.csv row count: 6292\n",
      "Dropped 19 orders with no items.\n",
      "All customer ids are valid — no need to drop!!\n",
      "No invalid status found!!\n",
      "-----> saved to: datamart/silver/orders/silver_olist_orders_2018_07.parquet\n",
      "root\n",
      " |-- order_id: string (nullable = true)\n",
      " |-- customer_id: string (nullable = true)\n",
      " |-- order_status: string (nullable = true)\n",
      " |-- order_purchase_timestamp: timestamp (nullable = true)\n",
      " |-- order_approved_at: timestamp (nullable = true)\n",
      " |-- order_delivered_carrier_date: timestamp (nullable = true)\n",
      " |-- order_delivered_customer_date: timestamp (nullable = true)\n",
      " |-- order_estimated_delivery_date: timestamp (nullable = true)\n",
      " |-- snapshot_date: string (nullable = true)\n",
      "\n",
      "\n",
      "======== Processing bronze_olist_orders_2018_08.csv ......... \n",
      "\n",
      "loaded from: datamart/bronze/orders/bronze_olist_orders_2018_08.csv row count: 6512\n",
      "Dropped 60 orders with no items.\n",
      "All customer ids are valid — no need to drop!!\n",
      "No invalid status found!!\n",
      "-----> saved to: datamart/silver/orders/silver_olist_orders_2018_08.parquet\n",
      "root\n",
      " |-- order_id: string (nullable = true)\n",
      " |-- customer_id: string (nullable = true)\n",
      " |-- order_status: string (nullable = true)\n",
      " |-- order_purchase_timestamp: timestamp (nullable = true)\n",
      " |-- order_approved_at: timestamp (nullable = true)\n",
      " |-- order_delivered_carrier_date: timestamp (nullable = true)\n",
      " |-- order_delivered_customer_date: timestamp (nullable = true)\n",
      " |-- order_estimated_delivery_date: timestamp (nullable = true)\n",
      " |-- snapshot_date: string (nullable = true)\n",
      "\n",
      "\n",
      "======== Processing bronze_olist_orders_2018_09.csv ......... \n",
      "\n",
      "loaded from: datamart/bronze/orders/bronze_olist_orders_2018_09.csv row count: 16\n",
      "Dropped 15 orders with no items.\n",
      "All customer ids are valid — no need to drop!!\n",
      "No invalid status found!!\n",
      "-----> saved to: datamart/silver/orders/silver_olist_orders_2018_09.parquet\n",
      "root\n",
      " |-- order_id: string (nullable = true)\n",
      " |-- customer_id: string (nullable = true)\n",
      " |-- order_status: string (nullable = true)\n",
      " |-- order_purchase_timestamp: timestamp (nullable = true)\n",
      " |-- order_approved_at: timestamp (nullable = true)\n",
      " |-- order_delivered_carrier_date: timestamp (nullable = true)\n",
      " |-- order_delivered_customer_date: timestamp (nullable = true)\n",
      " |-- order_estimated_delivery_date: timestamp (nullable = true)\n",
      " |-- snapshot_date: string (nullable = true)\n",
      "\n",
      "\n",
      "======== Processing bronze_olist_orders_2018_10.csv ......... \n",
      "\n",
      "loaded from: datamart/bronze/orders/bronze_olist_orders_2018_10.csv row count: 4\n",
      "Dropped 4 orders with no items.\n",
      "All customer ids are valid — no need to drop!!\n",
      "No invalid status found!!\n"
     ]
    },
    {
     "name": "stderr",
     "output_type": "stream",
     "text": [
      "                                                                                "
     ]
    },
    {
     "name": "stdout",
     "output_type": "stream",
     "text": [
      "-----> saved to: datamart/silver/orders/silver_olist_orders_2018_10.parquet\n",
      "root\n",
      " |-- order_id: string (nullable = true)\n",
      " |-- customer_id: string (nullable = true)\n",
      " |-- order_status: string (nullable = true)\n",
      " |-- order_purchase_timestamp: timestamp (nullable = true)\n",
      " |-- order_approved_at: timestamp (nullable = true)\n",
      " |-- order_delivered_carrier_date: timestamp (nullable = true)\n",
      " |-- order_delivered_customer_date: timestamp (nullable = true)\n",
      " |-- order_estimated_delivery_date: timestamp (nullable = true)\n",
      " |-- snapshot_date: string (nullable = true)\n",
      "\n"
     ]
    }
   ],
   "source": [
    "# Run function manually to test\n",
    "\n",
    "# Set base directory\n",
    "bronze_orders_directory = \"datamart/bronze/orders/\"\n",
    "silver_orders_directory = \"datamart/silver/orders/\"\n",
    "\n",
    "# List all CSV files in the bronze orders folder\n",
    "csv_files = [f for f in os.listdir(bronze_orders_directory) if f.endswith(\".csv\")]\n",
    "\n",
    "# Sort the files according to date\n",
    "csv_files.sort()\n",
    "\n",
    "# Loop through each file \n",
    "for partition_name in csv_files:\n",
    "    print(f\"\\n======== Processing {partition_name} ......... \\n\")\n",
    "    df = process_silver_olist_orders(bronze_orders_directory, silver_orders_directory, spark, partition_name)\n",
    "    \n",
    "    # Check schema enforced\n",
    "    df.printSchema()\n"
   ]
  },
  {
   "cell_type": "markdown",
   "id": "3ff30d78-c8f6-4af9-bb89-57c326a8cb92",
   "metadata": {},
   "source": [
    "### Building Derived Table - Order logistics"
   ]
  },
  {
   "cell_type": "code",
   "execution_count": null,
   "id": "6b0d2287-aae6-410f-af54-4dd4f61863ce",
   "metadata": {},
   "outputs": [],
   "source": [
    "\n",
    "def build_order_features(spark, order_file_path):\n",
    "    # Read inputs\n",
    "    df_order_items = spark.read.parquet(\"datamart/silver/order_items/silver_olist_order_items.parquet\")\n",
    "    df_products = spark.read.parquet(\"datamart/silver/products/silver_olist_products.parquet\")\n",
    "    df_categories = spark.read.parquet(\"datamart/bronze/category_translation/bronze_product_category_translation.parquet\")\n",
    "    df_orders = spark.read.parquet(order_file_path)\n",
    "\n",
    "    order_metrics = df_order_items.groupBy(\"order_id\").agg(\n",
    "        F.max(\"order_item_id\").alias(\"total_qty\"),\n",
    "        F.sum(\"price\").alias(\"total_price\"),\n",
    "        F.sum(\"freight_value\").alias(\"total_freight_value\")\n",
    "    )\n",
    "\n",
    "    df_items_with_products = df_order_items.select(\"order_id\", \"product_id\") \\\n",
    "        .join(\n",
    "            df_products.select(\n",
    "                \"product_id\", \"product_weight_g\",\n",
    "                \"product_length_cm\", \"product_height_cm\", \"product_width_cm\"\n",
    "            ),\n",
    "            on=\"product_id\", how=\"left\"\n",
    "        )\n",
    "\n",
    "    df_items_with_products = df_items_with_products.withColumn(\n",
    "        \"product_volume_cm3\",\n",
    "        col(\"product_length_cm\") * col(\"product_height_cm\") * col(\"product_width_cm\")\n",
    "    )\n",
    "\n",
    "    product_metrics = df_items_with_products.groupBy(\"order_id\").agg(\n",
    "        F.sum(\"product_weight_g\").alias(\"total_weight_g\"),\n",
    "        F.sum(\"product_volume_cm3\").alias(\"total_volume_cm3\")\n",
    "    )\n",
    "\n",
    "    final_df = df_orders.select(\"order_id\", \"order_purchase_timestamp\") \\\n",
    "        .join(order_metrics, on=\"order_id\", how=\"inner\") \\\n",
    "        .join(product_metrics, on=\"order_id\", how=\"left\") \\\n",
    "        .withColumn(\n",
    "            \"total_density\",\n",
    "            when(col(\"total_volume_cm3\") != 0,\n",
    "                 col(\"total_weight_g\") / col(\"total_volume_cm3\")\n",
    "            ).otherwise(None)\n",
    "        )\n",
    "\n",
    "    df_items_with_cats = df_order_items.select(\"order_id\", \"product_id\") \\\n",
    "        .join(df_products.select(\"product_id\", \"product_category_name\"), on=\"product_id\", how=\"left\") \\\n",
    "        .join(df_categories.select(\"product_category_name\", \"main_category\", \"sub_category\"), on=\"product_category_name\", how=\"left\")\n",
    "\n",
    "    main_cat_counts = df_items_with_cats.groupBy(\"order_id\", \"main_category\") \\\n",
    "        .agg(count(\"*\").alias(\"main_cat_count\"))\n",
    "    main_cat_window = Window.partitionBy(\"order_id\").orderBy(col(\"main_cat_count\").desc())\n",
    "    most_common_main = main_cat_counts.withColumn(\n",
    "        \"rank\", row_number().over(main_cat_window)\n",
    "    ).filter(col(\"rank\") == 1).drop(\"rank\", \"main_cat_count\")\n",
    "\n",
    "    sub_cat_counts = df_items_with_cats.groupBy(\"order_id\", \"sub_category\") \\\n",
    "        .agg(count(\"*\").alias(\"sub_cat_count\"))\n",
    "    sub_cat_window = Window.partitionBy(\"order_id\").orderBy(col(\"sub_cat_count\").desc())\n",
    "    most_common_sub = sub_cat_counts.withColumn(\n",
    "        \"rank\", row_number().over(sub_cat_window)\n",
    "    ).filter(col(\"rank\") == 1).drop(\"rank\", \"sub_cat_count\")\n",
    "\n",
    "    order_categories = most_common_main.join(most_common_sub, on=\"order_id\", how=\"outer\")\n",
    "    final_df_with_cats = final_df.join(order_categories, on=\"order_id\", how=\"left\")\n",
    "\n",
    "    return final_df_with_cats\n"
   ]
  },
  {
   "cell_type": "code",
   "execution_count": null,
   "id": "495cb5de-be1c-43ae-ac0b-e1ca0a5655b2",
   "metadata": {},
   "outputs": [
    {
     "name": "stdout",
     "output_type": "stream",
     "text": [
      "\n",
      "[1/25]  Processing 2016_09 (silver_olist_orders_2016_09.parquet)...\n",
      " Failed on 2016_09: [UNRESOLVED_COLUMN.WITH_SUGGESTION] A column or function parameter with name `main_category` cannot be resolved. Did you mean one of the following? [`product_category_name`, `product_category_name_english`].;\n",
      "'Project [product_category_name#8333, 'main_category, 'sub_category]\n",
      "+- Relation [product_category_name#8333,product_category_name_english#8334] parquet\n",
      "\n",
      "\n",
      "[2/25]  Processing 2016_10 (silver_olist_orders_2016_10.parquet)...\n",
      " Failed on 2016_10: [UNRESOLVED_COLUMN.WITH_SUGGESTION] A column or function parameter with name `main_category` cannot be resolved. Did you mean one of the following? [`product_category_name`, `product_category_name_english`].;\n",
      "'Project [product_category_name#8481, 'main_category, 'sub_category]\n",
      "+- Relation [product_category_name#8481,product_category_name_english#8482] parquet\n",
      "\n",
      "\n",
      "[3/25]  Processing 2016_12 (silver_olist_orders_2016_12.parquet)...\n",
      " Failed on 2016_12: [UNRESOLVED_COLUMN.WITH_SUGGESTION] A column or function parameter with name `main_category` cannot be resolved. Did you mean one of the following? [`product_category_name`, `product_category_name_english`].;\n",
      "'Project [product_category_name#8629, 'main_category, 'sub_category]\n",
      "+- Relation [product_category_name#8629,product_category_name_english#8630] parquet\n",
      "\n",
      "\n",
      "[4/25]  Processing 2017_01 (silver_olist_orders_2017_01.parquet)...\n",
      " Failed on 2017_01: [UNRESOLVED_COLUMN.WITH_SUGGESTION] A column or function parameter with name `main_category` cannot be resolved. Did you mean one of the following? [`product_category_name`, `product_category_name_english`].;\n",
      "'Project [product_category_name#8777, 'main_category, 'sub_category]\n",
      "+- Relation [product_category_name#8777,product_category_name_english#8778] parquet\n",
      "\n",
      "\n",
      "[5/25]  Processing 2017_02 (silver_olist_orders_2017_02.parquet)...\n",
      " Failed on 2017_02: [UNRESOLVED_COLUMN.WITH_SUGGESTION] A column or function parameter with name `main_category` cannot be resolved. Did you mean one of the following? [`product_category_name`, `product_category_name_english`].;\n",
      "'Project [product_category_name#8925, 'main_category, 'sub_category]\n",
      "+- Relation [product_category_name#8925,product_category_name_english#8926] parquet\n",
      "\n",
      "\n",
      "[6/25]  Processing 2017_03 (silver_olist_orders_2017_03.parquet)...\n",
      " Failed on 2017_03: [UNRESOLVED_COLUMN.WITH_SUGGESTION] A column or function parameter with name `main_category` cannot be resolved. Did you mean one of the following? [`product_category_name`, `product_category_name_english`].;\n",
      "'Project [product_category_name#9073, 'main_category, 'sub_category]\n",
      "+- Relation [product_category_name#9073,product_category_name_english#9074] parquet\n",
      "\n",
      "\n",
      "[7/25]  Processing 2017_04 (silver_olist_orders_2017_04.parquet)...\n",
      " Failed on 2017_04: [UNRESOLVED_COLUMN.WITH_SUGGESTION] A column or function parameter with name `main_category` cannot be resolved. Did you mean one of the following? [`product_category_name`, `product_category_name_english`].;\n",
      "'Project [product_category_name#9221, 'main_category, 'sub_category]\n",
      "+- Relation [product_category_name#9221,product_category_name_english#9222] parquet\n",
      "\n",
      "\n",
      "[8/25]  Processing 2017_05 (silver_olist_orders_2017_05.parquet)...\n",
      " Failed on 2017_05: [UNRESOLVED_COLUMN.WITH_SUGGESTION] A column or function parameter with name `main_category` cannot be resolved. Did you mean one of the following? [`product_category_name`, `product_category_name_english`].;\n",
      "'Project [product_category_name#9369, 'main_category, 'sub_category]\n",
      "+- Relation [product_category_name#9369,product_category_name_english#9370] parquet\n",
      "\n",
      "\n",
      "[9/25]  Processing 2017_06 (silver_olist_orders_2017_06.parquet)...\n",
      " Failed on 2017_06: [UNRESOLVED_COLUMN.WITH_SUGGESTION] A column or function parameter with name `main_category` cannot be resolved. Did you mean one of the following? [`product_category_name`, `product_category_name_english`].;\n",
      "'Project [product_category_name#9517, 'main_category, 'sub_category]\n",
      "+- Relation [product_category_name#9517,product_category_name_english#9518] parquet\n",
      "\n",
      "\n",
      "[10/25]  Processing 2017_07 (silver_olist_orders_2017_07.parquet)...\n",
      " Failed on 2017_07: [UNRESOLVED_COLUMN.WITH_SUGGESTION] A column or function parameter with name `main_category` cannot be resolved. Did you mean one of the following? [`product_category_name`, `product_category_name_english`].;\n",
      "'Project [product_category_name#9665, 'main_category, 'sub_category]\n",
      "+- Relation [product_category_name#9665,product_category_name_english#9666] parquet\n",
      "\n",
      "\n",
      "[11/25]  Processing 2017_08 (silver_olist_orders_2017_08.parquet)...\n",
      " Failed on 2017_08: [UNRESOLVED_COLUMN.WITH_SUGGESTION] A column or function parameter with name `main_category` cannot be resolved. Did you mean one of the following? [`product_category_name`, `product_category_name_english`].;\n",
      "'Project [product_category_name#9813, 'main_category, 'sub_category]\n",
      "+- Relation [product_category_name#9813,product_category_name_english#9814] parquet\n",
      "\n",
      "\n",
      "[12/25]  Processing 2017_09 (silver_olist_orders_2017_09.parquet)...\n",
      " Failed on 2017_09: [UNRESOLVED_COLUMN.WITH_SUGGESTION] A column or function parameter with name `main_category` cannot be resolved. Did you mean one of the following? [`product_category_name`, `product_category_name_english`].;\n",
      "'Project [product_category_name#9961, 'main_category, 'sub_category]\n",
      "+- Relation [product_category_name#9961,product_category_name_english#9962] parquet\n",
      "\n",
      "\n",
      "[13/25]  Processing 2017_10 (silver_olist_orders_2017_10.parquet)...\n",
      " Failed on 2017_10: [UNRESOLVED_COLUMN.WITH_SUGGESTION] A column or function parameter with name `main_category` cannot be resolved. Did you mean one of the following? [`product_category_name`, `product_category_name_english`].;\n",
      "'Project [product_category_name#10109, 'main_category, 'sub_category]\n",
      "+- Relation [product_category_name#10109,product_category_name_english#10110] parquet\n",
      "\n",
      "\n",
      "[14/25]  Processing 2017_11 (silver_olist_orders_2017_11.parquet)...\n",
      " Failed on 2017_11: [UNRESOLVED_COLUMN.WITH_SUGGESTION] A column or function parameter with name `main_category` cannot be resolved. Did you mean one of the following? [`product_category_name`, `product_category_name_english`].;\n",
      "'Project [product_category_name#10257, 'main_category, 'sub_category]\n",
      "+- Relation [product_category_name#10257,product_category_name_english#10258] parquet\n",
      "\n",
      "\n",
      "[15/25]  Processing 2017_12 (silver_olist_orders_2017_12.parquet)...\n",
      " Failed on 2017_12: [UNRESOLVED_COLUMN.WITH_SUGGESTION] A column or function parameter with name `main_category` cannot be resolved. Did you mean one of the following? [`product_category_name`, `product_category_name_english`].;\n",
      "'Project [product_category_name#10405, 'main_category, 'sub_category]\n",
      "+- Relation [product_category_name#10405,product_category_name_english#10406] parquet\n",
      "\n",
      "\n",
      "[16/25]  Processing 2018_01 (silver_olist_orders_2018_01.parquet)...\n",
      " Failed on 2018_01: [UNRESOLVED_COLUMN.WITH_SUGGESTION] A column or function parameter with name `main_category` cannot be resolved. Did you mean one of the following? [`product_category_name`, `product_category_name_english`].;\n",
      "'Project [product_category_name#10553, 'main_category, 'sub_category]\n",
      "+- Relation [product_category_name#10553,product_category_name_english#10554] parquet\n",
      "\n",
      "\n",
      "[17/25]  Processing 2018_02 (silver_olist_orders_2018_02.parquet)...\n",
      " Failed on 2018_02: [UNRESOLVED_COLUMN.WITH_SUGGESTION] A column or function parameter with name `main_category` cannot be resolved. Did you mean one of the following? [`product_category_name`, `product_category_name_english`].;\n",
      "'Project [product_category_name#10701, 'main_category, 'sub_category]\n",
      "+- Relation [product_category_name#10701,product_category_name_english#10702] parquet\n",
      "\n",
      "\n",
      "[18/25]  Processing 2018_03 (silver_olist_orders_2018_03.parquet)...\n",
      " Failed on 2018_03: [UNRESOLVED_COLUMN.WITH_SUGGESTION] A column or function parameter with name `main_category` cannot be resolved. Did you mean one of the following? [`product_category_name`, `product_category_name_english`].;\n",
      "'Project [product_category_name#10849, 'main_category, 'sub_category]\n",
      "+- Relation [product_category_name#10849,product_category_name_english#10850] parquet\n",
      "\n",
      "\n",
      "[19/25]  Processing 2018_04 (silver_olist_orders_2018_04.parquet)...\n",
      " Failed on 2018_04: [UNRESOLVED_COLUMN.WITH_SUGGESTION] A column or function parameter with name `main_category` cannot be resolved. Did you mean one of the following? [`product_category_name`, `product_category_name_english`].;\n",
      "'Project [product_category_name#10997, 'main_category, 'sub_category]\n",
      "+- Relation [product_category_name#10997,product_category_name_english#10998] parquet\n",
      "\n",
      "\n",
      "[20/25]  Processing 2018_05 (silver_olist_orders_2018_05.parquet)...\n",
      " Failed on 2018_05: [UNRESOLVED_COLUMN.WITH_SUGGESTION] A column or function parameter with name `main_category` cannot be resolved. Did you mean one of the following? [`product_category_name`, `product_category_name_english`].;\n",
      "'Project [product_category_name#11145, 'main_category, 'sub_category]\n",
      "+- Relation [product_category_name#11145,product_category_name_english#11146] parquet\n",
      "\n",
      "\n",
      "[21/25]  Processing 2018_06 (silver_olist_orders_2018_06.parquet)...\n",
      " Failed on 2018_06: [UNRESOLVED_COLUMN.WITH_SUGGESTION] A column or function parameter with name `main_category` cannot be resolved. Did you mean one of the following? [`product_category_name`, `product_category_name_english`].;\n",
      "'Project [product_category_name#11293, 'main_category, 'sub_category]\n",
      "+- Relation [product_category_name#11293,product_category_name_english#11294] parquet\n",
      "\n",
      "\n",
      "[22/25]  Processing 2018_07 (silver_olist_orders_2018_07.parquet)...\n",
      " Failed on 2018_07: [UNRESOLVED_COLUMN.WITH_SUGGESTION] A column or function parameter with name `main_category` cannot be resolved. Did you mean one of the following? [`product_category_name`, `product_category_name_english`].;\n",
      "'Project [product_category_name#11441, 'main_category, 'sub_category]\n",
      "+- Relation [product_category_name#11441,product_category_name_english#11442] parquet\n",
      "\n",
      "\n",
      "[23/25]  Processing 2018_08 (silver_olist_orders_2018_08.parquet)...\n",
      " Failed on 2018_08: [UNRESOLVED_COLUMN.WITH_SUGGESTION] A column or function parameter with name `main_category` cannot be resolved. Did you mean one of the following? [`product_category_name`, `product_category_name_english`].;\n",
      "'Project [product_category_name#11589, 'main_category, 'sub_category]\n",
      "+- Relation [product_category_name#11589,product_category_name_english#11590] parquet\n",
      "\n",
      "\n",
      "[24/25]  Processing 2018_09 (silver_olist_orders_2018_09.parquet)...\n",
      " Failed on 2018_09: [UNRESOLVED_COLUMN.WITH_SUGGESTION] A column or function parameter with name `main_category` cannot be resolved. Did you mean one of the following? [`product_category_name`, `product_category_name_english`].;\n",
      "'Project [product_category_name#11737, 'main_category, 'sub_category]\n",
      "+- Relation [product_category_name#11737,product_category_name_english#11738] parquet\n",
      "\n",
      "\n",
      "[25/25]  Processing 2018_10 (silver_olist_orders_2018_10.parquet)...\n",
      " Failed on 2018_10: [UNRESOLVED_COLUMN.WITH_SUGGESTION] A column or function parameter with name `main_category` cannot be resolved. Did you mean one of the following? [`product_category_name`, `product_category_name_english`].;\n",
      "'Project [product_category_name#11885, 'main_category, 'sub_category]\n",
      "+- Relation [product_category_name#11885,product_category_name_english#11886] parquet\n",
      "\n",
      "\n",
      "===== Processing Summary =====\n",
      " Successfully processed: 0 files\n",
      "\n",
      " Failed files: 25\n",
      "  - 2016_09: [UNRESOLVED_COLUMN.WITH_SUGGESTION] A column or function parameter with name `main_category` cannot be resolved. Did you mean one of the following? [`product_category_name`, `product_category_name_english`].;\n",
      "'Project [product_category_name#8333, 'main_category, 'sub_category]\n",
      "+- Relation [product_category_name#8333,product_category_name_english#8334] parquet\n",
      "\n",
      "  - 2016_10: [UNRESOLVED_COLUMN.WITH_SUGGESTION] A column or function parameter with name `main_category` cannot be resolved. Did you mean one of the following? [`product_category_name`, `product_category_name_english`].;\n",
      "'Project [product_category_name#8481, 'main_category, 'sub_category]\n",
      "+- Relation [product_category_name#8481,product_category_name_english#8482] parquet\n",
      "\n",
      "  - 2016_12: [UNRESOLVED_COLUMN.WITH_SUGGESTION] A column or function parameter with name `main_category` cannot be resolved. Did you mean one of the following? [`product_category_name`, `product_category_name_english`].;\n",
      "'Project [product_category_name#8629, 'main_category, 'sub_category]\n",
      "+- Relation [product_category_name#8629,product_category_name_english#8630] parquet\n",
      "\n",
      "  - 2017_01: [UNRESOLVED_COLUMN.WITH_SUGGESTION] A column or function parameter with name `main_category` cannot be resolved. Did you mean one of the following? [`product_category_name`, `product_category_name_english`].;\n",
      "'Project [product_category_name#8777, 'main_category, 'sub_category]\n",
      "+- Relation [product_category_name#8777,product_category_name_english#8778] parquet\n",
      "\n",
      "  - 2017_02: [UNRESOLVED_COLUMN.WITH_SUGGESTION] A column or function parameter with name `main_category` cannot be resolved. Did you mean one of the following? [`product_category_name`, `product_category_name_english`].;\n",
      "'Project [product_category_name#8925, 'main_category, 'sub_category]\n",
      "+- Relation [product_category_name#8925,product_category_name_english#8926] parquet\n",
      "\n",
      "  - 2017_03: [UNRESOLVED_COLUMN.WITH_SUGGESTION] A column or function parameter with name `main_category` cannot be resolved. Did you mean one of the following? [`product_category_name`, `product_category_name_english`].;\n",
      "'Project [product_category_name#9073, 'main_category, 'sub_category]\n",
      "+- Relation [product_category_name#9073,product_category_name_english#9074] parquet\n",
      "\n",
      "  - 2017_04: [UNRESOLVED_COLUMN.WITH_SUGGESTION] A column or function parameter with name `main_category` cannot be resolved. Did you mean one of the following? [`product_category_name`, `product_category_name_english`].;\n",
      "'Project [product_category_name#9221, 'main_category, 'sub_category]\n",
      "+- Relation [product_category_name#9221,product_category_name_english#9222] parquet\n",
      "\n",
      "  - 2017_05: [UNRESOLVED_COLUMN.WITH_SUGGESTION] A column or function parameter with name `main_category` cannot be resolved. Did you mean one of the following? [`product_category_name`, `product_category_name_english`].;\n",
      "'Project [product_category_name#9369, 'main_category, 'sub_category]\n",
      "+- Relation [product_category_name#9369,product_category_name_english#9370] parquet\n",
      "\n",
      "  - 2017_06: [UNRESOLVED_COLUMN.WITH_SUGGESTION] A column or function parameter with name `main_category` cannot be resolved. Did you mean one of the following? [`product_category_name`, `product_category_name_english`].;\n",
      "'Project [product_category_name#9517, 'main_category, 'sub_category]\n",
      "+- Relation [product_category_name#9517,product_category_name_english#9518] parquet\n",
      "\n",
      "  - 2017_07: [UNRESOLVED_COLUMN.WITH_SUGGESTION] A column or function parameter with name `main_category` cannot be resolved. Did you mean one of the following? [`product_category_name`, `product_category_name_english`].;\n",
      "'Project [product_category_name#9665, 'main_category, 'sub_category]\n",
      "+- Relation [product_category_name#9665,product_category_name_english#9666] parquet\n",
      "\n",
      "  - 2017_08: [UNRESOLVED_COLUMN.WITH_SUGGESTION] A column or function parameter with name `main_category` cannot be resolved. Did you mean one of the following? [`product_category_name`, `product_category_name_english`].;\n",
      "'Project [product_category_name#9813, 'main_category, 'sub_category]\n",
      "+- Relation [product_category_name#9813,product_category_name_english#9814] parquet\n",
      "\n",
      "  - 2017_09: [UNRESOLVED_COLUMN.WITH_SUGGESTION] A column or function parameter with name `main_category` cannot be resolved. Did you mean one of the following? [`product_category_name`, `product_category_name_english`].;\n",
      "'Project [product_category_name#9961, 'main_category, 'sub_category]\n",
      "+- Relation [product_category_name#9961,product_category_name_english#9962] parquet\n",
      "\n",
      "  - 2017_10: [UNRESOLVED_COLUMN.WITH_SUGGESTION] A column or function parameter with name `main_category` cannot be resolved. Did you mean one of the following? [`product_category_name`, `product_category_name_english`].;\n",
      "'Project [product_category_name#10109, 'main_category, 'sub_category]\n",
      "+- Relation [product_category_name#10109,product_category_name_english#10110] parquet\n",
      "\n",
      "  - 2017_11: [UNRESOLVED_COLUMN.WITH_SUGGESTION] A column or function parameter with name `main_category` cannot be resolved. Did you mean one of the following? [`product_category_name`, `product_category_name_english`].;\n",
      "'Project [product_category_name#10257, 'main_category, 'sub_category]\n",
      "+- Relation [product_category_name#10257,product_category_name_english#10258] parquet\n",
      "\n",
      "  - 2017_12: [UNRESOLVED_COLUMN.WITH_SUGGESTION] A column or function parameter with name `main_category` cannot be resolved. Did you mean one of the following? [`product_category_name`, `product_category_name_english`].;\n",
      "'Project [product_category_name#10405, 'main_category, 'sub_category]\n",
      "+- Relation [product_category_name#10405,product_category_name_english#10406] parquet\n",
      "\n",
      "  - 2018_01: [UNRESOLVED_COLUMN.WITH_SUGGESTION] A column or function parameter with name `main_category` cannot be resolved. Did you mean one of the following? [`product_category_name`, `product_category_name_english`].;\n",
      "'Project [product_category_name#10553, 'main_category, 'sub_category]\n",
      "+- Relation [product_category_name#10553,product_category_name_english#10554] parquet\n",
      "\n",
      "  - 2018_02: [UNRESOLVED_COLUMN.WITH_SUGGESTION] A column or function parameter with name `main_category` cannot be resolved. Did you mean one of the following? [`product_category_name`, `product_category_name_english`].;\n",
      "'Project [product_category_name#10701, 'main_category, 'sub_category]\n",
      "+- Relation [product_category_name#10701,product_category_name_english#10702] parquet\n",
      "\n",
      "  - 2018_03: [UNRESOLVED_COLUMN.WITH_SUGGESTION] A column or function parameter with name `main_category` cannot be resolved. Did you mean one of the following? [`product_category_name`, `product_category_name_english`].;\n",
      "'Project [product_category_name#10849, 'main_category, 'sub_category]\n",
      "+- Relation [product_category_name#10849,product_category_name_english#10850] parquet\n",
      "\n",
      "  - 2018_04: [UNRESOLVED_COLUMN.WITH_SUGGESTION] A column or function parameter with name `main_category` cannot be resolved. Did you mean one of the following? [`product_category_name`, `product_category_name_english`].;\n",
      "'Project [product_category_name#10997, 'main_category, 'sub_category]\n",
      "+- Relation [product_category_name#10997,product_category_name_english#10998] parquet\n",
      "\n",
      "  - 2018_05: [UNRESOLVED_COLUMN.WITH_SUGGESTION] A column or function parameter with name `main_category` cannot be resolved. Did you mean one of the following? [`product_category_name`, `product_category_name_english`].;\n",
      "'Project [product_category_name#11145, 'main_category, 'sub_category]\n",
      "+- Relation [product_category_name#11145,product_category_name_english#11146] parquet\n",
      "\n",
      "  - 2018_06: [UNRESOLVED_COLUMN.WITH_SUGGESTION] A column or function parameter with name `main_category` cannot be resolved. Did you mean one of the following? [`product_category_name`, `product_category_name_english`].;\n",
      "'Project [product_category_name#11293, 'main_category, 'sub_category]\n",
      "+- Relation [product_category_name#11293,product_category_name_english#11294] parquet\n",
      "\n",
      "  - 2018_07: [UNRESOLVED_COLUMN.WITH_SUGGESTION] A column or function parameter with name `main_category` cannot be resolved. Did you mean one of the following? [`product_category_name`, `product_category_name_english`].;\n",
      "'Project [product_category_name#11441, 'main_category, 'sub_category]\n",
      "+- Relation [product_category_name#11441,product_category_name_english#11442] parquet\n",
      "\n",
      "  - 2018_08: [UNRESOLVED_COLUMN.WITH_SUGGESTION] A column or function parameter with name `main_category` cannot be resolved. Did you mean one of the following? [`product_category_name`, `product_category_name_english`].;\n",
      "'Project [product_category_name#11589, 'main_category, 'sub_category]\n",
      "+- Relation [product_category_name#11589,product_category_name_english#11590] parquet\n",
      "\n",
      "  - 2018_09: [UNRESOLVED_COLUMN.WITH_SUGGESTION] A column or function parameter with name `main_category` cannot be resolved. Did you mean one of the following? [`product_category_name`, `product_category_name_english`].;\n",
      "'Project [product_category_name#11737, 'main_category, 'sub_category]\n",
      "+- Relation [product_category_name#11737,product_category_name_english#11738] parquet\n",
      "\n",
      "  - 2018_10: [UNRESOLVED_COLUMN.WITH_SUGGESTION] A column or function parameter with name `main_category` cannot be resolved. Did you mean one of the following? [`product_category_name`, `product_category_name_english`].;\n",
      "'Project [product_category_name#11885, 'main_category, 'sub_category]\n",
      "+- Relation [product_category_name#11885,product_category_name_english#11886] parquet\n",
      "\n"
     ]
    }
   ],
   "source": [
    "# Keep track of failures\n",
    "failed_files = []\n",
    "processed_files = []\n",
    "\n",
    "order_files = sorted(glob.glob(\"datamart/silver/orders/silver_olist_orders_*.parquet\"))\n",
    "\n",
    "# Create output directory if it doesn't exist\n",
    "os.makedirs(\"datamart/silver/order_logistics\", exist_ok=True)\n",
    "\n",
    "# Loop over files \n",
    "for idx, file_path in enumerate(order_files, 1):\n",
    "    \n",
    "    basename = os.path.basename(file_path)  \n",
    "    year_month = basename.replace(\"silver_olist_orders_\", \"\").replace(\".parquet\", \"\")\n",
    "\n",
    "    output_path = f\"datamart/silver/order_logistics/silver_olist_order_logistics_{year_month}.parquet\"\n",
    "    \n",
    "    print(f\"\\n[{idx}/{len(order_files)}]  Processing {year_month} ({basename})...\")\n",
    "\n",
    "    # Skip if already exists\n",
    "    if os.path.exists(output_path):\n",
    "        print(f\" Skipping {year_month} (already exists)\")\n",
    "        continue\n",
    "    \n",
    "    try:\n",
    "        start_time = time.time()\n",
    "\n",
    "        # Run feature engineering\n",
    "        final_df = build_order_features(spark, file_path)\n",
    "\n",
    "        # Save to parquet\n",
    "        final_df.write.mode(\"overwrite\").parquet(output_path)\n",
    "\n",
    "        # Verify row count\n",
    "        count = final_df.count()\n",
    "        duration = round(time.time() - start_time, 2)\n",
    "\n",
    "        print(f\"---> Saved: {output_path} → {count} rows in {duration}s\")\n",
    "\n",
    "        processed_files.append((year_month, count, duration))\n",
    "\n",
    "    except Exception as e:\n",
    "        print(f\" Failed on {year_month}: {e}\")\n",
    "        failed_files.append((year_month, str(e)))\n",
    "\n",
    "# Summary\n",
    "print(\"\\n===== Processing Summary =====\")\n",
    "print(f\" Successfully processed: {len(processed_files)} files\")\n",
    "for ym, count, duration in processed_files:\n",
    "    print(f\"  - {ym}: {count} rows in {duration}s\")\n",
    "\n",
    "if failed_files:\n",
    "    print(f\"\\n Failed files: {len(failed_files)}\")\n",
    "    for ym, err in failed_files:\n",
    "        print(f\"  - {ym}: {err}\")\n",
    "else:\n",
    "    print(\"\\n All files processed successfully\")\n"
   ]
  },
  {
   "cell_type": "code",
   "execution_count": null,
   "id": "a75e5a67-d51a-4246-93af-b2de935082ce",
   "metadata": {},
   "outputs": [
    {
     "ename": "AnalysisException",
     "evalue": "[PATH_NOT_FOUND] Path does not exist: file:/app/scripts/datamart/silver/order_logistics/silver_olist_order_logistics_2018_01.parquet.",
     "output_type": "error",
     "traceback": [
      "\u001b[31m---------------------------------------------------------------------------\u001b[39m",
      "\u001b[31mAnalysisException\u001b[39m                         Traceback (most recent call last)",
      "\u001b[36mCell\u001b[39m\u001b[36m \u001b[39m\u001b[32mIn[31]\u001b[39m\u001b[32m, line 2\u001b[39m\n\u001b[32m      1\u001b[39m \u001b[38;5;66;03m# Inspect some output\u001b[39;00m\n\u001b[32m----> \u001b[39m\u001b[32m2\u001b[39m df_orders_logistics = \u001b[43mspark\u001b[49m\u001b[43m.\u001b[49m\u001b[43mread\u001b[49m\u001b[43m.\u001b[49m\u001b[43mparquet\u001b[49m\u001b[43m(\u001b[49m\u001b[33;43m\"\u001b[39;49m\u001b[33;43mdatamart/silver/order_logistics/silver_olist_order_logistics_2018_01.parquet\u001b[39;49m\u001b[33;43m\"\u001b[39;49m\u001b[43m)\u001b[49m\n\u001b[32m      3\u001b[39m df_orders_logistics.show(\u001b[32m10\u001b[39m)\n",
      "\u001b[36mFile \u001b[39m\u001b[32m/usr/local/lib/python3.12/site-packages/pyspark/sql/readwriter.py:544\u001b[39m, in \u001b[36mDataFrameReader.parquet\u001b[39m\u001b[34m(self, *paths, **options)\u001b[39m\n\u001b[32m    533\u001b[39m int96RebaseMode = options.get(\u001b[33m\"\u001b[39m\u001b[33mint96RebaseMode\u001b[39m\u001b[33m\"\u001b[39m, \u001b[38;5;28;01mNone\u001b[39;00m)\n\u001b[32m    534\u001b[39m \u001b[38;5;28mself\u001b[39m._set_opts(\n\u001b[32m    535\u001b[39m     mergeSchema=mergeSchema,\n\u001b[32m    536\u001b[39m     pathGlobFilter=pathGlobFilter,\n\u001b[32m   (...)\u001b[39m\u001b[32m    541\u001b[39m     int96RebaseMode=int96RebaseMode,\n\u001b[32m    542\u001b[39m )\n\u001b[32m--> \u001b[39m\u001b[32m544\u001b[39m \u001b[38;5;28;01mreturn\u001b[39;00m \u001b[38;5;28mself\u001b[39m._df(\u001b[38;5;28;43mself\u001b[39;49m\u001b[43m.\u001b[49m\u001b[43m_jreader\u001b[49m\u001b[43m.\u001b[49m\u001b[43mparquet\u001b[49m\u001b[43m(\u001b[49m\u001b[43m_to_seq\u001b[49m\u001b[43m(\u001b[49m\u001b[38;5;28;43mself\u001b[39;49m\u001b[43m.\u001b[49m\u001b[43m_spark\u001b[49m\u001b[43m.\u001b[49m\u001b[43m_sc\u001b[49m\u001b[43m,\u001b[49m\u001b[43m \u001b[49m\u001b[43mpaths\u001b[49m\u001b[43m)\u001b[49m\u001b[43m)\u001b[49m)\n",
      "\u001b[36mFile \u001b[39m\u001b[32m/usr/local/lib/python3.12/site-packages/py4j/java_gateway.py:1322\u001b[39m, in \u001b[36mJavaMember.__call__\u001b[39m\u001b[34m(self, *args)\u001b[39m\n\u001b[32m   1316\u001b[39m command = proto.CALL_COMMAND_NAME +\\\n\u001b[32m   1317\u001b[39m     \u001b[38;5;28mself\u001b[39m.command_header +\\\n\u001b[32m   1318\u001b[39m     args_command +\\\n\u001b[32m   1319\u001b[39m     proto.END_COMMAND_PART\n\u001b[32m   1321\u001b[39m answer = \u001b[38;5;28mself\u001b[39m.gateway_client.send_command(command)\n\u001b[32m-> \u001b[39m\u001b[32m1322\u001b[39m return_value = \u001b[43mget_return_value\u001b[49m\u001b[43m(\u001b[49m\n\u001b[32m   1323\u001b[39m \u001b[43m    \u001b[49m\u001b[43manswer\u001b[49m\u001b[43m,\u001b[49m\u001b[43m \u001b[49m\u001b[38;5;28;43mself\u001b[39;49m\u001b[43m.\u001b[49m\u001b[43mgateway_client\u001b[49m\u001b[43m,\u001b[49m\u001b[43m \u001b[49m\u001b[38;5;28;43mself\u001b[39;49m\u001b[43m.\u001b[49m\u001b[43mtarget_id\u001b[49m\u001b[43m,\u001b[49m\u001b[43m \u001b[49m\u001b[38;5;28;43mself\u001b[39;49m\u001b[43m.\u001b[49m\u001b[43mname\u001b[49m\u001b[43m)\u001b[49m\n\u001b[32m   1325\u001b[39m \u001b[38;5;28;01mfor\u001b[39;00m temp_arg \u001b[38;5;129;01min\u001b[39;00m temp_args:\n\u001b[32m   1326\u001b[39m     \u001b[38;5;28;01mif\u001b[39;00m \u001b[38;5;28mhasattr\u001b[39m(temp_arg, \u001b[33m\"\u001b[39m\u001b[33m_detach\u001b[39m\u001b[33m\"\u001b[39m):\n",
      "\u001b[36mFile \u001b[39m\u001b[32m/usr/local/lib/python3.12/site-packages/pyspark/errors/exceptions/captured.py:185\u001b[39m, in \u001b[36mcapture_sql_exception.<locals>.deco\u001b[39m\u001b[34m(*a, **kw)\u001b[39m\n\u001b[32m    181\u001b[39m converted = convert_exception(e.java_exception)\n\u001b[32m    182\u001b[39m \u001b[38;5;28;01mif\u001b[39;00m \u001b[38;5;129;01mnot\u001b[39;00m \u001b[38;5;28misinstance\u001b[39m(converted, UnknownException):\n\u001b[32m    183\u001b[39m     \u001b[38;5;66;03m# Hide where the exception came from that shows a non-Pythonic\u001b[39;00m\n\u001b[32m    184\u001b[39m     \u001b[38;5;66;03m# JVM exception message.\u001b[39;00m\n\u001b[32m--> \u001b[39m\u001b[32m185\u001b[39m     \u001b[38;5;28;01mraise\u001b[39;00m converted \u001b[38;5;28;01mfrom\u001b[39;00m\u001b[38;5;250m \u001b[39m\u001b[38;5;28;01mNone\u001b[39;00m\n\u001b[32m    186\u001b[39m \u001b[38;5;28;01melse\u001b[39;00m:\n\u001b[32m    187\u001b[39m     \u001b[38;5;28;01mraise\u001b[39;00m\n",
      "\u001b[31mAnalysisException\u001b[39m: [PATH_NOT_FOUND] Path does not exist: file:/app/scripts/datamart/silver/order_logistics/silver_olist_order_logistics_2018_01.parquet."
     ]
    }
   ],
   "source": [
    "# Inspect some output\n",
    "df_orders_logistics = spark.read.parquet(\"datamart/silver/order_logistics/silver_olist_order_logistics_2018_01.parquet\")\n",
    "df_orders_logistics.show(10)"
   ]
  },
  {
   "cell_type": "markdown",
   "id": "76752735-5f9b-42f2-8950-e1283efabee0",
   "metadata": {},
   "source": [
    "## Build Gold Table (Features)"
   ]
  },
  {
   "cell_type": "code",
   "execution_count": null,
   "id": "f3dbd83b-5dce-4f7a-ab09-da58e6569a30",
   "metadata": {},
   "outputs": [],
   "source": [
    "# snapshot_date_str = \"2023-01-01\"\n",
    "\n",
    "# start_date_str = \"2023-01-01\"\n",
    "# end_date_str = \"2024-12-01\""
   ]
  },
  {
   "cell_type": "code",
   "execution_count": null,
   "id": "574520c3",
   "metadata": {},
   "outputs": [
    {
     "name": "stdout",
     "output_type": "stream",
     "text": [
      "Gold root directory: datamart/gold\n"
     ]
    }
   ],
   "source": [
    "gold_root = \"datamart/gold\"\n",
    "os.makedirs(gold_root, exist_ok=True)\n",
    "print(f\"Gold root directory: {gold_root}\")\n",
    "\n",
    "gold_feature_directory = \"datamart/gold/feature_store/\"\n",
    "if not os.path.exists(gold_feature_directory):\n",
    "    os.makedirs(gold_feature_directory)"
   ]
  },
  {
   "cell_type": "code",
   "execution_count": null,
   "id": "fb9cb3e0-1fe4-48f0-9a46-0f300154ff8c",
   "metadata": {},
   "outputs": [
    {
     "name": "stderr",
     "output_type": "stream",
     "text": [
      "                                                                                "
     ]
    },
    {
     "name": "stdout",
     "output_type": "stream",
     "text": [
      "saved to: datamart/gold/gold_feature_store_2016_09_05.parquet\n",
      "Feature gold table processing completed for snapshot date: 2016-09-05\n"
     ]
    }
   ],
   "source": [
    "silver_directory = \"datamart/silver\"\n",
    "gold_directory = \"datamart/gold\"\n",
    "\n",
    "def read_silver_table(table, silver_db, spark):\n",
    "    \"\"\"\n",
    "    Helper function to read all partitions of a silver table\n",
    "    \"\"\"\n",
    "    folder_path = os.path.join(silver_db, table)\n",
    "    files_list = [os.path.join(folder_path, os.path.basename(f)) for f in glob.glob(os.path.join(folder_path, '*'))]\n",
    "    df = spark.read.option(\"header\", \"true\").parquet(*files_list)\n",
    "    return df\n",
    "\n",
    "# cust_df = read_silver_table('customers', silver_directory, spark)\n",
    "# geo_df = read_silver_table('geolocation', silver_directory, spark)\n",
    "# items_df = read_silver_table('order_items', silver_directory, spark)\n",
    "# # to be changed\n",
    "# logistic_df = read_silver_table('order_items', silver_directory, spark)\n",
    "# prod_df = read_silver_table('products', silver_directory, spark)\n",
    "# sellers_df = read_silver_table('sellers', silver_directory, spark)\n",
    "orders_df = read_silver_table('orders', silver_directory, spark)\n",
    "\n",
    "# print(f\"Snapshot date for this run: {snapshot_date_str}\")\n",
    "snapshot_date_str = \"2016-09-05\"\n",
    "\n",
    "gold_processing_feature.process_feature_gold_table(snapshot_date_str, silver_directory, gold_directory, orders_df, spark)\n",
    "\n",
    "# gold_processing_feature.process_feature_gold_table(snapshot_date_str, silver_directory, gold_directory, \n",
    "#                           cust_df, geo_df, items_df, logistic_df, orders_df, prod_df, sellers_df, spark)"
   ]
  },
  {
   "cell_type": "code",
   "execution_count": null,
   "id": "1a790b36",
   "metadata": {},
   "outputs": [],
   "source": [
    "# silver_directory = \"datamart/silver\"\n",
    "# gold_directory = \"datamart/gold/features\"\n",
    "\n",
    "# cust_path = silver_directory + \"/customers/silver_olist_customers.parquet\"\n",
    "# geo_path = silver_directory + \"/geolocation/silver_olist_geolocation.parquet\"\n",
    "# items_path = silver_directory + \"/items/silver_olist_order_items.parquet\"\n",
    "# logistics_path = silver_directory + \"/logistics/silver_olist_order_payments.parquet\"\n",
    "# products_path = silver_directory + \"/products/silver_olist_products.parquet\"\n",
    "# sellers_path = silver_directory + \"/sellers/silver_olist_sellers.parquet\"\n",
    "\n",
    "# gold_processing_feature.process_feature_gold_table(snapshot_date_str, silver_directory, gold_directory, \n",
    "#                           cust_path, geo_path, items_path, logistics_path,\n",
    "#                           products_path, sellers_path, spark)"
   ]
  },
  {
   "cell_type": "code",
   "execution_count": null,
   "id": "69c38ffd",
   "metadata": {},
   "outputs": [
    {
     "name": "stdout",
     "output_type": "stream",
     "text": [
      "+--------------------+------------------------+\n",
      "|         customer_id|order_purchase_timestamp|\n",
      "+--------------------+------------------------+\n",
      "|683c54fc24d40ee9f...|              2016-09-05|\n",
      "+--------------------+------------------------+\n",
      "\n"
     ]
    }
   ],
   "source": [
    "df_silver = spark.read.parquet(\"datamart/gold/gold_feature_store_2016_09_05.parquet\")\n",
    "df_silver.show(5)"
   ]
  },
  {
   "cell_type": "markdown",
   "id": "c818d8e7-a22a-40ab-abdf-ace25c516543",
   "metadata": {},
   "source": [
    "## Inspect Feature Store"
   ]
  },
  {
   "cell_type": "code",
   "execution_count": null,
   "id": "39a7d963-2611-4896-be4a-7fbbd641f4ab",
   "metadata": {},
   "outputs": [],
   "source": []
  },
  {
   "cell_type": "markdown",
   "id": "fa5a6b17-8978-405a-8b04-6c6f4c7a3e52",
   "metadata": {
    "jp-MarkdownHeadingCollapsed": true
   },
   "source": [
    "## Build Gold Table (Label)"
   ]
  },
  {
   "cell_type": "code",
   "execution_count": null,
   "id": "38cdcd2b",
   "metadata": {},
   "outputs": [],
   "source": [
    "# Create gold datalake\n",
    "silver_directory = \"datamart/silver\"\n",
    "gold_directory = \"datamart/gold\""
   ]
  },
  {
   "cell_type": "code",
   "execution_count": null,
   "id": "a988a149",
   "metadata": {},
   "outputs": [
    {
     "name": "stdout",
     "output_type": "stream",
     "text": [
      "Building label store...\n"
     ]
    },
    {
     "name": "stderr",
     "output_type": "stream",
     "text": [
      "Saving labels: 100%|██████████| 1/1 [00:00<00:00,  6.13it/s]\n"
     ]
    },
    {
     "name": "stdout",
     "output_type": "stream",
     "text": [
      "Label store Completed\n",
      "Number of rows in label store: 96478\n"
     ]
    }
   ],
   "source": [
    "partitions_list = ['2017-10-04']\n",
    "y= gold_label_processing.process_gold_label(silver_directory, gold_directory, partitions_list, spark)\n",
    "orders = y.toPandas()\n",
    "\n",
    "print(f\"Number of rows in label store: {orders.shape[0]}\")\n",
    "#orders.groupby('snapshot_date').size()"
   ]
  },
  {
   "cell_type": "code",
   "execution_count": null,
   "id": "09bdb07e",
   "metadata": {},
   "outputs": [
    {
     "data": {
      "text/html": [
       "<div>\n",
       "<style scoped>\n",
       "    .dataframe tbody tr th:only-of-type {\n",
       "        vertical-align: middle;\n",
       "    }\n",
       "\n",
       "    .dataframe tbody tr th {\n",
       "        vertical-align: top;\n",
       "    }\n",
       "\n",
       "    .dataframe thead th {\n",
       "        text-align: right;\n",
       "    }\n",
       "</style>\n",
       "<table border=\"1\" class=\"dataframe\">\n",
       "  <thead>\n",
       "    <tr style=\"text-align: right;\">\n",
       "      <th></th>\n",
       "      <th>order_id</th>\n",
       "      <th>miss_delivery_sla</th>\n",
       "      <th>snapshot_date</th>\n",
       "    </tr>\n",
       "  </thead>\n",
       "  <tbody>\n",
       "    <tr>\n",
       "      <th>0</th>\n",
       "      <td>95bfa2a85ef50d3192609d8f29b92cf9</td>\n",
       "      <td>0</td>\n",
       "      <td>2017-10-04</td>\n",
       "    </tr>\n",
       "    <tr>\n",
       "      <th>1</th>\n",
       "      <td>c3fd670b03599718895218d479f660b6</td>\n",
       "      <td>1</td>\n",
       "      <td>2017-10-04</td>\n",
       "    </tr>\n",
       "    <tr>\n",
       "      <th>2</th>\n",
       "      <td>b6c70f4b37438a78c820423809997c20</td>\n",
       "      <td>1</td>\n",
       "      <td>2017-10-04</td>\n",
       "    </tr>\n",
       "    <tr>\n",
       "      <th>3</th>\n",
       "      <td>ab53b19e9f59776c6556ebf49e85a52c</td>\n",
       "      <td>0</td>\n",
       "      <td>2017-10-04</td>\n",
       "    </tr>\n",
       "    <tr>\n",
       "      <th>4</th>\n",
       "      <td>9913ce9487d390ef37cd3b6cc3883f0e</td>\n",
       "      <td>1</td>\n",
       "      <td>2017-10-04</td>\n",
       "    </tr>\n",
       "    <tr>\n",
       "      <th>...</th>\n",
       "      <td>...</td>\n",
       "      <td>...</td>\n",
       "      <td>...</td>\n",
       "    </tr>\n",
       "    <tr>\n",
       "      <th>151</th>\n",
       "      <td>d36b13fdc087b62c490a9db5c0e0a913</td>\n",
       "      <td>0</td>\n",
       "      <td>2017-10-04</td>\n",
       "    </tr>\n",
       "    <tr>\n",
       "      <th>152</th>\n",
       "      <td>d4304f4104fca54e2a93b03e5b04962b</td>\n",
       "      <td>0</td>\n",
       "      <td>2017-10-04</td>\n",
       "    </tr>\n",
       "    <tr>\n",
       "      <th>153</th>\n",
       "      <td>d9e98b1f6961932f22bf340d0153bbad</td>\n",
       "      <td>0</td>\n",
       "      <td>2017-10-04</td>\n",
       "    </tr>\n",
       "    <tr>\n",
       "      <th>154</th>\n",
       "      <td>f495e955026183e7f6bbb3dac79b88e6</td>\n",
       "      <td>0</td>\n",
       "      <td>2017-10-04</td>\n",
       "    </tr>\n",
       "    <tr>\n",
       "      <th>155</th>\n",
       "      <td>f7059c86772ca15e9640e43be7c31fb1</td>\n",
       "      <td>0</td>\n",
       "      <td>2017-10-04</td>\n",
       "    </tr>\n",
       "  </tbody>\n",
       "</table>\n",
       "<p>156 rows × 3 columns</p>\n",
       "</div>"
      ],
      "text/plain": [
       "                             order_id  miss_delivery_sla snapshot_date\n",
       "0    95bfa2a85ef50d3192609d8f29b92cf9                  0    2017-10-04\n",
       "1    c3fd670b03599718895218d479f660b6                  1    2017-10-04\n",
       "2    b6c70f4b37438a78c820423809997c20                  1    2017-10-04\n",
       "3    ab53b19e9f59776c6556ebf49e85a52c                  0    2017-10-04\n",
       "4    9913ce9487d390ef37cd3b6cc3883f0e                  1    2017-10-04\n",
       "..                                ...                ...           ...\n",
       "151  d36b13fdc087b62c490a9db5c0e0a913                  0    2017-10-04\n",
       "152  d4304f4104fca54e2a93b03e5b04962b                  0    2017-10-04\n",
       "153  d9e98b1f6961932f22bf340d0153bbad                  0    2017-10-04\n",
       "154  f495e955026183e7f6bbb3dac79b88e6                  0    2017-10-04\n",
       "155  f7059c86772ca15e9640e43be7c31fb1                  0    2017-10-04\n",
       "\n",
       "[156 rows x 3 columns]"
      ]
     },
     "execution_count": 89,
     "metadata": {},
     "output_type": "execute_result"
    }
   ],
   "source": [
    "def read_silver_table(table, silver_directory, spark):\n",
    "    \"\"\"\n",
    "    Helper function to read all partitions of a silver table\n",
    "    \"\"\"\n",
    "    folder_path = os.path.join(silver_directory, table)\n",
    "    files_list = [os.path.join(folder_path, os.path.basename(f)) for f in glob.glob(os.path.join(folder_path, '*'))]\n",
    "    df = spark.read.option(\"header\", \"true\").parquet(*files_list)\n",
    "    return df\n",
    "\n",
    "gold_directory = \"datamart/gold\"\n",
    "order_df = read_silver_table('label_store', gold_directory, spark)\n",
    "order_df = order_df.toPandas()\n",
    "order_df"
   ]
  },
  {
   "cell_type": "code",
   "execution_count": null,
   "id": "b27ea7ad",
   "metadata": {},
   "outputs": [
    {
     "data": {
      "text/plain": [
       "Timestamp('2016-09-04 21:15:19')"
      ]
     },
     "execution_count": 58,
     "metadata": {},
     "output_type": "execute_result"
    }
   ],
   "source": [
    "order_df['order_purchase_timestamp'].min()\n",
    "#max_date = '2018-09-03'\n",
    "#min_date = '2016-09-04'\n"
   ]
  },
  {
   "cell_type": "code",
   "execution_count": null,
   "id": "f0c83a01",
   "metadata": {},
   "outputs": [],
   "source": [
    "def read_silver_table(table, silver_directory, spark):\n",
    "    \"\"\"\n",
    "    Helper function to read all partitions of a silver table\n",
    "    \"\"\"\n",
    "    folder_path = os.path.join(silver_directory, table)\n",
    "    files_list = [os.path.join(folder_path, os.path.basename(f)) for f in glob.glob(os.path.join(folder_path, '*'))]\n",
    "    df = spark.read.option(\"header\", \"true\").parquet(*files_list)\n",
    "    return df\n",
    "\n",
    "############################\n",
    "# Label Store\n",
    "############################\n",
    "def build_label_store(sla, df):\n",
    "    \"\"\"\n",
    "    Function to build label store\n",
    "    \"\"\"\n",
    "    ####################\n",
    "    # Create labels\n",
    "    ####################\n",
    "\n",
    "    # get customer at mob\n",
    "    df = df.filter(col(\"order_status\") == 'delivered')\n",
    "\n",
    "    # get label\n",
    "    df = df.withColumn(\"order_purchase_timestamp\", to_date(col(\"order_purchase_timestamp\")))\n",
    "    df = df.withColumn(\"snapshot_date\", col(\"order_purchase_timestamp\"))\n",
    "    df = df.withColumn(\"miss_delivery_sla\", when(col(\"order_delivered_customer_date\") > date_add(col(\"snapshot_date\"), sla), 1).otherwise(0))\n",
    "\n",
    "    # select columns to save\n",
    "    df = df.select(\"order_id\", \"miss_delivery_sla\", \"snapshot_date\")\n",
    "\n",
    "    return df\n",
    "\n",
    "############################\n",
    "# Pipeline\n",
    "############################\n",
    "\n",
    "def process_gold_label(silver_directory, gold_directory, partitions_list, spark):\n",
    "    \"\"\"\n",
    "    Wrapper function to build all gold tables\n",
    "    \"\"\"\n",
    "    # Read silver tables\n",
    "    orders_df = read_silver_table('orders', silver_directory, spark)\n",
    "\n",
    "    # Build label store\n",
    "    print(\"Building label store...\")\n",
    "    df_label = build_label_store(14, orders_df)\n",
    "\n",
    "    for date_str in tqdm(partitions_list, total=len(partitions_list), desc=\"Saving labels\"):\n",
    "        partition_name = date_str.replace('-','_') + '.parquet'\n",
    "        label_filepath = os.path.join(gold_directory, 'label_store', partition_name)\n",
    "        df_label.filter(col('snapshot_date') == date_str).write.mode('overwrite').parquet(label_filepath)\n",
    "        #df_label_filtered = df_label.filter(col('snapshot_date') == date_str)\n",
    "\n",
    "    print(\"Label store Completed\")\n",
    "\n",
    "    return df_label"
   ]
  },
  {
   "cell_type": "code",
   "execution_count": null,
   "id": "b200137d-ca20-42b9-a3df-0b662024a899",
   "metadata": {},
   "outputs": [],
   "source": [
    "def process_gold_label(silver_directory, gold_directory, partitions_list, spark):\n",
    "    \"\"\"\n",
    "    Wrapper function to build all gold tables\n",
    "    \"\"\"\n",
    "    # Read silver tables\n",
    "    orders_df = read_silver_table('orders', silver_directory, spark)\n",
    "\n",
    "    # Build label store\n",
    "    print(\"Building label store...\")\n",
    "    df_label = build_label_store(14, orders_df)\n",
    "\n",
    "    for date_str in tqdm(partitions_list, total=len(partitions_list), desc=\"Saving labels\"):\n",
    "        partition_name = date_str.replace('-','_') + '.parquet'\n",
    "        label_filepath = os.path.join(gold_directory, 'label_store', partition_name)\n",
    "        df_label.filter(col('snapshot_date') == date_str).write.mode('overwrite').parquet(label_filepath)\n",
    "        #df_label_filtered = df_label.filter(col('snapshot_date') == date_str)\n",
    "\n",
    "    print(\"Label store Completed\")\n",
    "\n",
    "    return df_label"
   ]
  },
  {
   "cell_type": "code",
   "execution_count": null,
   "id": "94120157",
   "metadata": {},
   "outputs": [
    {
     "name": "stdout",
     "output_type": "stream",
     "text": [
      "Building gold feature tables...\n",
      "Building label store...\n"
     ]
    },
    {
     "name": "stderr",
     "output_type": "stream",
     "text": [
      "Saving labels: 100%|██████████| 1/1 [00:00<00:00,  2.19it/s]\n"
     ]
    },
    {
     "name": "stdout",
     "output_type": "stream",
     "text": [
      "Label store Completed\n",
      "Number of rows in label store: 96478\n",
      "Gold feature tables built successfully from start date: ['2017-01-01']\n"
     ]
    }
   ],
   "source": [
    "start_date_str = ['2017-01-01']\n",
    "\n",
    "print(\"Building gold feature tables...\")\n",
    "# Create gold datalake\n",
    "silver_directory = \"datamart/silver\"\n",
    "gold_directory = \"datamart/gold\"\n",
    "\n",
    "if not os.path.exists(gold_directory):\n",
    "    os.makedirs(gold_directory)\n",
    "\n",
    "# Build gold tables\n",
    "y = process_gold_label(silver_directory, gold_directory, start_date_str, spark)\n",
    "\n",
    "# Check for the rows ingested\n",
    "y_pdf = y.toPandas()\n",
    "y_count = y_pdf.shape[0]\n",
    "print(f\"Number of rows in label store: {y_pdf.shape[0]}\")\n",
    "\n",
    "print(f\"Gold feature tables built successfully from start date: {start_date_str}\")"
   ]
  },
  {
   "cell_type": "markdown",
   "id": "70eeb8a3-7737-4556-a85c-e844b47f6454",
   "metadata": {
    "jp-MarkdownHeadingCollapsed": true
   },
   "source": [
    "## Inspect Label Store"
   ]
  },
  {
   "cell_type": "code",
   "execution_count": null,
   "id": "bc20833e-9653-4c4c-9ce0-0023cca719b5",
   "metadata": {},
   "outputs": [],
   "source": []
  },
  {
   "cell_type": "markdown",
   "id": "974a0dd8-3602-42b8-b429-86cb7a2fe872",
   "metadata": {},
   "source": [
    "## Stop Spark Session"
   ]
  },
  {
   "cell_type": "code",
   "execution_count": null,
   "id": "b97a33e6-9799-4a59-9588-40af6b036604",
   "metadata": {},
   "outputs": [],
   "source": [
    "# End spark session\n",
    "spark.stop()\n",
    "\n",
    "print('\\n\\n---completed job---\\n\\n')"
   ]
  }
 ],
 "metadata": {
  "kernelspec": {
   "display_name": "Python 3",
   "language": "python",
   "name": "python3"
  },
  "language_info": {
   "codemirror_mode": {
    "name": "ipython",
    "version": 3
   },
   "file_extension": ".py",
   "mimetype": "text/x-python",
   "name": "python",
   "nbconvert_exporter": "python",
   "pygments_lexer": "ipython3",
   "version": "3.12.11"
  }
 },
 "nbformat": 4,
 "nbformat_minor": 5
}
